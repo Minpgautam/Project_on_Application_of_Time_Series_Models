{
 "cells": [
  {
   "cell_type": "markdown",
   "metadata": {},
   "source": [
    "### About Project:\n",
    "1) This is Project of time series forecasting, not time series analysis. The primary concern of this Project is using historical data to predict the future, not to understand the past.\n",
    "\n",
    "2) This Project is not a treatment of complex time series problems. It does not deals with advanced topics like multi-step sequence forecasts, multivariate time series problems or spatial-temporal prediction problems.\n"
   ]
  },
  {
   "cell_type": "markdown",
   "metadata": {},
   "source": [
    "Time series forecasting can be framed as a supervised learning problem. \n",
    "Let make clear of the terms : \n",
    "\n",
    " Classiﬁcation: A classiﬁcation problem is when the output variable is a category, such as red and blue or disease and no disease.\n",
    "\n",
    " Regression: A regression problem is when the output variable is a real value, such as dollars or weight. The contrived example above is a regression problem.\n",
    "\n",
    " Univariate Time Series: These are datasets where only a single variable is observed at each time, such as temperature each hour. The example in the previous section is a univariate time series dataset.\n",
    "\n",
    " Multivariate Time Series: These are datasets where two or more variables are observed at each time.\n",
    "\n",
    " One-Step Forecast: This is where the next time step (t+1) is predicted.\n",
    "\n",
    " Multi-Step Forecast: This is where two or more future time steps are to be predicted.\n",
    "\n",
    "\n",
    "\n",
    "#### Time Series Analysis\n",
    "When using classical statistics, the primary concern is the analysis of time series. Time series analysis involves developing models that best capture or describe an observed time series in order to understand the underlying causes. This ﬁeld of study seeks the why behind a time series dataset. This often involves making assumptions about the form of the data and decomposing the time series into constitution components. The quality of a descriptive model is determined by how well it describes all available data and the interpretation it provides to better inform the problem domain.\n",
    "#### Time Series Forecasting\n",
    "Making predictions about the future is called extrapolation in the classical statistical handling of time series data. More modern ﬁelds focus on the topic and refer to it as time series forecasting. Forecasting involves taking models ﬁt on historical data and using them to predict future observations. Descriptive models can borrow from the future (i.e. to smooth or remove noise), they only seek to best describe the data. An important distinction in forecasting is that the future is completely unavailable and must only be estimated from what has already happened. The skill of a time series forecasting model is determined by its performance at predicting the future. This is often at the expense of being able to explain why a speciﬁc prediction was made, conﬁdence intervals and even better understanding the underlying causes behind the problem.\n",
    "\n",
    "#### Steps of this project that we will walk through: Template of this project:\n",
    "1) Problem Description\n",
    "2) Test Harness\n",
    "3) Persitence\n",
    "4) Data Analysis\n",
    "5) ARIMA Models\n",
    "6) Model VAlidation"
   ]
  },
  {
   "cell_type": "code",
   "execution_count": 1,
   "metadata": {},
   "outputs": [],
   "source": [
    "# Import the necessary library\n",
    "# Import the necessary library\n",
    "import pandas as pd\n",
    "import numpy as np\n",
    "import matplotlib.pyplot as plt\n",
    "from pandas.tools.plotting import autocorrelation_plot\n",
    "from statsmodels.graphics.tsaplots import plot_pacf\n",
    "from statsmodels.tsa.arima_model import ARIMA, ARMAResults\n",
    "import datetime\n",
    "import sys\n",
    "import seaborn as sns\n",
    "import statsmodels\n",
    "import statsmodels.stats.diagnostic as diag\n",
    "from statsmodels.tsa.stattools import adfuller\n",
    "import statsmodels.api as sm\n",
    "from scipy.stats.mstats import normaltest\n",
    "\n",
    "from matplotlib.pyplot import acorr\n",
    "plt.style.use('fivethirtyeight')\n",
    "%matplotlib inline"
   ]
  },
  {
   "cell_type": "markdown",
   "metadata": {},
   "source": [
    "Following will be used for the reading csv file, here;\n",
    "\n",
    " header=0: We must specify the header information at row 0.\n",
    "\n",
    " parse dates=True: We give the function a hint that data in the ﬁrst column contains dates that need to be parsed.\n",
    "\n",
    " index col=0: We hint that the ﬁrst column contains the index information for the time series.\n",
    "\n",
    " squeeze=True: We hint that we only have one data column and that we are interested in a Series and not a DataFrame.\n"
   ]
  },
  {
   "cell_type": "code",
   "execution_count": 3,
   "metadata": {},
   "outputs": [
    {
     "data": {
      "text/plain": [
       "Month\n",
       "1966-01-01    41\n",
       "1966-02-01    39\n",
       "1966-03-01    50\n",
       "1966-04-01    40\n",
       "1966-05-01    43\n",
       "Name: Robberies, dtype: int64"
      ]
     },
     "execution_count": 3,
     "metadata": {},
     "output_type": "execute_result"
    }
   ],
   "source": [
    "# load the dataset\n",
    "series=pd.read_csv('Boston_robberies.csv',header=0,index_col=0,parse_dates=True,squeeze=True)\n",
    "series.head()"
   ]
  },
  {
   "cell_type": "markdown",
   "metadata": {},
   "source": [
    "##### Problem Description:\n",
    "The problem is to predict the number of monthly armed robberies in Boston, USA from Jan 1966 to Oct 1975. Total 118 observation .Data can be downloaded from DataMarket (https://goo.gl/KxME8)\n",
    "##### Test Harness: \n",
    "To investigate the data and evaluate candidate models we process it into\n",
    "1) Defining a Validation Dataset:\n",
    "The dateset is not current. This means that we cannot easily collect upadtae data to validat the model. Therefore we will pretend that it is Oct 1974 and withhold tha last one year data from anlaysis and model selection . This final year of data will be used to validate the final modle.\n",
    "\n",
    "2) Developing a method for Model Evaluation: Model Evaluation involves two element.\n",
    "i) Performance Measure \n",
    "ii) Test strategy\n"
   ]
  },
  {
   "cell_type": "code",
   "execution_count": 5,
   "metadata": {},
   "outputs": [
    {
     "data": {
      "text/plain": [
       "118"
      ]
     },
     "execution_count": 5,
     "metadata": {},
     "output_type": "execute_result"
    }
   ],
   "source": [
    "len(series)"
   ]
  },
  {
   "cell_type": "code",
   "execution_count": 6,
   "metadata": {},
   "outputs": [
    {
     "data": {
      "text/plain": [
       "118"
      ]
     },
     "execution_count": 6,
     "metadata": {},
     "output_type": "execute_result"
    }
   ],
   "source": [
    "series.size"
   ]
  },
  {
   "cell_type": "code",
   "execution_count": null,
   "metadata": {},
   "outputs": [],
   "source": []
  },
  {
   "cell_type": "code",
   "execution_count": 7,
   "metadata": {},
   "outputs": [
    {
     "ename": "AttributeError",
     "evalue": "'Series' object has no attribute 'info'",
     "output_type": "error",
     "traceback": [
      "\u001b[1;31m---------------------------------------------------------------------------\u001b[0m",
      "\u001b[1;31mAttributeError\u001b[0m                            Traceback (most recent call last)",
      "\u001b[1;32m<ipython-input-7-8cf4ca6d6e0f>\u001b[0m in \u001b[0;36m<module>\u001b[1;34m()\u001b[0m\n\u001b[1;32m----> 1\u001b[1;33m \u001b[0mseries\u001b[0m\u001b[1;33m.\u001b[0m\u001b[0minfo\u001b[0m\u001b[1;33m(\u001b[0m\u001b[1;33m)\u001b[0m  \u001b[1;31m# infromation\u001b[0m\u001b[1;33m\u001b[0m\u001b[0m\n\u001b[0m",
      "\u001b[1;32m~\\Anaconda3\\lib\\site-packages\\pandas\\core\\generic.py\u001b[0m in \u001b[0;36m__getattr__\u001b[1;34m(self, name)\u001b[0m\n\u001b[0;32m   4370\u001b[0m             \u001b[1;32mif\u001b[0m \u001b[0mself\u001b[0m\u001b[1;33m.\u001b[0m\u001b[0m_info_axis\u001b[0m\u001b[1;33m.\u001b[0m\u001b[0m_can_hold_identifiers_and_holds_name\u001b[0m\u001b[1;33m(\u001b[0m\u001b[0mname\u001b[0m\u001b[1;33m)\u001b[0m\u001b[1;33m:\u001b[0m\u001b[1;33m\u001b[0m\u001b[0m\n\u001b[0;32m   4371\u001b[0m                 \u001b[1;32mreturn\u001b[0m \u001b[0mself\u001b[0m\u001b[1;33m[\u001b[0m\u001b[0mname\u001b[0m\u001b[1;33m]\u001b[0m\u001b[1;33m\u001b[0m\u001b[0m\n\u001b[1;32m-> 4372\u001b[1;33m             \u001b[1;32mreturn\u001b[0m \u001b[0mobject\u001b[0m\u001b[1;33m.\u001b[0m\u001b[0m__getattribute__\u001b[0m\u001b[1;33m(\u001b[0m\u001b[0mself\u001b[0m\u001b[1;33m,\u001b[0m \u001b[0mname\u001b[0m\u001b[1;33m)\u001b[0m\u001b[1;33m\u001b[0m\u001b[0m\n\u001b[0m\u001b[0;32m   4373\u001b[0m \u001b[1;33m\u001b[0m\u001b[0m\n\u001b[0;32m   4374\u001b[0m     \u001b[1;32mdef\u001b[0m \u001b[0m__setattr__\u001b[0m\u001b[1;33m(\u001b[0m\u001b[0mself\u001b[0m\u001b[1;33m,\u001b[0m \u001b[0mname\u001b[0m\u001b[1;33m,\u001b[0m \u001b[0mvalue\u001b[0m\u001b[1;33m)\u001b[0m\u001b[1;33m:\u001b[0m\u001b[1;33m\u001b[0m\u001b[0m\n",
      "\u001b[1;31mAttributeError\u001b[0m: 'Series' object has no attribute 'info'"
     ]
    }
   ],
   "source": [
    "series.info()  # infromation\n",
    "# since it is series it will give error"
   ]
  },
  {
   "cell_type": "code",
   "execution_count": 8,
   "metadata": {},
   "outputs": [
    {
     "data": {
      "text/plain": [
       "count    118.000000\n",
       "mean     196.288136\n",
       "std      128.043602\n",
       "min       29.000000\n",
       "25%       85.500000\n",
       "50%      166.000000\n",
       "75%      296.750000\n",
       "max      500.000000\n",
       "Name: Robberies, dtype: float64"
      ]
     },
     "execution_count": 8,
     "metadata": {},
     "output_type": "execute_result"
    }
   ],
   "source": [
    "series.describe()    # gives the descriptive statistics"
   ]
  },
  {
   "cell_type": "code",
   "execution_count": 28,
   "metadata": {},
   "outputs": [],
   "source": [
    "\n",
    "# split the dataset \n",
    "split_point=len(series)-12       # 10% to validation\n",
    "dataset,validation=series[0:split_point],series[split_point:]\n",
    "# convert these to the csv file\n",
    "dataset.to_csv('dataset.csv')\n",
    "validation.to_csv('validation.csv')"
   ]
  },
  {
   "cell_type": "code",
   "execution_count": 29,
   "metadata": {},
   "outputs": [
    {
     "data": {
      "text/plain": [
       "452"
      ]
     },
     "execution_count": 29,
     "metadata": {},
     "output_type": "execute_result"
    }
   ],
   "source": [
    "series[split_point]"
   ]
  },
  {
   "cell_type": "code",
   "execution_count": 31,
   "metadata": {},
   "outputs": [
    {
     "data": {
      "text/plain": [
       "array([ 41,  39,  50,  40,  43,  38,  44,  35,  39,  35,  29,  49,  50,\n",
       "        59,  63,  32,  39,  47,  53,  60,  57,  52,  70,  90,  74,  62,\n",
       "        55,  84,  94,  70, 108, 139, 120,  97, 126, 149, 158, 124, 140,\n",
       "       109, 114,  77, 120, 133, 110,  92,  97,  78,  99, 107, 112,  90,\n",
       "        98, 125, 155, 190, 236, 189, 174, 178, 136, 161, 171, 149, 184,\n",
       "       155, 276, 224, 213, 279, 268, 287, 238, 213, 257, 293, 212, 246,\n",
       "       353, 339, 308, 247, 257, 322, 298, 273, 312, 249, 286, 279, 309,\n",
       "       401, 309, 328, 353, 354, 327, 324, 285, 243, 241, 287, 355, 460,\n",
       "       364, 487], dtype=int64)"
      ]
     },
     "execution_count": 31,
     "metadata": {},
     "output_type": "execute_result"
    }
   ],
   "source": [
    "# Let see the dataset.csv file\n",
    "read=pd.read_csv('dataset.csv',header=None, index_col=0,parse_dates=True,squeeze=True)\n",
    "X=read.values\n",
    "X"
   ]
  },
  {
   "cell_type": "code",
   "execution_count": 32,
   "metadata": {},
   "outputs": [
    {
     "data": {
      "text/plain": [
       "array([ 41.,  39.,  50.,  40.,  43.,  38.,  44.,  35.,  39.,  35.,  29.,\n",
       "        49.,  50.,  59.,  63.,  32.,  39.,  47.,  53.,  60.,  57.,  52.,\n",
       "        70.,  90.,  74.,  62.,  55.,  84.,  94.,  70., 108., 139., 120.,\n",
       "        97., 126., 149., 158., 124., 140., 109., 114.,  77., 120., 133.,\n",
       "       110.,  92.,  97.,  78.,  99., 107., 112.,  90.,  98., 125., 155.,\n",
       "       190., 236., 189., 174., 178., 136., 161., 171., 149., 184., 155.,\n",
       "       276., 224., 213., 279., 268., 287., 238., 213., 257., 293., 212.,\n",
       "       246., 353., 339., 308., 247., 257., 322., 298., 273., 312., 249.,\n",
       "       286., 279., 309., 401., 309., 328., 353., 354., 327., 324., 285.,\n",
       "       243., 241., 287., 355., 460., 364., 487.], dtype=float32)"
      ]
     },
     "execution_count": 32,
     "metadata": {},
     "output_type": "execute_result"
    }
   ],
   "source": [
    "X=X.astype('float32') # convet to float for easy read and operation\n",
    "X"
   ]
  },
  {
   "cell_type": "markdown",
   "metadata": {},
   "source": [
    "The ﬁrst step before getting bogged down in data analysis and modeling is to establish a baseline of performance. This will provide both a template for evaluating models using the proposed test harness and a performance measure by which all more elaborate predictive models can be compared. The baseline prediction for time series forecasting is called the naive forecast, or persistence. This is where the observation from the previous time step is used as the prediction for the observation at the next time step."
   ]
  },
  {
   "cell_type": "code",
   "execution_count": 34,
   "metadata": {},
   "outputs": [
    {
     "name": "stdout",
     "output_type": "stream",
     "text": [
      "Predicted=98.000, Expected=125.000\n",
      "Predicted=125.000, Expected=155.000\n",
      "Predicted=155.000, Expected=190.000\n",
      "Predicted=190.000, Expected=236.000\n",
      "Predicted=236.000, Expected=189.000\n",
      "Predicted=189.000, Expected=174.000\n",
      "Predicted=174.000, Expected=178.000\n",
      "Predicted=178.000, Expected=136.000\n",
      "Predicted=136.000, Expected=161.000\n",
      "Predicted=161.000, Expected=171.000\n",
      "Predicted=171.000, Expected=149.000\n",
      "Predicted=149.000, Expected=184.000\n",
      "Predicted=184.000, Expected=155.000\n",
      "Predicted=155.000, Expected=276.000\n",
      "Predicted=276.000, Expected=224.000\n",
      "Predicted=224.000, Expected=213.000\n",
      "Predicted=213.000, Expected=279.000\n",
      "Predicted=279.000, Expected=268.000\n",
      "Predicted=268.000, Expected=287.000\n",
      "Predicted=287.000, Expected=238.000\n",
      "Predicted=238.000, Expected=213.000\n",
      "Predicted=213.000, Expected=257.000\n",
      "Predicted=257.000, Expected=293.000\n",
      "Predicted=293.000, Expected=212.000\n",
      "Predicted=212.000, Expected=246.000\n",
      "Predicted=246.000, Expected=353.000\n",
      "Predicted=353.000, Expected=339.000\n",
      "Predicted=339.000, Expected=308.000\n",
      "Predicted=308.000, Expected=247.000\n",
      "Predicted=247.000, Expected=257.000\n",
      "Predicted=257.000, Expected=322.000\n",
      "Predicted=322.000, Expected=298.000\n",
      "Predicted=298.000, Expected=273.000\n",
      "Predicted=273.000, Expected=312.000\n",
      "Predicted=312.000, Expected=249.000\n",
      "Predicted=249.000, Expected=286.000\n",
      "Predicted=286.000, Expected=279.000\n",
      "Predicted=279.000, Expected=309.000\n",
      "Predicted=309.000, Expected=401.000\n",
      "Predicted=401.000, Expected=309.000\n",
      "Predicted=309.000, Expected=328.000\n",
      "Predicted=328.000, Expected=353.000\n",
      "Predicted=353.000, Expected=354.000\n",
      "Predicted=354.000, Expected=327.000\n",
      "Predicted=327.000, Expected=324.000\n",
      "Predicted=324.000, Expected=285.000\n",
      "Predicted=285.000, Expected=243.000\n",
      "Predicted=243.000, Expected=241.000\n",
      "Predicted=241.000, Expected=287.000\n",
      "Predicted=287.000, Expected=355.000\n",
      "Predicted=355.000, Expected=460.000\n",
      "Predicted=460.000, Expected=364.000\n",
      "Predicted=364.000, Expected=487.000\n",
      "RMSE: 51.844\n"
     ]
    }
   ],
   "source": [
    "# performance Measure:\n",
    "# since observation are a count of robberies, we will use RMSE\n",
    "from sklearn.metrics import mean_squared_error\n",
    "from math import sqrt\n",
    "train_size=int(len(X)*0.50)   # half\n",
    "train,test=X[0:train_size],X[train_size:]\n",
    "# Walk-forward Validation\n",
    "history=[x for x in train]\n",
    "predictions=list()  # empty list\n",
    "for i in range(len(test)):\n",
    "    yhat=history[-1]    # prediction\n",
    "    predictions.append(yhat)\n",
    "    y=test[i]\n",
    "    history.append(y)\n",
    "    print('Predicted=%.3f, Expected=%.3f'%(yhat,y))\n",
    "# Report of performance\n",
    "rmse=sqrt(mean_squared_error(test,predictions))\n",
    "print('RMSE: %.3f' % rmse)"
   ]
  },
  {
   "cell_type": "markdown",
   "metadata": {},
   "source": [
    "Running the test harness prints the prediction(yhat) and observation(y) for each iteration of the test dataset. The example ends by printing the RMSE for the model. In this case, we can see that the persistence model achieved an RMSE of 51.844. This means that on average, the model was wrong by about 51 robberies for each prediction made. We now have a baseline prediction method and performance"
   ]
  },
  {
   "cell_type": "markdown",
   "metadata": {},
   "source": [
    "#### Data Analysis:\n"
   ]
  },
  {
   "cell_type": "code",
   "execution_count": 35,
   "metadata": {},
   "outputs": [
    {
     "data": {
      "text/plain": [
       "count    106.000000\n",
       "mean     173.103774\n",
       "std      112.231133\n",
       "min       29.000000\n",
       "25%       74.750000\n",
       "50%      144.500000\n",
       "75%      271.750000\n",
       "max      487.000000\n",
       "Name: 1, dtype: float64"
      ]
     },
     "execution_count": 35,
     "metadata": {},
     "output_type": "execute_result"
    }
   ],
   "source": [
    "# Statistics\n",
    "read.describe()"
   ]
  },
  {
   "cell_type": "markdown",
   "metadata": {},
   "source": [
    " The number of observations (count) matches our expectation, meaning we are handling the data correctly.\n",
    "\n",
    " The mean is about 173, which we might consider our level in this series.\n",
    "\n",
    " The standard deviation (average spread from the mean) is relatively large at 112 robberies.\n",
    "\n",
    " The percentiles along with the standard deviation do suggest a large spread to the data"
   ]
  },
  {
   "cell_type": "code",
   "execution_count": 36,
   "metadata": {},
   "outputs": [
    {
     "data": {
      "image/png": "[encoded data removed]",
      "text/plain": [
       "<Figure size 432x288 with 1 Axes>"
      ]
     },
     "metadata": {},
     "output_type": "display_data"
    }
   ],
   "source": [
    "# Line Plot\n",
    "read.plot()\n",
    "plt.show()"
   ]
  },
  {
   "cell_type": "code",
   "execution_count": 41,
   "metadata": {},
   "outputs": [
    {
     "data": {
      "text/plain": [
       "<matplotlib.axes._subplots.AxesSubplot at 0x239c12ced68>"
      ]
     },
     "execution_count": 41,
     "metadata": {},
     "output_type": "execute_result"
    },
    {
     "data": {
      "image/png": "[encoded data removed]",
      "text/plain": [
       "<Figure size 864x576 with 1 Axes>"
      ]
     },
     "metadata": {},
     "output_type": "display_data"
    }
   ],
   "source": [
    "# Change values to log to view more clear plot\n",
    "s=read.apply(lambda x:np.log(x))\n",
    "s.plot(figsize=(12,8))"
   ]
  },
  {
   "cell_type": "markdown",
   "metadata": {},
   "source": [
    " There is an increasing trend of robberies over time.\n",
    "\n",
    " There do not appear to be any obvious outliers.\n",
    "\n",
    " There are relatively large ﬂuctuations from year to year, up and down.\n",
    "\n",
    " The ﬂuctuations at later years appear larger than ﬂuctuations at earlier years.\n",
    "\n",
    " The trend means the dataset is almost certainly non-stationary and the apparent change in ﬂuctuation may also contribute."
   ]
  },
  {
   "cell_type": "code",
   "execution_count": 37,
   "metadata": {},
   "outputs": [
    {
     "data": {
      "image/png": "[encoded data removed]",
      "text/plain": [
       "<Figure size 432x288 with 2 Axes>"
      ]
     },
     "metadata": {},
     "output_type": "display_data"
    }
   ],
   "source": [
    "# Density plot\n",
    "plt.figure(1)\n",
    "plt.subplot(211)\n",
    "read.hist()\n",
    "plt.subplot(212)\n",
    "read.plot(kind='kde')\n",
    "plt.show()"
   ]
  },
  {
   "cell_type": "code",
   "execution_count": 38,
   "metadata": {},
   "outputs": [
    {
     "name": "stderr",
     "output_type": "stream",
     "text": [
      "C:\\Users\\minga\\Anaconda3\\lib\\site-packages\\matplotlib\\axes\\_axes.py:6521: MatplotlibDeprecationWarning: \n",
      "The 'normed' kwarg was deprecated in Matplotlib 2.1 and will be removed in 3.1. Use 'density' instead.\n",
      "  alternative=\"'density'\", removal=\"3.1\")\n"
     ]
    },
    {
     "data": {
      "text/plain": [
       "<matplotlib.axes._subplots.AxesSubplot at 0x239c0fa3320>"
      ]
     },
     "execution_count": 38,
     "metadata": {},
     "output_type": "execute_result"
    },
    {
     "data": {
      "image/png": "[encoded data removed]",
      "text/plain": [
       "<Figure size 432x288 with 1 Axes>"
      ]
     },
     "metadata": {},
     "output_type": "display_data"
    }
   ],
   "source": [
    "# Density Plot and Histogram\n",
    "sns.distplot(read, hist=True, kde=True, \n",
    "             bins=int(180/5), color = 'darkblue', \n",
    "             hist_kws={'edgecolor':'black'},\n",
    "             kde_kws={'linewidth': 4})"
   ]
  },
  {
   "cell_type": "code",
   "execution_count": 46,
   "metadata": {},
   "outputs": [
    {
     "data": {
      "image/png": "[encoded data removed]",
      "text/plain": [
       "<Figure size 432x288 with 1 Axes>"
      ]
     },
     "metadata": {},
     "output_type": "display_data"
    }
   ],
   "source": [
    "from pandas import Grouper\n",
    "from pandas import DataFrame\n",
    "groups=read['1966':'1973'].groupby(Grouper(freq='A'))\n",
    "years=DataFrame()\n",
    "for name,group in groups:\n",
    "    years[name.year]=group.values\n",
    "years.boxplot()\n",
    "plt.show()"
   ]
  },
  {
   "cell_type": "markdown",
   "metadata": {},
   "source": [
    " Some observations from reviewing the plot include:\n",
    " The median values for each year (red line) show a trend that may not be linear.\n",
    "\n",
    " The spread, or middle 50% of the data (blue boxes), diﬀer, but perhaps not consistently over time.\n",
    "\n",
    " The earlier years, perhaps ﬁrst 2, are quite diﬀerent from the rest of the dataset.\n",
    "\n",
    "The observations suggest that the year-to-year ﬂuctuations may not be systematic and hard to model. They also suggest that there may be some beneﬁt in clipping the ﬁrst two years of data from modeling if it is indeed quite diﬀerent. This yearly view of the data is an interesting avenue and could be pursued further by looking at summary statistics from year-to-year and changes in summary stats from year-to-year"
   ]
  },
  {
   "cell_type": "markdown",
   "metadata": {},
   "source": [
    "#### ARIMA Models\n",
    "we will develop Autoregressive Integrated Moving Average, or ARIMA, models for the problem. We will approach modeling by both manual and automatic conﬁguration of the ARIMA model. This will be followed by a third step of investigating the residual errors of the chosen model. This section is broken down into 3 steps:\n",
    "1. Manually Conﬁgure the ARIMA.\n",
    "\n",
    "2. Automatically Conﬁgure the ARIMA.\n",
    "\n",
    "3. Review Residual Errors."
   ]
  },
  {
   "cell_type": "markdown",
   "metadata": {},
   "source": [
    "###### 1) Manually Configured ARIMA:"
   ]
  },
  {
   "cell_type": "markdown",
   "metadata": {},
   "source": [
    "Since in practical the time series is certainly non-stationary, we can make it stationary by first differencing the series and using a statistical test to confirm that the result is statioary."
   ]
  },
  {
   "cell_type": "code",
   "execution_count": 49,
   "metadata": {},
   "outputs": [],
   "source": [
    "from pandas import Series\n",
    "# Create a differenced time series:\n",
    "def difference(datapoint):\n",
    "    diff=list()  # create empty list\n",
    "    for i in range (1,len(datapoint)):\n",
    "        value=datapoint[i]-datapoint[i-1]\n",
    "        diff.append(value)\n",
    "    return Series(diff)\n",
    "    \n",
    "X=read.values\n",
    "#difference data\n",
    "stationary=difference(X)\n",
    "stationary.index=read.index[1:]"
   ]
  },
  {
   "cell_type": "code",
   "execution_count": 52,
   "metadata": {},
   "outputs": [
    {
     "data": {
      "text/plain": [
       "0\n",
       "1966-02-01    -2\n",
       "1966-03-01    11\n",
       "1966-04-01   -10\n",
       "1966-05-01     3\n",
       "1966-06-01    -5\n",
       "dtype: int64"
      ]
     },
     "execution_count": 52,
     "metadata": {},
     "output_type": "execute_result"
    }
   ],
   "source": [
    "stationary.head()"
   ]
  },
  {
   "cell_type": "code",
   "execution_count": 60,
   "metadata": {},
   "outputs": [
    {
     "name": "stdout",
     "output_type": "stream",
     "text": [
      "Augmented Dickey-Fuller Test:\n",
      "ADF Test Statistic : -3.9809463038611255\n",
      "p-value : 0.0015136348242121929\n",
      "#Lags Used : 11\n",
      "Number of Observations Used : 93\n",
      "Critical Values : {'1%': -3.502704609582561, '5%': -2.8931578098779522, '10%': -2.583636712914788}\n",
      "strong evidence against the null hypothesis, reject the null hypothesis. Data has no unit root and is stationary\n"
     ]
    }
   ],
   "source": [
    "# Check if stationary\n",
    "result=adfuller(stationary)\n",
    "print('Augmented Dickey-Fuller Test:')\n",
    "labels = ['ADF Test Statistic','p-value','#Lags Used','Number of Observations Used','Critical Values']\n",
    "\n",
    "for value,label in zip(result,labels):\n",
    "    print(label+' : '+str(value) )\n",
    "if result[1] <= 0.05:\n",
    "        print(\"strong evidence against the null hypothesis, reject the null hypothesis. Data has no unit root and is stationary\")\n",
    "else:\n",
    "        print(\"weak evidence against null hypothesis, time series has a unit root, indicating it is non-stationary \")"
   ]
  },
  {
   "cell_type": "code",
   "execution_count": 61,
   "metadata": {},
   "outputs": [],
   "source": [
    "# Test value show -3.98094 is smaller than the critical value at 5% i.e\n",
    "# -2.893. This mean we can reject null hypothesis."
   ]
  },
  {
   "cell_type": "markdown",
   "metadata": {},
   "source": [
    "The next step is to selct the Autoregression (AR) and Moving Average (MA) parameters, p and q respectively.We can do this by Autocorrelation function (ACF) and Partial Autocorrelation function (PACF) plots:"
   ]
  },
  {
   "cell_type": "code",
   "execution_count": 64,
   "metadata": {},
   "outputs": [
    {
     "name": "stderr",
     "output_type": "stream",
     "text": [
      "C:\\Users\\minga\\Anaconda3\\lib\\site-packages\\statsmodels\\regression\\linear_model.py:1283: RuntimeWarning: invalid value encountered in sqrt\n",
      "  return rho, np.sqrt(sigmasq)\n"
     ]
    },
    {
     "data": {
      "image/png": "[encoded data removed]",
      "text/plain": [
       "<Figure size 432x288 with 2 Axes>"
      ]
     },
     "metadata": {},
     "output_type": "display_data"
    }
   ],
   "source": [
    "from statsmodels.graphics.tsaplots import plot_acf,plot_pacf\n",
    "plt.figure()\n",
    "plt.subplot(211)\n",
    "plot_acf(read,ax=plt.gca())\n",
    "plt.subplot(212)\n",
    "plot_pacf(read,ax=plt.gca())\n",
    "plt.show()"
   ]
  },
  {
   "cell_type": "code",
   "execution_count": 63,
   "metadata": {},
   "outputs": [
    {
     "name": "stderr",
     "output_type": "stream",
     "text": [
      "C:\\Users\\minga\\Anaconda3\\lib\\site-packages\\statsmodels\\regression\\linear_model.py:1283: RuntimeWarning: invalid value encountered in sqrt\n",
      "  return rho, np.sqrt(sigmasq)\n"
     ]
    },
    {
     "data": {
      "image/png": "[encoded data removed]",
      "text/plain": [
       "<Figure size 864x576 with 2 Axes>"
      ]
     },
     "metadata": {},
     "output_type": "display_data"
    }
   ],
   "source": [
    "# OR\n",
    "\n",
    "#plots \n",
    "%matplotlib inline\n",
    "fig = plt.figure(figsize=(12,8))\n",
    "ax1 = fig.add_subplot(211)\n",
    "fig = sm.graphics.tsa.plot_acf(read, ax=ax1)\n",
    "ax2 = fig.add_subplot(212)\n",
    "fig = sm.graphics.tsa.plot_pacf(read, ax=ax2)"
   ]
  },
  {
   "cell_type": "markdown",
   "metadata": {},
   "source": [
    "The ACF shows a signiﬁcant lag for 10-11 months.\n",
    " The PACF shows a signiﬁcant lag for perhaps 2 months.\n",
    "\n",
    " Both the ACF and PACF show a drop-oﬀ at the same point, perhaps suggesting a mix of AR and MA.\n",
    "\n",
    "A good starting point for the p and q values is 1 or 2\n",
    "This quick analysis suggests an ARIMA(11,1,2) on the raw data may be a good starting point. Experimentation shows that this conﬁguration of ARIMA does not converge and results in errors by the underlying library, as do similarly large AR values. Some experimentation shows that the model does not appear to be stable, with non-zero AR and MA orders deﬁned at the same time. The model can be simpliﬁed to ARIMA(0,1,2)."
   ]
  },
  {
   "cell_type": "code",
   "execution_count": 68,
   "metadata": {},
   "outputs": [
    {
     "name": "stdout",
     "output_type": "stream",
     "text": [
      "Predictied=102.710, Expected=125.000\n",
      "Predictied=118.868, Expected=155.000\n",
      "Predictied=141.099, Expected=190.000\n",
      "Predictied=176.593, Expected=236.000\n",
      "Predictied=233.418, Expected=189.000\n",
      "Predictied=186.905, Expected=174.000\n",
      "Predictied=184.846, Expected=178.000\n",
      "Predictied=183.763, Expected=136.000\n",
      "Predictied=146.180, Expected=161.000\n",
      "Predictied=171.279, Expected=171.000\n",
      "Predictied=170.196, Expected=149.000\n",
      "Predictied=154.425, Expected=184.000\n",
      "Predictied=185.707, Expected=155.000\n",
      "Predictied=157.284, Expected=276.000\n",
      "Predictied=245.280, Expected=224.000\n",
      "Predictied=222.242, Expected=213.000\n",
      "Predictied=219.698, Expected=279.000\n",
      "Predictied=261.506, Expected=268.000\n",
      "Predictied=264.287, Expected=287.000\n",
      "Predictied=282.759, Expected=238.000\n",
      "Predictied=255.843, Expected=213.000\n",
      "Predictied=235.189, Expected=257.000\n",
      "Predictied=257.622, Expected=293.000\n",
      "Predictied=280.345, Expected=212.000\n",
      "Predictied=235.564, Expected=246.000\n",
      "Predictied=255.342, Expected=353.000\n",
      "Predictied=318.613, Expected=339.000\n",
      "Predictied=310.335, Expected=308.000\n",
      "Predictied=306.789, Expected=247.000\n",
      "Predictied=270.213, Expected=257.000\n",
      "Predictied=283.318, Expected=322.000\n",
      "Predictied=316.063, Expected=298.000\n",
      "Predictied=294.466, Expected=273.000\n",
      "Predictied=289.635, Expected=312.000\n",
      "Predictied=314.759, Expected=249.000\n",
      "Predictied=268.675, Expected=286.000\n",
      "Predictied=303.095, Expected=279.000\n",
      "Predictied=286.441, Expected=309.000\n",
      "Predictied=309.455, Expected=401.000\n",
      "Predictied=363.141, Expected=309.000\n",
      "Predictied=304.979, Expected=328.000\n",
      "Predictied=336.240, Expected=353.000\n",
      "Predictied=342.814, Expected=354.000\n",
      "Predictied=347.675, Expected=327.000\n",
      "Predictied=335.842, Expected=324.000\n",
      "Predictied=338.449, Expected=285.000\n",
      "Predictied=314.714, Expected=243.000\n",
      "Predictied=290.336, Expected=241.000\n",
      "Predictied=280.614, Expected=287.000\n",
      "Predictied=302.079, Expected=355.000\n",
      "Predictied=340.210, Expected=460.000\n",
      "Predictied=405.172, Expected=364.000\n",
      "Predictied=333.755, Expected=487.000\n",
      "RMSE: 49.821\n"
     ]
    }
   ],
   "source": [
    "# let prepare the data \n",
    "X=read.values\n",
    "X=X.astype('float32')\n",
    "train_size=int(len(X)*0.50)\n",
    "train,test=X[0:train_size],X[train_size:]\n",
    "# Walk - forward validation\n",
    "history=[x for x in train]\n",
    "predictions=list()\n",
    "for i in range(len(test)):\n",
    "    # predict\n",
    "    model=ARIMA(history,order=(0,1,2))\n",
    "    model_fit=model.fit(disp=0)\n",
    "    yhat=model_fit.forecast()[0]\n",
    "    predictions.append(yhat)\n",
    "    # y(obs) observation \n",
    "    obs=test[i]\n",
    "    history.append(obs)\n",
    "    print('Predictied=%.3f, Expected=%.3f' %(yhat,obs))\n",
    "# Report of performance\n",
    "rmse=sqrt(mean_squared_error(test,predictions))\n",
    "print('RMSE: %.3f' % rmse)"
   ]
  },
  {
   "cell_type": "markdown",
   "metadata": {},
   "source": [
    "This is a good start, but we may be able to get improved results with a better conﬁgured ARIMA model.\n"
   ]
  },
  {
   "cell_type": "markdown",
   "metadata": {},
   "source": [
    "#### Grid Search ARIMA Hyperparameters\n",
    "Many ARIMA conﬁgurations are unstable on this dataset, but there may be other hyperparameters that result in a well-performing model. Here, we will search values of p, d, and q for combinations that do not result in error, and ﬁnd the combination that results in the best performance. We will use a grid search to explore all combinations in a subset of integer values. Speciﬁcally, we will search all combinations of the following parameters:\n",
    "\n",
    " p: 0 to 12.\n",
    "p -> Periods taken for auto regressive model\n",
    "\n",
    " d: 0 to 3.\n",
    "d -> Integrated order, difference\n",
    "\n",
    " q: 0 to 12.\n",
    "q -> Periods in moving average model\n",
    "\n",
    "This is (p,d,q)=(13×4×13), or 676, runs of the test harness and will take some time to execute. "
   ]
  },
  {
   "cell_type": "code",
   "execution_count": 81,
   "metadata": {},
   "outputs": [
    {
     "name": "stdout",
     "output_type": "stream",
     "text": [
      "ARIMA (0, 1, 0) AIC=1070.350\n",
      "ARIMA (0, 1, 1) AIC=1060.903\n",
      "ARIMA (0, 1, 2) AIC=1060.208\n",
      "ARIMA (0, 1, 3) AIC=1059.397\n",
      "ARIMA (1, 1, 0) AIC=1064.442\n",
      "ARIMA (1, 1, 1) AIC=1055.695\n",
      "ARIMA (1, 1, 2) AIC=1057.050\n",
      "ARIMA (2, 1, 0) AIC=1062.890\n",
      "ARIMA (2, 1, 1) AIC=1057.090\n",
      "ARIMA (2, 1, 2) AIC=1059.372\n",
      "ARIMA (3, 1, 0) AIC=1064.559\n",
      "ARIMA (3, 1, 1) AIC=1058.991\n",
      "ARIMA (3, 1, 2) AIC=1061.085\n",
      "ARIMA (3, 1, 3) AIC=1053.651\n",
      "ARIMA (4, 1, 0) AIC=1065.160\n",
      "ARIMA (4, 1, 1) AIC=1060.499\n",
      "ARIMA (4, 1, 2) AIC=1062.049\n",
      "ARIMA (4, 1, 3) AIC=1055.389\n",
      "ARIMA (5, 1, 0) AIC=1066.609\n",
      "ARIMA (5, 1, 1) AIC=1068.145\n",
      "ARIMA (5, 1, 2) AIC=1063.952\n",
      "ARIMA (5, 1, 3) AIC=1056.491\n",
      "Best Model is : (3, 1, 3)\n"
     ]
    }
   ],
   "source": [
    "# Note : with the best model show (3,1,3) it shows error. let at below do \n",
    "# try other way.\n",
    "import warnings\n",
    "warnings.filterwarnings('ignore')\n",
    "ararray =read.values\n",
    "pdq=[]\n",
    "aic=[]\n",
    "d=1\n",
    "for p in range(6):\n",
    "    for q in range(4):\n",
    "        \n",
    "        try:\n",
    "            model = ARIMA(ararray,order=(p,d,q)) \n",
    "            arima_results = model.fit()\n",
    "            aic.append(arima_results.aic)\n",
    "            pdq.append((p,d,q))\n",
    "            print('ARIMA %s AIC=%.3f' %((p,d,q),arima_results.aic))\n",
    "        except:\n",
    "            continue\n",
    "keys = pdq\n",
    "values = aic\n",
    "\n",
    "d = dict(zip(keys, values))\n",
    "minaic=min(d, key=d.get)\n",
    "\n",
    "for i in range(3):\n",
    "    p=minaic[0]\n",
    "    d=minaic[1]\n",
    "    q=minaic[2]\n",
    "print (\"Best Model is :\", (p,d,q))\n",
    "\n",
    "#p,d,q \n",
    "#p -> Periods taken for auto regressive model\n",
    "#d -> Integrated order, difference\n",
    "#q -> Periods in moving average model"
   ]
  },
  {
   "cell_type": "code",
   "execution_count": 86,
   "metadata": {},
   "outputs": [
    {
     "name": "stdout",
     "output_type": "stream",
     "text": [
      "ARIMA(0, 0, 0) RMSE=175.285\n",
      "ARIMA(0, 0, 1) RMSE=107.221\n",
      "ARIMA(0, 1, 0) RMSE=54.343\n",
      "ARIMA(0, 1, 1) RMSE=52.362\n",
      "ARIMA(0, 1, 2) RMSE=51.007\n",
      "ARIMA(0, 1, 3) RMSE=53.009\n",
      "ARIMA(0, 2, 0) RMSE=87.242\n",
      "ARIMA(0, 2, 1) RMSE=55.084\n",
      "ARIMA(1, 0, 0) RMSE=55.085\n",
      "ARIMA(1, 1, 0) RMSE=52.916\n",
      "ARIMA(1, 2, 0) RMSE=73.795\n",
      "ARIMA(2, 0, 0) RMSE=53.853\n",
      "ARIMA(2, 1, 0) RMSE=52.555\n",
      "ARIMA(2, 1, 1) RMSE=52.512\n",
      "ARIMA(2, 2, 0) RMSE=62.568\n",
      "ARIMA(2, 2, 1) RMSE=53.480\n",
      "ARIMA(3, 1, 0) RMSE=53.519\n",
      "ARIMA(3, 1, 1) RMSE=51.576\n",
      "ARIMA(3, 2, 0) RMSE=63.559\n",
      "ARIMA(3, 2, 1) RMSE=54.393\n",
      "ARIMA(4, 1, 0) RMSE=52.686\n",
      "ARIMA(4, 1, 1) RMSE=53.346\n",
      "ARIMA(4, 2, 0) RMSE=59.957\n",
      "ARIMA(4, 2, 1) RMSE=53.773\n",
      "ARIMA(5, 1, 0) RMSE=53.283\n",
      "ARIMA(5, 1, 1) RMSE=54.303\n",
      "ARIMA(5, 2, 0) RMSE=60.894\n",
      "ARIMA(5, 2, 1) RMSE=54.219\n",
      "ARIMA(6, 1, 0) RMSE=53.622\n",
      "ARIMA(6, 2, 0) RMSE=61.965\n",
      "ARIMA(7, 1, 0) RMSE=52.825\n",
      "ARIMA(7, 1, 1) RMSE=52.515\n",
      "ARIMA(7, 2, 0) RMSE=60.754\n",
      "ARIMA(8, 1, 0) RMSE=53.561\n",
      "ARIMA(8, 2, 0) RMSE=61.436\n",
      "Best ARIMA(0, 1, 2) RMSE=51.007\n"
     ]
    }
   ],
   "source": [
    "def evaluate_arima_model(X, arima_order): \n",
    "    # prepare training dataset \n",
    "    X = X.astype('float32') \n",
    "    train_size = int(len(X) * 0.50) \n",
    "    train, test = X[0:train_size], X[train_size:] \n",
    "    history = [x for x in train] \n",
    "    # make predictions \n",
    "    predictions = list() \n",
    "    for t in range(len(test)): \n",
    "        model = ARIMA(history, order=arima_order) \n",
    "        model_fit = model.fit(disp=0) \n",
    "        yhat = model_fit.forecast()[0] \n",
    "        predictions.append(yhat) \n",
    "        history.append(test[t]) \n",
    "    # calculate out of sample error \n",
    "    rmse = sqrt(mean_squared_error(test, predictions)) \n",
    "    return rmse\n",
    "# evaluate combinations of p, d and q values for an ARIMA model \n",
    "def evaluate_models(dataset, p_values, d_values, q_values): \n",
    "    dataset = dataset.astype('float32') \n",
    "    best_score, best_cfg = float(\"inf\"), None \n",
    "    for p in p_values: \n",
    "        for d in d_values: \n",
    "            for q in q_values: \n",
    "                order = (p,d,q) \n",
    "                try: \n",
    "                    rmse = evaluate_arima_model(dataset, order) \n",
    "                    if rmse < best_score: \n",
    "                        best_score, best_cfg = rmse, order \n",
    "                    print('ARIMA%s RMSE=%.3f' % (order,rmse)) \n",
    "                except: \n",
    "                    continue \n",
    "    print('Best ARIMA%s RMSE=%.3f' % (best_cfg, best_score))\n",
    "# evaluate parameters \n",
    "p_values = range(0,13) \n",
    "d_values = range(0, 4) \n",
    "q_values = range(0, 13) \n",
    "warnings.filterwarnings(\"ignore\") \n",
    "evaluate_models(read.values, p_values, d_values, q_values)\n",
    "\n"
   ]
  },
  {
   "cell_type": "markdown",
   "metadata": {},
   "source": [
    "#### Review Residual Errors\n",
    "A good ﬁnal check of a model is to review residual forecast errors. Ideally, the distribution of residual errors should be a Gaussian with a zero mean. We can check this by plotting the residuals with a histogram and density plots. The example below calculates the residual errors for predictions on the test set and creates these density plots.\n"
   ]
  },
  {
   "cell_type": "code",
   "execution_count": 87,
   "metadata": {},
   "outputs": [
    {
     "data": {
      "image/png": "[encoded data removed]",
      "text/plain": [
       "<Figure size 432x288 with 2 Axes>"
      ]
     },
     "metadata": {},
     "output_type": "display_data"
    }
   ],
   "source": [
    "# prepare data\n",
    "X = read.values\n",
    "X = X.astype('float32')\n",
    "train_size = int(len(X) * 0.50) \n",
    "train, test = X[0:train_size], X[train_size:]\n",
    "# walk-forward validation\n",
    "history = [x for x in train] \n",
    "predictions = list() \n",
    "for i in range(len(test)): \n",
    "# predict\n",
    "    model = ARIMA(history, order=(0,1,2)) \n",
    "    model_fit = model.fit(disp=0) \n",
    "    yhat = model_fit.forecast()[0] \n",
    "    predictions.append(yhat) \n",
    "    # observation \n",
    "    obs = test[i] \n",
    "    history.append(obs) \n",
    "# errors \n",
    "residuals = [test[i]-predictions[i] for i in range(len(test))] \n",
    "residuals = DataFrame(residuals) \n",
    "plt.figure() \n",
    "plt.subplot(211) \n",
    "residuals.hist(ax=plt.gca()) \n",
    "plt.subplot(212) \n",
    "residuals.plot(kind='kde', ax=plt.gca()) \n",
    "plt.show()\n"
   ]
  },
  {
   "cell_type": "markdown",
   "metadata": {},
   "source": [
    "The graphs suggest a Gaussian-like distribution with a longer right tail. This is perhaps a sign that the predictions are biased, and in this case that perhaps a power-based transform of the raw data before modeling might be useful.\n",
    "It is also a good idea to check the time series of the residual errors for any type of autocorrelation. If present, it would suggest that the model has more opportunity to model the temporal structure in the data. The example below re-calculates the residual errors and creates ACF and PACF plots to check for any signiﬁcant autocorrelation.\n"
   ]
  },
  {
   "cell_type": "code",
   "execution_count": 89,
   "metadata": {},
   "outputs": [
    {
     "data": {
      "image/png": "[encoded data removed]",
      "text/plain": [
       "<Figure size 864x576 with 2 Axes>"
      ]
     },
     "metadata": {},
     "output_type": "display_data"
    }
   ],
   "source": [
    "# ACF and PACF plot of the forecast residual errors:\n",
    "plt.figure(figsize=(12,8))\n",
    "\n",
    "plt.subplot(211)\n",
    "plot_acf(residuals,ax=plt.gca())\n",
    "plt.subplot(212)\n",
    "plot_pacf(residuals,ax=plt.gca())\n",
    "plt.show()"
   ]
  },
  {
   "cell_type": "markdown",
   "metadata": {},
   "source": [
    "The results suggest that what little autocorrelation is present in the time series has been captured by the model.\n"
   ]
  },
  {
   "cell_type": "markdown",
   "metadata": {},
   "source": [
    "#### Box-Cox Transformed Dataset\n",
    "The Box-Cox transform is a method that is able to evaluate a suite of power transforms, including, but not limited to, log, square root, and reciprocal transforms of the data. The example below performs a log transform of the data and generates some plots to review the eﬀect on the time series.\n"
   ]
  },
  {
   "cell_type": "code",
   "execution_count": 92,
   "metadata": {},
   "outputs": [
    {
     "name": "stdout",
     "output_type": "stream",
     "text": [
      " Lambda: 0.260060\n"
     ]
    },
    {
     "data": {
      "image/png": "[encoded data removed]",
      "text/plain": [
       "<Figure size 864x432 with 3 Axes>"
      ]
     },
     "metadata": {},
     "output_type": "display_data"
    }
   ],
   "source": [
    "# plot of box-cox transformed dataset\n",
    "from scipy.stats import boxcox\n",
    "from statsmodels.graphics.gofplots import qqplot\n",
    "X=read.values\n",
    "transformed,lam=boxcox(X)\n",
    "print( ' Lambda: %f' % lam)\n",
    "plt.figure(figsize=(12,6))\n",
    "plt.subplot(311)\n",
    "# line plot\n",
    "plt.plot(transformed)\n",
    "# histogram\n",
    "plt.subplot(312)\n",
    "plt.hist(transformed)\n",
    "# q-q plot\n",
    "plt.subplot(313)\n",
    "qqplot(transformed,line='r',ax=plt.gca())\n",
    "\n",
    "plt.show()"
   ]
  },
  {
   "cell_type": "markdown",
   "metadata": {},
   "source": [
    " a line chart of the transformed time series, a histogram showing the distribution of transformed values, and a Q-Q plot showing how the distribution of values compared to an idealized Gaussian distribution. Some observations from these plots are follows:\n",
    " \n",
    " The large ﬂuctuations have been removed from the line plot of the time series.\n",
    "\n",
    " The histogram shows a ﬂatter or more uniform (well behaved) distribution of values.\n",
    "\n",
    " The Q-Q plot is reasonable, but still not a perfect ﬁt for a Gaussian distribution."
   ]
  },
  {
   "cell_type": "markdown",
   "metadata": {},
   "source": [
    "Undoubtedly, the Box-Cox transform has done something to the time series and may be useful. Before proceeding to test the ARIMA model with the transformed data, we must have a way to reverse the transform in order to convert predictions made with a model trained on the transformed data back into the original scale. The boxcox() function used in the example ﬁnds an ideal lambda value by optimizing a cost function. The lambda is used in the following\n",
    "\n",
    "![title](C:\\Users\\minga\\Pictures\\timeseries.png)\n"
   ]
  },
  {
   "cell_type": "code",
   "execution_count": 94,
   "metadata": {},
   "outputs": [],
   "source": [
    "from IPython.display import Image\n",
    "from math import log,exp"
   ]
  },
  {
   "cell_type": "code",
   "execution_count": 95,
   "metadata": {},
   "outputs": [],
   "source": [
    "# Invert Box-cox transform\n",
    "def boxcox_inv(value,lam):\n",
    "    if lam==0:\n",
    "        return exp(value)\n",
    "    return exp(log(lam*value + 1)/lam)    # this is the formula for inverse boxcox"
   ]
  },
  {
   "cell_type": "code",
   "execution_count": 99,
   "metadata": {},
   "outputs": [
    {
     "name": "stdout",
     "output_type": "stream",
     "text": [
      "Predicted= 104.062, Expected= 125.000\n",
      "Predicted= 119.208, Expected= 155.000\n",
      "Predicted= 138.902, Expected= 190.000\n",
      "Predicted= 166.143, Expected= 236.000\n",
      "Predicted= 234.418, Expected= 189.000\n",
      "Predicted= 183.613, Expected= 174.000\n",
      "Predicted= 184.409, Expected= 178.000\n",
      "Predicted= 186.641, Expected= 136.000\n",
      "Predicted= 154.300, Expected= 161.000\n",
      "Predicted= 175.672, Expected= 171.000\n",
      "Predicted= 174.172, Expected= 149.000\n",
      "Predicted= 159.915, Expected= 184.000\n",
      "Predicted= 187.303, Expected= 155.000\n",
      "Predicted= 161.656, Expected= 276.000\n",
      "Predicted= 244.354, Expected= 224.000\n",
      "Predicted= 212.416, Expected= 213.000\n",
      "Predicted= 221.180, Expected= 279.000\n",
      "Predicted= 262.629, Expected= 268.000\n",
      "Predicted= 260.126, Expected= 287.000\n",
      "Predicted= 283.320, Expected= 238.000\n",
      "Predicted= 255.089, Expected= 213.000\n",
      "Predicted= 241.692, Expected= 257.000\n",
      "Predicted= 267.306, Expected= 293.000\n",
      "Predicted= 286.371, Expected= 212.000\n",
      "Predicted= 237.881, Expected= 246.000\n",
      "Predicted= 265.193, Expected= 353.000\n",
      "Predicted= 323.314, Expected= 339.000\n",
      "Predicted= 318.589, Expected= 308.000\n",
      "Predicted= 315.815, Expected= 247.000\n",
      "Predicted= 279.552, Expected= 257.000\n",
      "Predicted= 289.122, Expected= 322.000\n",
      "Predicted= 323.729, Expected= 298.000\n",
      "Predicted= 305.197, Expected= 273.000\n",
      "Predicted= 297.090, Expected= 312.000\n",
      "Predicted= 322.529, Expected= 249.000\n",
      "Predicted= 275.873, Expected= 286.000\n",
      "Predicted= 307.548, Expected= 279.000\n",
      "Predicted= 291.949, Expected= 309.000\n",
      "Predicted= 315.577, Expected= 401.000\n",
      "Predicted= 369.477, Expected= 309.000\n",
      "Predicted= 316.858, Expected= 328.000\n",
      "Predicted= 345.389, Expected= 353.000\n",
      "Predicted= 353.509, Expected= 354.000\n",
      "Predicted= 358.417, Expected= 327.000\n",
      "Predicted= 345.137, Expected= 324.000\n",
      "Predicted= 346.405, Expected= 285.000\n",
      "Predicted= 318.016, Expected= 243.000\n",
      "Predicted= 286.562, Expected= 241.000\n",
      "Predicted= 276.253, Expected= 287.000\n",
      "Predicted= 299.811, Expected= 355.000\n",
      "Predicted= 338.997, Expected= 460.000\n",
      "Predicted= 404.509, Expected= 364.000\n",
      "Predicted= 349.336, Expected= 487.000\n",
      "RMSE: 49.443\n"
     ]
    }
   ],
   "source": [
    "# prepare data\n",
    "X = read.values\n",
    "X = X.astype('float32')\n",
    "train_size = int(len(X) * 0.50) \n",
    "train, test = X[0:train_size], X[train_size:]\n",
    "# walk-forward validation\n",
    "history = [x for x in train] \n",
    "predictions = list() \n",
    "for i in range(len(test)): \n",
    "    # transform\n",
    "    transformed,lam=boxcox(history)\n",
    "    if lam<-5:\n",
    "        transformed,lam=history,1\n",
    "     # predict\n",
    "    model = ARIMA(transformed, order=(0,1,2)) \n",
    "    model_fit = model.fit(disp=0) \n",
    "    yhat = model_fit.forecast()[0] \n",
    "    # invert transformed prediction\n",
    "    yhat=boxcox_inv(yhat,lam)\n",
    "    predictions.append(yhat) \n",
    "    # observation \n",
    "    obs = test[i] \n",
    "    history.append(obs) \n",
    "    print('Predicted= %.3f, Expected= %.3f' % (yhat,obs))\n",
    "# report performance\n",
    "rmse=sqrt(mean_squared_error(test,predictions))\n",
    "print('RMSE: %.3f' %rmse)"
   ]
  },
  {
   "cell_type": "markdown",
   "metadata": {},
   "source": [
    "#### Model Validation\n",
    "After models have been developed and a ﬁnal model selected, it must be validated and ﬁnalized. Validation is an optional part of the process, but one that provides a last check to ensure we have not fooled or lied to ourselves."
   ]
  },
  {
   "cell_type": "code",
   "execution_count": 101,
   "metadata": {},
   "outputs": [],
   "source": [
    "#\n",
    "X=read.values\n",
    "X=X.astype('float32')\n",
    "# transform\n",
    "transformed,lam=boxcox(X)\n",
    "\n",
    "     # predict\n",
    "model = ARIMA(transformed, order=(0,1,2)) \n",
    "model_fit = model.fit(disp=0) \n",
    "# Save the model\n",
    "model_fit.save('model.pkl')\n",
    "#this file is ARIMA result object from the call ARIMA.fit(), it includes all coefficients and all other internal\n",
    "# data returned when fitting the model.\n",
    "np.save('model_lambda.npy',[lam])\n",
    "#This file lambda value stored as a one-row, one-column numpy array"
   ]
  },
  {
   "cell_type": "markdown",
   "metadata": {},
   "source": [
    "This is probably overkill and all that is really needed for operational use are the AR and MA coeﬃcients from the model, the d parameter for the number of diﬀerences, perhaps the lag observations and model residuals, and the lambda value for the transform.\n"
   ]
  },
  {
   "cell_type": "code",
   "execution_count": 106,
   "metadata": {},
   "outputs": [],
   "source": [
    "from statsmodels.tsa.arima_model import ARIMAResults\n",
    "from math import exp,log \n",
    "import numpy as np"
   ]
  },
  {
   "cell_type": "code",
   "execution_count": 107,
   "metadata": {},
   "outputs": [],
   "source": [
    "# invert box-cox transform \n",
    "def boxcox_inverse(value, lam): \n",
    "    if lam == 0: \n",
    "        return exp(value) \n",
    "    return exp(log(lam * value + 1) / lam)\n"
   ]
  },
  {
   "cell_type": "code",
   "execution_count": 108,
   "metadata": {},
   "outputs": [
    {
     "name": "stdout",
     "output_type": "stream",
     "text": [
      "Predicted: 452.043\n"
     ]
    }
   ],
   "source": [
    "model_fit = ARIMAResults.load('model.pkl') \n",
    "lam = np.load('model_lambda.npy') \n",
    "yhat = model_fit.forecast()[0] \n",
    "yhat = boxcox_inverse(yhat, lam) \n",
    "print('Predicted: %.3f' % yhat)"
   ]
  },
  {
   "cell_type": "code",
   "execution_count": null,
   "metadata": {},
   "outputs": [],
   "source": []
  }
 ],
 "metadata": {
  "kernelspec": {
   "display_name": "Python 3",
   "language": "python",
   "name": "python3"
  },
  "language_info": {
   "codemirror_mode": {
    "name": "ipython",
    "version": 3
   },
   "file_extension": ".py",
   "mimetype": "text/x-python",
   "name": "python",
   "nbconvert_exporter": "python",
   "pygments_lexer": "ipython3",
   "version": "3.6.5"
  }
 },
 "nbformat": 4,
 "nbformat_minor": 2
}
