{
 "cells": [
  {
   "cell_type": "markdown",
   "metadata": {},
   "source": [
    "## Project"
   ]
  },
  {
   "cell_type": "markdown",
   "metadata": {},
   "source": [
    "#### Problem Statement:\n",
    "Pick up the following stocks and generate forecasts accordingly\n",
    "Stocks:\n",
    "1. NASDAQ.AAPL\n",
    "2. NASDAQ.ADP\n",
    "3. NASDAQ.CBOE\n",
    "4. NASDAQ.CSCO\n",
    "5. NASDAQ.EBAY"
   ]
  },
  {
   "cell_type": "code",
   "execution_count": 8,
   "metadata": {},
   "outputs": [],
   "source": [
    "# Import the necessary library\n",
    "import pandas as pd\n",
    "import numpy as np\n",
    "import matplotlib.pyplot as plt\n",
    "from pandas.tools.plotting import autocorrelation_plot\n",
    "from statsmodels.graphics.tsaplots import plot_pacf\n",
    "from statsmodels.tsa.arima_model import ARIMA, ARMAResults\n",
    "import datetime\n",
    "import sys\n",
    "import seaborn as sns\n",
    "import statsmodels\n",
    "import statsmodels.stats.diagnostic as diag\n",
    "from statsmodels.tsa.stattools import adfuller\n",
    "import statsmodels.api as sm\n",
    "from scipy.stats.mstats import normaltest\n",
    "\n",
    "from matplotlib.pyplot import acorr\n",
    "plt.style.use('fivethirtyeight')\n",
    "%matplotlib inline"
   ]
  },
  {
   "cell_type": "markdown",
   "metadata": {},
   "source": [
    "### Get the Data"
   ]
  },
  {
   "cell_type": "code",
   "execution_count": 9,
   "metadata": {},
   "outputs": [
    {
     "data": {
      "text/html": [
       "<div>\n",
       "<style scoped>\n",
       "    .dataframe tbody tr th:only-of-type {\n",
       "        vertical-align: middle;\n",
       "    }\n",
       "\n",
       "    .dataframe tbody tr th {\n",
       "        vertical-align: top;\n",
       "    }\n",
       "\n",
       "    .dataframe thead th {\n",
       "        text-align: right;\n",
       "    }\n",
       "</style>\n",
       "<table border=\"1\" class=\"dataframe\">\n",
       "  <thead>\n",
       "    <tr style=\"text-align: right;\">\n",
       "      <th></th>\n",
       "      <th>DATE</th>\n",
       "      <th>SP500</th>\n",
       "      <th>NASDAQ.AAL</th>\n",
       "      <th>NASDAQ.AAPL</th>\n",
       "      <th>NASDAQ.ADBE</th>\n",
       "      <th>NASDAQ.ADI</th>\n",
       "      <th>NASDAQ.ADP</th>\n",
       "      <th>NASDAQ.ADSK</th>\n",
       "      <th>NASDAQ.AKAM</th>\n",
       "      <th>NASDAQ.ALXN</th>\n",
       "      <th>...</th>\n",
       "      <th>NYSE.WYN</th>\n",
       "      <th>NYSE.XEC</th>\n",
       "      <th>NYSE.XEL</th>\n",
       "      <th>NYSE.XL</th>\n",
       "      <th>NYSE.XOM</th>\n",
       "      <th>NYSE.XRX</th>\n",
       "      <th>NYSE.XYL</th>\n",
       "      <th>NYSE.YUM</th>\n",
       "      <th>NYSE.ZBH</th>\n",
       "      <th>NYSE.ZTS</th>\n",
       "    </tr>\n",
       "  </thead>\n",
       "  <tbody>\n",
       "    <tr>\n",
       "      <th>0</th>\n",
       "      <td>1491226200</td>\n",
       "      <td>2363.6101</td>\n",
       "      <td>42.3300</td>\n",
       "      <td>143.6800</td>\n",
       "      <td>129.6300</td>\n",
       "      <td>82.040</td>\n",
       "      <td>102.2300</td>\n",
       "      <td>85.2200</td>\n",
       "      <td>59.760</td>\n",
       "      <td>121.52</td>\n",
       "      <td>...</td>\n",
       "      <td>84.370</td>\n",
       "      <td>119.035</td>\n",
       "      <td>44.40</td>\n",
       "      <td>39.88</td>\n",
       "      <td>82.03</td>\n",
       "      <td>7.36</td>\n",
       "      <td>50.22</td>\n",
       "      <td>63.86</td>\n",
       "      <td>122.000</td>\n",
       "      <td>53.350</td>\n",
       "    </tr>\n",
       "    <tr>\n",
       "      <th>1</th>\n",
       "      <td>1491226260</td>\n",
       "      <td>2364.1001</td>\n",
       "      <td>42.3600</td>\n",
       "      <td>143.7000</td>\n",
       "      <td>130.3200</td>\n",
       "      <td>82.080</td>\n",
       "      <td>102.1400</td>\n",
       "      <td>85.6500</td>\n",
       "      <td>59.840</td>\n",
       "      <td>121.48</td>\n",
       "      <td>...</td>\n",
       "      <td>84.370</td>\n",
       "      <td>119.035</td>\n",
       "      <td>44.11</td>\n",
       "      <td>39.88</td>\n",
       "      <td>82.03</td>\n",
       "      <td>7.38</td>\n",
       "      <td>50.22</td>\n",
       "      <td>63.74</td>\n",
       "      <td>121.770</td>\n",
       "      <td>53.350</td>\n",
       "    </tr>\n",
       "    <tr>\n",
       "      <th>2</th>\n",
       "      <td>1491226320</td>\n",
       "      <td>2362.6799</td>\n",
       "      <td>42.3100</td>\n",
       "      <td>143.6901</td>\n",
       "      <td>130.2250</td>\n",
       "      <td>82.030</td>\n",
       "      <td>102.2125</td>\n",
       "      <td>85.5100</td>\n",
       "      <td>59.795</td>\n",
       "      <td>121.93</td>\n",
       "      <td>...</td>\n",
       "      <td>84.585</td>\n",
       "      <td>119.260</td>\n",
       "      <td>44.09</td>\n",
       "      <td>39.98</td>\n",
       "      <td>82.02</td>\n",
       "      <td>7.36</td>\n",
       "      <td>50.12</td>\n",
       "      <td>63.75</td>\n",
       "      <td>121.700</td>\n",
       "      <td>53.365</td>\n",
       "    </tr>\n",
       "    <tr>\n",
       "      <th>3</th>\n",
       "      <td>1491226380</td>\n",
       "      <td>2364.3101</td>\n",
       "      <td>42.3700</td>\n",
       "      <td>143.6400</td>\n",
       "      <td>130.0729</td>\n",
       "      <td>82.000</td>\n",
       "      <td>102.1400</td>\n",
       "      <td>85.4872</td>\n",
       "      <td>59.620</td>\n",
       "      <td>121.44</td>\n",
       "      <td>...</td>\n",
       "      <td>84.460</td>\n",
       "      <td>119.260</td>\n",
       "      <td>44.25</td>\n",
       "      <td>39.99</td>\n",
       "      <td>82.02</td>\n",
       "      <td>7.35</td>\n",
       "      <td>50.16</td>\n",
       "      <td>63.88</td>\n",
       "      <td>121.700</td>\n",
       "      <td>53.380</td>\n",
       "    </tr>\n",
       "    <tr>\n",
       "      <th>4</th>\n",
       "      <td>1491226440</td>\n",
       "      <td>2364.8501</td>\n",
       "      <td>42.5378</td>\n",
       "      <td>143.6600</td>\n",
       "      <td>129.8800</td>\n",
       "      <td>82.035</td>\n",
       "      <td>102.0600</td>\n",
       "      <td>85.7001</td>\n",
       "      <td>59.620</td>\n",
       "      <td>121.60</td>\n",
       "      <td>...</td>\n",
       "      <td>84.470</td>\n",
       "      <td>119.610</td>\n",
       "      <td>44.11</td>\n",
       "      <td>39.96</td>\n",
       "      <td>82.03</td>\n",
       "      <td>7.36</td>\n",
       "      <td>50.20</td>\n",
       "      <td>63.91</td>\n",
       "      <td>121.695</td>\n",
       "      <td>53.240</td>\n",
       "    </tr>\n",
       "  </tbody>\n",
       "</table>\n",
       "<p>5 rows × 502 columns</p>\n",
       "</div>"
      ],
      "text/plain": [
       "         DATE      SP500  NASDAQ.AAL  NASDAQ.AAPL  NASDAQ.ADBE  NASDAQ.ADI  \\\n",
       "0  1491226200  2363.6101     42.3300     143.6800     129.6300      82.040   \n",
       "1  1491226260  2364.1001     42.3600     143.7000     130.3200      82.080   \n",
       "2  1491226320  2362.6799     42.3100     143.6901     130.2250      82.030   \n",
       "3  1491226380  2364.3101     42.3700     143.6400     130.0729      82.000   \n",
       "4  1491226440  2364.8501     42.5378     143.6600     129.8800      82.035   \n",
       "\n",
       "   NASDAQ.ADP  NASDAQ.ADSK  NASDAQ.AKAM  NASDAQ.ALXN    ...     NYSE.WYN  \\\n",
       "0    102.2300      85.2200       59.760       121.52    ...       84.370   \n",
       "1    102.1400      85.6500       59.840       121.48    ...       84.370   \n",
       "2    102.2125      85.5100       59.795       121.93    ...       84.585   \n",
       "3    102.1400      85.4872       59.620       121.44    ...       84.460   \n",
       "4    102.0600      85.7001       59.620       121.60    ...       84.470   \n",
       "\n",
       "   NYSE.XEC  NYSE.XEL  NYSE.XL  NYSE.XOM  NYSE.XRX  NYSE.XYL  NYSE.YUM  \\\n",
       "0   119.035     44.40    39.88     82.03      7.36     50.22     63.86   \n",
       "1   119.035     44.11    39.88     82.03      7.38     50.22     63.74   \n",
       "2   119.260     44.09    39.98     82.02      7.36     50.12     63.75   \n",
       "3   119.260     44.25    39.99     82.02      7.35     50.16     63.88   \n",
       "4   119.610     44.11    39.96     82.03      7.36     50.20     63.91   \n",
       "\n",
       "   NYSE.ZBH  NYSE.ZTS  \n",
       "0   122.000    53.350  \n",
       "1   121.770    53.350  \n",
       "2   121.700    53.365  \n",
       "3   121.700    53.380  \n",
       "4   121.695    53.240  \n",
       "\n",
       "[5 rows x 502 columns]"
      ]
     },
     "execution_count": 9,
     "metadata": {},
     "output_type": "execute_result"
    }
   ],
   "source": [
    "df = pd.read_csv(\"data_stocks.csv\")\n",
    "df.head()"
   ]
  },
  {
   "cell_type": "markdown",
   "metadata": {},
   "source": [
    "#### Clean up"
   ]
  },
  {
   "cell_type": "code",
   "execution_count": 10,
   "metadata": {},
   "outputs": [
    {
     "name": "stdout",
     "output_type": "stream",
     "text": [
      "<class 'pandas.core.frame.DataFrame'>\n",
      "RangeIndex: 41266 entries, 0 to 41265\n",
      "Columns: 502 entries, DATE to NYSE.ZTS\n",
      "dtypes: float64(501), int64(1)\n",
      "memory usage: 158.0 MB\n"
     ]
    }
   ],
   "source": [
    "# First understanding the dataset in following cells:\n",
    "df.info()"
   ]
  },
  {
   "cell_type": "code",
   "execution_count": 11,
   "metadata": {},
   "outputs": [
    {
     "data": {
      "text/html": [
       "<div>\n",
       "<style scoped>\n",
       "    .dataframe tbody tr th:only-of-type {\n",
       "        vertical-align: middle;\n",
       "    }\n",
       "\n",
       "    .dataframe tbody tr th {\n",
       "        vertical-align: top;\n",
       "    }\n",
       "\n",
       "    .dataframe thead th {\n",
       "        text-align: right;\n",
       "    }\n",
       "</style>\n",
       "<table border=\"1\" class=\"dataframe\">\n",
       "  <thead>\n",
       "    <tr style=\"text-align: right;\">\n",
       "      <th></th>\n",
       "      <th>DATE</th>\n",
       "      <th>SP500</th>\n",
       "      <th>NASDAQ.AAL</th>\n",
       "      <th>NASDAQ.AAPL</th>\n",
       "      <th>NASDAQ.ADBE</th>\n",
       "      <th>NASDAQ.ADI</th>\n",
       "      <th>NASDAQ.ADP</th>\n",
       "      <th>NASDAQ.ADSK</th>\n",
       "      <th>NASDAQ.AKAM</th>\n",
       "      <th>NASDAQ.ALXN</th>\n",
       "      <th>...</th>\n",
       "      <th>NYSE.WYN</th>\n",
       "      <th>NYSE.XEC</th>\n",
       "      <th>NYSE.XEL</th>\n",
       "      <th>NYSE.XL</th>\n",
       "      <th>NYSE.XOM</th>\n",
       "      <th>NYSE.XRX</th>\n",
       "      <th>NYSE.XYL</th>\n",
       "      <th>NYSE.YUM</th>\n",
       "      <th>NYSE.ZBH</th>\n",
       "      <th>NYSE.ZTS</th>\n",
       "    </tr>\n",
       "  </thead>\n",
       "  <tbody>\n",
       "    <tr>\n",
       "      <th>count</th>\n",
       "      <td>4.126600e+04</td>\n",
       "      <td>41266.000000</td>\n",
       "      <td>41266.000000</td>\n",
       "      <td>41266.000000</td>\n",
       "      <td>41266.00000</td>\n",
       "      <td>41266.000000</td>\n",
       "      <td>41266.000000</td>\n",
       "      <td>41266.000000</td>\n",
       "      <td>41266.000000</td>\n",
       "      <td>41266.000000</td>\n",
       "      <td>...</td>\n",
       "      <td>41266.000000</td>\n",
       "      <td>41266.000000</td>\n",
       "      <td>41266.000000</td>\n",
       "      <td>41266.000000</td>\n",
       "      <td>41266.000000</td>\n",
       "      <td>41266.000000</td>\n",
       "      <td>41266.000000</td>\n",
       "      <td>41266.000000</td>\n",
       "      <td>41266.000000</td>\n",
       "      <td>41266.000000</td>\n",
       "    </tr>\n",
       "    <tr>\n",
       "      <th>mean</th>\n",
       "      <td>1.497749e+09</td>\n",
       "      <td>2421.537882</td>\n",
       "      <td>47.708346</td>\n",
       "      <td>150.453566</td>\n",
       "      <td>141.31793</td>\n",
       "      <td>79.446873</td>\n",
       "      <td>103.480398</td>\n",
       "      <td>102.998608</td>\n",
       "      <td>50.894352</td>\n",
       "      <td>122.981163</td>\n",
       "      <td>...</td>\n",
       "      <td>97.942211</td>\n",
       "      <td>104.740666</td>\n",
       "      <td>46.664402</td>\n",
       "      <td>43.043984</td>\n",
       "      <td>80.784595</td>\n",
       "      <td>19.300718</td>\n",
       "      <td>54.541988</td>\n",
       "      <td>71.757891</td>\n",
       "      <td>121.423515</td>\n",
       "      <td>60.183874</td>\n",
       "    </tr>\n",
       "    <tr>\n",
       "      <th>std</th>\n",
       "      <td>3.822211e+06</td>\n",
       "      <td>39.557135</td>\n",
       "      <td>3.259377</td>\n",
       "      <td>6.236826</td>\n",
       "      <td>6.91674</td>\n",
       "      <td>2.000283</td>\n",
       "      <td>4.424244</td>\n",
       "      <td>9.389788</td>\n",
       "      <td>4.833931</td>\n",
       "      <td>11.252010</td>\n",
       "      <td>...</td>\n",
       "      <td>5.411795</td>\n",
       "      <td>10.606694</td>\n",
       "      <td>1.508444</td>\n",
       "      <td>1.714533</td>\n",
       "      <td>1.840989</td>\n",
       "      <td>11.686532</td>\n",
       "      <td>3.526321</td>\n",
       "      <td>4.038272</td>\n",
       "      <td>5.607070</td>\n",
       "      <td>3.346887</td>\n",
       "    </tr>\n",
       "    <tr>\n",
       "      <th>min</th>\n",
       "      <td>1.491226e+09</td>\n",
       "      <td>2329.139900</td>\n",
       "      <td>40.830000</td>\n",
       "      <td>140.160000</td>\n",
       "      <td>128.24000</td>\n",
       "      <td>74.800000</td>\n",
       "      <td>95.870000</td>\n",
       "      <td>83.000000</td>\n",
       "      <td>44.650000</td>\n",
       "      <td>96.250000</td>\n",
       "      <td>...</td>\n",
       "      <td>83.410000</td>\n",
       "      <td>89.510000</td>\n",
       "      <td>44.090000</td>\n",
       "      <td>39.120000</td>\n",
       "      <td>76.060000</td>\n",
       "      <td>6.660000</td>\n",
       "      <td>48.820000</td>\n",
       "      <td>63.180000</td>\n",
       "      <td>110.120000</td>\n",
       "      <td>52.300000</td>\n",
       "    </tr>\n",
       "    <tr>\n",
       "      <th>25%</th>\n",
       "      <td>1.494432e+09</td>\n",
       "      <td>2390.860100</td>\n",
       "      <td>44.945400</td>\n",
       "      <td>144.640000</td>\n",
       "      <td>135.19500</td>\n",
       "      <td>78.030000</td>\n",
       "      <td>101.300000</td>\n",
       "      <td>94.820000</td>\n",
       "      <td>47.440000</td>\n",
       "      <td>116.950000</td>\n",
       "      <td>...</td>\n",
       "      <td>95.960000</td>\n",
       "      <td>95.010000</td>\n",
       "      <td>45.155000</td>\n",
       "      <td>41.955000</td>\n",
       "      <td>80.220000</td>\n",
       "      <td>7.045000</td>\n",
       "      <td>51.630000</td>\n",
       "      <td>69.110000</td>\n",
       "      <td>117.580000</td>\n",
       "      <td>59.620000</td>\n",
       "    </tr>\n",
       "    <tr>\n",
       "      <th>50%</th>\n",
       "      <td>1.497638e+09</td>\n",
       "      <td>2430.149900</td>\n",
       "      <td>48.360000</td>\n",
       "      <td>149.945000</td>\n",
       "      <td>142.26000</td>\n",
       "      <td>79.410000</td>\n",
       "      <td>102.440000</td>\n",
       "      <td>106.820000</td>\n",
       "      <td>49.509900</td>\n",
       "      <td>123.620000</td>\n",
       "      <td>...</td>\n",
       "      <td>99.250000</td>\n",
       "      <td>99.660000</td>\n",
       "      <td>46.810000</td>\n",
       "      <td>43.200000</td>\n",
       "      <td>81.150000</td>\n",
       "      <td>27.890000</td>\n",
       "      <td>53.850000</td>\n",
       "      <td>73.470000</td>\n",
       "      <td>120.650000</td>\n",
       "      <td>61.585600</td>\n",
       "    </tr>\n",
       "    <tr>\n",
       "      <th>75%</th>\n",
       "      <td>1.501090e+09</td>\n",
       "      <td>2448.820100</td>\n",
       "      <td>50.180000</td>\n",
       "      <td>155.065000</td>\n",
       "      <td>147.10000</td>\n",
       "      <td>80.580000</td>\n",
       "      <td>104.660000</td>\n",
       "      <td>110.490000</td>\n",
       "      <td>52.230000</td>\n",
       "      <td>132.218800</td>\n",
       "      <td>...</td>\n",
       "      <td>102.080000</td>\n",
       "      <td>117.034700</td>\n",
       "      <td>47.730000</td>\n",
       "      <td>44.370000</td>\n",
       "      <td>82.062050</td>\n",
       "      <td>30.470000</td>\n",
       "      <td>57.140000</td>\n",
       "      <td>74.750000</td>\n",
       "      <td>126.000000</td>\n",
       "      <td>62.540000</td>\n",
       "    </tr>\n",
       "    <tr>\n",
       "      <th>max</th>\n",
       "      <td>1.504210e+09</td>\n",
       "      <td>2490.649900</td>\n",
       "      <td>54.475000</td>\n",
       "      <td>164.510000</td>\n",
       "      <td>155.33000</td>\n",
       "      <td>90.440000</td>\n",
       "      <td>121.770000</td>\n",
       "      <td>119.270000</td>\n",
       "      <td>62.560000</td>\n",
       "      <td>142.875000</td>\n",
       "      <td>...</td>\n",
       "      <td>106.375000</td>\n",
       "      <td>123.870000</td>\n",
       "      <td>49.660000</td>\n",
       "      <td>47.210000</td>\n",
       "      <td>83.630000</td>\n",
       "      <td>32.930000</td>\n",
       "      <td>62.130000</td>\n",
       "      <td>77.120000</td>\n",
       "      <td>133.450000</td>\n",
       "      <td>63.840000</td>\n",
       "    </tr>\n",
       "  </tbody>\n",
       "</table>\n",
       "<p>8 rows × 502 columns</p>\n",
       "</div>"
      ],
      "text/plain": [
       "               DATE         SP500    NASDAQ.AAL   NASDAQ.AAPL  NASDAQ.ADBE  \\\n",
       "count  4.126600e+04  41266.000000  41266.000000  41266.000000  41266.00000   \n",
       "mean   1.497749e+09   2421.537882     47.708346    150.453566    141.31793   \n",
       "std    3.822211e+06     39.557135      3.259377      6.236826      6.91674   \n",
       "min    1.491226e+09   2329.139900     40.830000    140.160000    128.24000   \n",
       "25%    1.494432e+09   2390.860100     44.945400    144.640000    135.19500   \n",
       "50%    1.497638e+09   2430.149900     48.360000    149.945000    142.26000   \n",
       "75%    1.501090e+09   2448.820100     50.180000    155.065000    147.10000   \n",
       "max    1.504210e+09   2490.649900     54.475000    164.510000    155.33000   \n",
       "\n",
       "         NASDAQ.ADI    NASDAQ.ADP   NASDAQ.ADSK   NASDAQ.AKAM   NASDAQ.ALXN  \\\n",
       "count  41266.000000  41266.000000  41266.000000  41266.000000  41266.000000   \n",
       "mean      79.446873    103.480398    102.998608     50.894352    122.981163   \n",
       "std        2.000283      4.424244      9.389788      4.833931     11.252010   \n",
       "min       74.800000     95.870000     83.000000     44.650000     96.250000   \n",
       "25%       78.030000    101.300000     94.820000     47.440000    116.950000   \n",
       "50%       79.410000    102.440000    106.820000     49.509900    123.620000   \n",
       "75%       80.580000    104.660000    110.490000     52.230000    132.218800   \n",
       "max       90.440000    121.770000    119.270000     62.560000    142.875000   \n",
       "\n",
       "           ...           NYSE.WYN      NYSE.XEC      NYSE.XEL       NYSE.XL  \\\n",
       "count      ...       41266.000000  41266.000000  41266.000000  41266.000000   \n",
       "mean       ...          97.942211    104.740666     46.664402     43.043984   \n",
       "std        ...           5.411795     10.606694      1.508444      1.714533   \n",
       "min        ...          83.410000     89.510000     44.090000     39.120000   \n",
       "25%        ...          95.960000     95.010000     45.155000     41.955000   \n",
       "50%        ...          99.250000     99.660000     46.810000     43.200000   \n",
       "75%        ...         102.080000    117.034700     47.730000     44.370000   \n",
       "max        ...         106.375000    123.870000     49.660000     47.210000   \n",
       "\n",
       "           NYSE.XOM      NYSE.XRX      NYSE.XYL      NYSE.YUM      NYSE.ZBH  \\\n",
       "count  41266.000000  41266.000000  41266.000000  41266.000000  41266.000000   \n",
       "mean      80.784595     19.300718     54.541988     71.757891    121.423515   \n",
       "std        1.840989     11.686532      3.526321      4.038272      5.607070   \n",
       "min       76.060000      6.660000     48.820000     63.180000    110.120000   \n",
       "25%       80.220000      7.045000     51.630000     69.110000    117.580000   \n",
       "50%       81.150000     27.890000     53.850000     73.470000    120.650000   \n",
       "75%       82.062050     30.470000     57.140000     74.750000    126.000000   \n",
       "max       83.630000     32.930000     62.130000     77.120000    133.450000   \n",
       "\n",
       "           NYSE.ZTS  \n",
       "count  41266.000000  \n",
       "mean      60.183874  \n",
       "std        3.346887  \n",
       "min       52.300000  \n",
       "25%       59.620000  \n",
       "50%       61.585600  \n",
       "75%       62.540000  \n",
       "max       63.840000  \n",
       "\n",
       "[8 rows x 502 columns]"
      ]
     },
     "execution_count": 11,
     "metadata": {},
     "output_type": "execute_result"
    }
   ],
   "source": [
    "df.describe()"
   ]
  },
  {
   "cell_type": "code",
   "execution_count": 12,
   "metadata": {},
   "outputs": [
    {
     "data": {
      "text/html": [
       "<div>\n",
       "<style scoped>\n",
       "    .dataframe tbody tr th:only-of-type {\n",
       "        vertical-align: middle;\n",
       "    }\n",
       "\n",
       "    .dataframe tbody tr th {\n",
       "        vertical-align: top;\n",
       "    }\n",
       "\n",
       "    .dataframe thead th {\n",
       "        text-align: right;\n",
       "    }\n",
       "</style>\n",
       "<table border=\"1\" class=\"dataframe\">\n",
       "  <thead>\n",
       "    <tr style=\"text-align: right;\">\n",
       "      <th></th>\n",
       "      <th>count</th>\n",
       "      <th>mean</th>\n",
       "      <th>std</th>\n",
       "      <th>min</th>\n",
       "      <th>25%</th>\n",
       "      <th>50%</th>\n",
       "      <th>75%</th>\n",
       "      <th>max</th>\n",
       "    </tr>\n",
       "  </thead>\n",
       "  <tbody>\n",
       "    <tr>\n",
       "      <th>DATE</th>\n",
       "      <td>41266.0</td>\n",
       "      <td>1.497749e+09</td>\n",
       "      <td>3.822211e+06</td>\n",
       "      <td>1.491226e+09</td>\n",
       "      <td>1.494432e+09</td>\n",
       "      <td>1.497638e+09</td>\n",
       "      <td>1.501090e+09</td>\n",
       "      <td>1.504210e+09</td>\n",
       "    </tr>\n",
       "    <tr>\n",
       "      <th>SP500</th>\n",
       "      <td>41266.0</td>\n",
       "      <td>2.421538e+03</td>\n",
       "      <td>3.955713e+01</td>\n",
       "      <td>2.329140e+03</td>\n",
       "      <td>2.390860e+03</td>\n",
       "      <td>2.430150e+03</td>\n",
       "      <td>2.448820e+03</td>\n",
       "      <td>2.490650e+03</td>\n",
       "    </tr>\n",
       "    <tr>\n",
       "      <th>NASDAQ.AAL</th>\n",
       "      <td>41266.0</td>\n",
       "      <td>4.770835e+01</td>\n",
       "      <td>3.259377e+00</td>\n",
       "      <td>4.083000e+01</td>\n",
       "      <td>4.494540e+01</td>\n",
       "      <td>4.836000e+01</td>\n",
       "      <td>5.018000e+01</td>\n",
       "      <td>5.447500e+01</td>\n",
       "    </tr>\n",
       "    <tr>\n",
       "      <th>NASDAQ.AAPL</th>\n",
       "      <td>41266.0</td>\n",
       "      <td>1.504536e+02</td>\n",
       "      <td>6.236826e+00</td>\n",
       "      <td>1.401600e+02</td>\n",
       "      <td>1.446400e+02</td>\n",
       "      <td>1.499450e+02</td>\n",
       "      <td>1.550650e+02</td>\n",
       "      <td>1.645100e+02</td>\n",
       "    </tr>\n",
       "    <tr>\n",
       "      <th>NASDAQ.ADBE</th>\n",
       "      <td>41266.0</td>\n",
       "      <td>1.413179e+02</td>\n",
       "      <td>6.916740e+00</td>\n",
       "      <td>1.282400e+02</td>\n",
       "      <td>1.351950e+02</td>\n",
       "      <td>1.422600e+02</td>\n",
       "      <td>1.471000e+02</td>\n",
       "      <td>1.553300e+02</td>\n",
       "    </tr>\n",
       "    <tr>\n",
       "      <th>NASDAQ.ADI</th>\n",
       "      <td>41266.0</td>\n",
       "      <td>7.944687e+01</td>\n",
       "      <td>2.000283e+00</td>\n",
       "      <td>7.480000e+01</td>\n",
       "      <td>7.803000e+01</td>\n",
       "      <td>7.941000e+01</td>\n",
       "      <td>8.058000e+01</td>\n",
       "      <td>9.044000e+01</td>\n",
       "    </tr>\n",
       "    <tr>\n",
       "      <th>NASDAQ.ADP</th>\n",
       "      <td>41266.0</td>\n",
       "      <td>1.034804e+02</td>\n",
       "      <td>4.424244e+00</td>\n",
       "      <td>9.587000e+01</td>\n",
       "      <td>1.013000e+02</td>\n",
       "      <td>1.024400e+02</td>\n",
       "      <td>1.046600e+02</td>\n",
       "      <td>1.217700e+02</td>\n",
       "    </tr>\n",
       "    <tr>\n",
       "      <th>NASDAQ.ADSK</th>\n",
       "      <td>41266.0</td>\n",
       "      <td>1.029986e+02</td>\n",
       "      <td>9.389788e+00</td>\n",
       "      <td>8.300000e+01</td>\n",
       "      <td>9.482000e+01</td>\n",
       "      <td>1.068200e+02</td>\n",
       "      <td>1.104900e+02</td>\n",
       "      <td>1.192700e+02</td>\n",
       "    </tr>\n",
       "    <tr>\n",
       "      <th>NASDAQ.AKAM</th>\n",
       "      <td>41266.0</td>\n",
       "      <td>5.089435e+01</td>\n",
       "      <td>4.833931e+00</td>\n",
       "      <td>4.465000e+01</td>\n",
       "      <td>4.744000e+01</td>\n",
       "      <td>4.950990e+01</td>\n",
       "      <td>5.223000e+01</td>\n",
       "      <td>6.256000e+01</td>\n",
       "    </tr>\n",
       "    <tr>\n",
       "      <th>NASDAQ.ALXN</th>\n",
       "      <td>41266.0</td>\n",
       "      <td>1.229812e+02</td>\n",
       "      <td>1.125201e+01</td>\n",
       "      <td>9.625000e+01</td>\n",
       "      <td>1.169500e+02</td>\n",
       "      <td>1.236200e+02</td>\n",
       "      <td>1.322188e+02</td>\n",
       "      <td>1.428750e+02</td>\n",
       "    </tr>\n",
       "    <tr>\n",
       "      <th>NASDAQ.AMAT</th>\n",
       "      <td>41266.0</td>\n",
       "      <td>4.329199e+01</td>\n",
       "      <td>2.448582e+00</td>\n",
       "      <td>3.746000e+01</td>\n",
       "      <td>4.169000e+01</td>\n",
       "      <td>4.365000e+01</td>\n",
       "      <td>4.493500e+01</td>\n",
       "      <td>4.783000e+01</td>\n",
       "    </tr>\n",
       "    <tr>\n",
       "      <th>NASDAQ.AMD</th>\n",
       "      <td>41266.0</td>\n",
       "      <td>1.262444e+01</td>\n",
       "      <td>1.172758e+00</td>\n",
       "      <td>9.871000e+00</td>\n",
       "      <td>1.187493e+01</td>\n",
       "      <td>1.278000e+01</td>\n",
       "      <td>1.347000e+01</td>\n",
       "      <td>1.565000e+01</td>\n",
       "    </tr>\n",
       "    <tr>\n",
       "      <th>NASDAQ.AMGN</th>\n",
       "      <td>41266.0</td>\n",
       "      <td>1.670303e+02</td>\n",
       "      <td>6.910730e+00</td>\n",
       "      <td>1.523000e+02</td>\n",
       "      <td>1.622700e+02</td>\n",
       "      <td>1.651400e+02</td>\n",
       "      <td>1.730900e+02</td>\n",
       "      <td>1.825700e+02</td>\n",
       "    </tr>\n",
       "    <tr>\n",
       "      <th>NASDAQ.AMZN</th>\n",
       "      <td>41266.0</td>\n",
       "      <td>9.687472e+02</td>\n",
       "      <td>3.896668e+01</td>\n",
       "      <td>8.846700e+02</td>\n",
       "      <td>9.474611e+02</td>\n",
       "      <td>9.725000e+02</td>\n",
       "      <td>9.965500e+02</td>\n",
       "      <td>1.082570e+03</td>\n",
       "    </tr>\n",
       "    <tr>\n",
       "      <th>NASDAQ.ATVI</th>\n",
       "      <td>41266.0</td>\n",
       "      <td>5.768309e+01</td>\n",
       "      <td>4.567420e+00</td>\n",
       "      <td>4.841000e+01</td>\n",
       "      <td>5.476955e+01</td>\n",
       "      <td>5.876000e+01</td>\n",
       "      <td>6.121000e+01</td>\n",
       "      <td>6.650000e+01</td>\n",
       "    </tr>\n",
       "    <tr>\n",
       "      <th>NASDAQ.AVGO</th>\n",
       "      <td>41266.0</td>\n",
       "      <td>2.385982e+02</td>\n",
       "      <td>1.282488e+01</td>\n",
       "      <td>2.085600e+02</td>\n",
       "      <td>2.296200e+02</td>\n",
       "      <td>2.407175e+02</td>\n",
       "      <td>2.495400e+02</td>\n",
       "      <td>2.592000e+02</td>\n",
       "    </tr>\n",
       "    <tr>\n",
       "      <th>NASDAQ.BBBY</th>\n",
       "      <td>41266.0</td>\n",
       "      <td>3.341355e+01</td>\n",
       "      <td>3.975551e+00</td>\n",
       "      <td>2.802000e+01</td>\n",
       "      <td>2.930000e+01</td>\n",
       "      <td>3.424000e+01</td>\n",
       "      <td>3.719000e+01</td>\n",
       "      <td>4.071000e+01</td>\n",
       "    </tr>\n",
       "    <tr>\n",
       "      <th>NASDAQ.BIIB</th>\n",
       "      <td>41266.0</td>\n",
       "      <td>2.729576e+02</td>\n",
       "      <td>1.376399e+01</td>\n",
       "      <td>2.442800e+02</td>\n",
       "      <td>2.606509e+02</td>\n",
       "      <td>2.731200e+02</td>\n",
       "      <td>2.836100e+02</td>\n",
       "      <td>3.168500e+02</td>\n",
       "    </tr>\n",
       "    <tr>\n",
       "      <th>NASDAQ.CA</th>\n",
       "      <td>41266.0</td>\n",
       "      <td>3.265270e+01</td>\n",
       "      <td>1.178095e+00</td>\n",
       "      <td>3.046000e+01</td>\n",
       "      <td>3.185000e+01</td>\n",
       "      <td>3.227500e+01</td>\n",
       "      <td>3.297000e+01</td>\n",
       "      <td>3.646000e+01</td>\n",
       "    </tr>\n",
       "    <tr>\n",
       "      <th>NASDAQ.CBOE</th>\n",
       "      <td>41266.0</td>\n",
       "      <td>8.932548e+01</td>\n",
       "      <td>5.746178e+00</td>\n",
       "      <td>8.000000e+01</td>\n",
       "      <td>8.414000e+01</td>\n",
       "      <td>8.931500e+01</td>\n",
       "      <td>9.385000e+01</td>\n",
       "      <td>1.013500e+02</td>\n",
       "    </tr>\n",
       "    <tr>\n",
       "      <th>NASDAQ.CELG</th>\n",
       "      <td>41266.0</td>\n",
       "      <td>1.269280e+02</td>\n",
       "      <td>6.840787e+00</td>\n",
       "      <td>1.137716e+02</td>\n",
       "      <td>1.201000e+02</td>\n",
       "      <td>1.259500e+02</td>\n",
       "      <td>1.330616e+02</td>\n",
       "      <td>1.390000e+02</td>\n",
       "    </tr>\n",
       "    <tr>\n",
       "      <th>NASDAQ.CERN</th>\n",
       "      <td>41266.0</td>\n",
       "      <td>6.422734e+01</td>\n",
       "      <td>2.634135e+00</td>\n",
       "      <td>5.821000e+01</td>\n",
       "      <td>6.345500e+01</td>\n",
       "      <td>6.488500e+01</td>\n",
       "      <td>6.579500e+01</td>\n",
       "      <td>6.921000e+01</td>\n",
       "    </tr>\n",
       "    <tr>\n",
       "      <th>NASDAQ.CHRW</th>\n",
       "      <td>41266.0</td>\n",
       "      <td>6.950290e+01</td>\n",
       "      <td>3.436516e+00</td>\n",
       "      <td>6.351000e+01</td>\n",
       "      <td>6.715500e+01</td>\n",
       "      <td>6.833000e+01</td>\n",
       "      <td>7.172500e+01</td>\n",
       "      <td>7.828500e+01</td>\n",
       "    </tr>\n",
       "    <tr>\n",
       "      <th>NASDAQ.CHTR</th>\n",
       "      <td>41266.0</td>\n",
       "      <td>3.487194e+02</td>\n",
       "      <td>2.525709e+01</td>\n",
       "      <td>3.126600e+02</td>\n",
       "      <td>3.312200e+02</td>\n",
       "      <td>3.389700e+02</td>\n",
       "      <td>3.516500e+02</td>\n",
       "      <td>4.047800e+02</td>\n",
       "    </tr>\n",
       "    <tr>\n",
       "      <th>NASDAQ.CINF</th>\n",
       "      <td>41266.0</td>\n",
       "      <td>7.302527e+01</td>\n",
       "      <td>3.230921e+00</td>\n",
       "      <td>6.850000e+01</td>\n",
       "      <td>7.062000e+01</td>\n",
       "      <td>7.220000e+01</td>\n",
       "      <td>7.528868e+01</td>\n",
       "      <td>8.198000e+01</td>\n",
       "    </tr>\n",
       "    <tr>\n",
       "      <th>NASDAQ.CMCSA</th>\n",
       "      <td>41266.0</td>\n",
       "      <td>3.960747e+01</td>\n",
       "      <td>1.225993e+00</td>\n",
       "      <td>3.702500e+01</td>\n",
       "      <td>3.878500e+01</td>\n",
       "      <td>3.952500e+01</td>\n",
       "      <td>4.062000e+01</td>\n",
       "      <td>4.216500e+01</td>\n",
       "    </tr>\n",
       "    <tr>\n",
       "      <th>NASDAQ.CME</th>\n",
       "      <td>41266.0</td>\n",
       "      <td>1.213754e+02</td>\n",
       "      <td>3.833343e+00</td>\n",
       "      <td>1.148400e+02</td>\n",
       "      <td>1.175400e+02</td>\n",
       "      <td>1.211600e+02</td>\n",
       "      <td>1.250400e+02</td>\n",
       "      <td>1.278400e+02</td>\n",
       "    </tr>\n",
       "    <tr>\n",
       "      <th>NASDAQ.COST</th>\n",
       "      <td>41266.0</td>\n",
       "      <td>1.654571e+02</td>\n",
       "      <td>1.002480e+01</td>\n",
       "      <td>1.500000e+02</td>\n",
       "      <td>1.570900e+02</td>\n",
       "      <td>1.666100e+02</td>\n",
       "      <td>1.726900e+02</td>\n",
       "      <td>1.831500e+02</td>\n",
       "    </tr>\n",
       "    <tr>\n",
       "      <th>NASDAQ.CSCO</th>\n",
       "      <td>41266.0</td>\n",
       "      <td>3.213934e+01</td>\n",
       "      <td>9.855709e-01</td>\n",
       "      <td>3.036500e+01</td>\n",
       "      <td>3.145500e+01</td>\n",
       "      <td>3.177330e+01</td>\n",
       "      <td>3.279000e+01</td>\n",
       "      <td>3.449000e+01</td>\n",
       "    </tr>\n",
       "    <tr>\n",
       "      <th>NASDAQ.CSX</th>\n",
       "      <td>41266.0</td>\n",
       "      <td>5.128422e+01</td>\n",
       "      <td>2.377096e+00</td>\n",
       "      <td>4.610150e+01</td>\n",
       "      <td>4.965000e+01</td>\n",
       "      <td>5.132000e+01</td>\n",
       "      <td>5.327000e+01</td>\n",
       "      <td>5.544000e+01</td>\n",
       "    </tr>\n",
       "    <tr>\n",
       "      <th>...</th>\n",
       "      <td>...</td>\n",
       "      <td>...</td>\n",
       "      <td>...</td>\n",
       "      <td>...</td>\n",
       "      <td>...</td>\n",
       "      <td>...</td>\n",
       "      <td>...</td>\n",
       "      <td>...</td>\n",
       "    </tr>\n",
       "    <tr>\n",
       "      <th>NYSE.USB</th>\n",
       "      <td>41266.0</td>\n",
       "      <td>5.186328e+01</td>\n",
       "      <td>7.607200e-01</td>\n",
       "      <td>4.956000e+01</td>\n",
       "      <td>5.139500e+01</td>\n",
       "      <td>5.187000e+01</td>\n",
       "      <td>5.241000e+01</td>\n",
       "      <td>5.369000e+01</td>\n",
       "    </tr>\n",
       "    <tr>\n",
       "      <th>NYSE.UTX</th>\n",
       "      <td>41266.0</td>\n",
       "      <td>1.192651e+02</td>\n",
       "      <td>3.242153e+00</td>\n",
       "      <td>1.112900e+02</td>\n",
       "      <td>1.171000e+02</td>\n",
       "      <td>1.201000e+02</td>\n",
       "      <td>1.218450e+02</td>\n",
       "      <td>1.247500e+02</td>\n",
       "    </tr>\n",
       "    <tr>\n",
       "      <th>NYSE.V</th>\n",
       "      <td>41266.0</td>\n",
       "      <td>9.569396e+01</td>\n",
       "      <td>4.385522e+00</td>\n",
       "      <td>8.816500e+01</td>\n",
       "      <td>9.221000e+01</td>\n",
       "      <td>9.490000e+01</td>\n",
       "      <td>9.987498e+01</td>\n",
       "      <td>1.041800e+02</td>\n",
       "    </tr>\n",
       "    <tr>\n",
       "      <th>NYSE.VAR</th>\n",
       "      <td>41266.0</td>\n",
       "      <td>9.831131e+01</td>\n",
       "      <td>5.335147e+00</td>\n",
       "      <td>8.761000e+01</td>\n",
       "      <td>9.505000e+01</td>\n",
       "      <td>9.912000e+01</td>\n",
       "      <td>1.029500e+02</td>\n",
       "      <td>1.070700e+02</td>\n",
       "    </tr>\n",
       "    <tr>\n",
       "      <th>NYSE.VFC</th>\n",
       "      <td>41266.0</td>\n",
       "      <td>5.713429e+01</td>\n",
       "      <td>3.563356e+00</td>\n",
       "      <td>5.123000e+01</td>\n",
       "      <td>5.437000e+01</td>\n",
       "      <td>5.604000e+01</td>\n",
       "      <td>6.076000e+01</td>\n",
       "      <td>6.419000e+01</td>\n",
       "    </tr>\n",
       "    <tr>\n",
       "      <th>NYSE.VLO</th>\n",
       "      <td>41266.0</td>\n",
       "      <td>6.590389e+01</td>\n",
       "      <td>1.859369e+00</td>\n",
       "      <td>6.092000e+01</td>\n",
       "      <td>6.462945e+01</td>\n",
       "      <td>6.595000e+01</td>\n",
       "      <td>6.756000e+01</td>\n",
       "      <td>6.974000e+01</td>\n",
       "    </tr>\n",
       "    <tr>\n",
       "      <th>NYSE.VMC</th>\n",
       "      <td>41266.0</td>\n",
       "      <td>1.237672e+02</td>\n",
       "      <td>5.155408e+00</td>\n",
       "      <td>1.117800e+02</td>\n",
       "      <td>1.199300e+02</td>\n",
       "      <td>1.250700e+02</td>\n",
       "      <td>1.277900e+02</td>\n",
       "      <td>1.346200e+02</td>\n",
       "    </tr>\n",
       "    <tr>\n",
       "      <th>NYSE.VNO</th>\n",
       "      <td>41266.0</td>\n",
       "      <td>8.982838e+01</td>\n",
       "      <td>9.226681e+00</td>\n",
       "      <td>7.303000e+01</td>\n",
       "      <td>7.897172e+01</td>\n",
       "      <td>9.322000e+01</td>\n",
       "      <td>9.520000e+01</td>\n",
       "      <td>1.033500e+02</td>\n",
       "    </tr>\n",
       "    <tr>\n",
       "      <th>NYSE.VTR</th>\n",
       "      <td>41266.0</td>\n",
       "      <td>6.679052e+01</td>\n",
       "      <td>2.005502e+00</td>\n",
       "      <td>6.151000e+01</td>\n",
       "      <td>6.543000e+01</td>\n",
       "      <td>6.675000e+01</td>\n",
       "      <td>6.794000e+01</td>\n",
       "      <td>7.233000e+01</td>\n",
       "    </tr>\n",
       "    <tr>\n",
       "      <th>NYSE.VZ</th>\n",
       "      <td>41266.0</td>\n",
       "      <td>4.657445e+01</td>\n",
       "      <td>1.767864e+00</td>\n",
       "      <td>4.280000e+01</td>\n",
       "      <td>4.534610e+01</td>\n",
       "      <td>4.651000e+01</td>\n",
       "      <td>4.832037e+01</td>\n",
       "      <td>4.961500e+01</td>\n",
       "    </tr>\n",
       "    <tr>\n",
       "      <th>NYSE.WAT</th>\n",
       "      <td>41266.0</td>\n",
       "      <td>1.762423e+02</td>\n",
       "      <td>8.983449e+00</td>\n",
       "      <td>1.542600e+02</td>\n",
       "      <td>1.733000e+02</td>\n",
       "      <td>1.783900e+02</td>\n",
       "      <td>1.834800e+02</td>\n",
       "      <td>1.876500e+02</td>\n",
       "    </tr>\n",
       "    <tr>\n",
       "      <th>NYSE.WEC</th>\n",
       "      <td>41266.0</td>\n",
       "      <td>6.235274e+01</td>\n",
       "      <td>1.540708e+00</td>\n",
       "      <td>5.963000e+01</td>\n",
       "      <td>6.088000e+01</td>\n",
       "      <td>6.237570e+01</td>\n",
       "      <td>6.373000e+01</td>\n",
       "      <td>6.569000e+01</td>\n",
       "    </tr>\n",
       "    <tr>\n",
       "      <th>NYSE.WFC</th>\n",
       "      <td>41266.0</td>\n",
       "      <td>5.358727e+01</td>\n",
       "      <td>1.289050e+00</td>\n",
       "      <td>5.084500e+01</td>\n",
       "      <td>5.251000e+01</td>\n",
       "      <td>5.353500e+01</td>\n",
       "      <td>5.475000e+01</td>\n",
       "      <td>5.656000e+01</td>\n",
       "    </tr>\n",
       "    <tr>\n",
       "      <th>NYSE.WHR</th>\n",
       "      <td>41266.0</td>\n",
       "      <td>1.819711e+02</td>\n",
       "      <td>9.512629e+00</td>\n",
       "      <td>1.648200e+02</td>\n",
       "      <td>1.731000e+02</td>\n",
       "      <td>1.839100e+02</td>\n",
       "      <td>1.902947e+02</td>\n",
       "      <td>2.004900e+02</td>\n",
       "    </tr>\n",
       "    <tr>\n",
       "      <th>NYSE.WM</th>\n",
       "      <td>41266.0</td>\n",
       "      <td>7.377793e+01</td>\n",
       "      <td>1.464602e+00</td>\n",
       "      <td>7.009000e+01</td>\n",
       "      <td>7.276000e+01</td>\n",
       "      <td>7.351000e+01</td>\n",
       "      <td>7.506000e+01</td>\n",
       "      <td>7.716500e+01</td>\n",
       "    </tr>\n",
       "    <tr>\n",
       "      <th>NYSE.WMB</th>\n",
       "      <td>41266.0</td>\n",
       "      <td>3.010256e+01</td>\n",
       "      <td>9.277095e-01</td>\n",
       "      <td>2.769000e+01</td>\n",
       "      <td>2.944892e+01</td>\n",
       "      <td>3.022000e+01</td>\n",
       "      <td>3.065000e+01</td>\n",
       "      <td>3.218000e+01</td>\n",
       "    </tr>\n",
       "    <tr>\n",
       "      <th>NYSE.WMT</th>\n",
       "      <td>41266.0</td>\n",
       "      <td>7.706682e+01</td>\n",
       "      <td>2.524082e+00</td>\n",
       "      <td>7.138500e+01</td>\n",
       "      <td>7.533000e+01</td>\n",
       "      <td>7.646000e+01</td>\n",
       "      <td>7.915500e+01</td>\n",
       "      <td>8.197020e+01</td>\n",
       "    </tr>\n",
       "    <tr>\n",
       "      <th>NYSE.WRK</th>\n",
       "      <td>41266.0</td>\n",
       "      <td>5.541135e+01</td>\n",
       "      <td>2.424774e+00</td>\n",
       "      <td>4.923000e+01</td>\n",
       "      <td>5.391000e+01</td>\n",
       "      <td>5.545000e+01</td>\n",
       "      <td>5.725000e+01</td>\n",
       "      <td>6.035000e+01</td>\n",
       "    </tr>\n",
       "    <tr>\n",
       "      <th>NYSE.WU</th>\n",
       "      <td>41266.0</td>\n",
       "      <td>1.927277e+01</td>\n",
       "      <td>3.621625e-01</td>\n",
       "      <td>1.842000e+01</td>\n",
       "      <td>1.900010e+01</td>\n",
       "      <td>1.921000e+01</td>\n",
       "      <td>1.947500e+01</td>\n",
       "      <td>2.037000e+01</td>\n",
       "    </tr>\n",
       "    <tr>\n",
       "      <th>NYSE.WY</th>\n",
       "      <td>41266.0</td>\n",
       "      <td>3.324847e+01</td>\n",
       "      <td>9.080094e-01</td>\n",
       "      <td>3.097000e+01</td>\n",
       "      <td>3.275000e+01</td>\n",
       "      <td>3.321500e+01</td>\n",
       "      <td>3.392000e+01</td>\n",
       "      <td>3.536000e+01</td>\n",
       "    </tr>\n",
       "    <tr>\n",
       "      <th>NYSE.WYN</th>\n",
       "      <td>41266.0</td>\n",
       "      <td>9.794221e+01</td>\n",
       "      <td>5.411795e+00</td>\n",
       "      <td>8.341000e+01</td>\n",
       "      <td>9.596000e+01</td>\n",
       "      <td>9.925000e+01</td>\n",
       "      <td>1.020800e+02</td>\n",
       "      <td>1.063750e+02</td>\n",
       "    </tr>\n",
       "    <tr>\n",
       "      <th>NYSE.XEC</th>\n",
       "      <td>41266.0</td>\n",
       "      <td>1.047407e+02</td>\n",
       "      <td>1.060669e+01</td>\n",
       "      <td>8.951000e+01</td>\n",
       "      <td>9.501000e+01</td>\n",
       "      <td>9.966000e+01</td>\n",
       "      <td>1.170347e+02</td>\n",
       "      <td>1.238700e+02</td>\n",
       "    </tr>\n",
       "    <tr>\n",
       "      <th>NYSE.XEL</th>\n",
       "      <td>41266.0</td>\n",
       "      <td>4.666440e+01</td>\n",
       "      <td>1.508444e+00</td>\n",
       "      <td>4.409000e+01</td>\n",
       "      <td>4.515500e+01</td>\n",
       "      <td>4.681000e+01</td>\n",
       "      <td>4.773000e+01</td>\n",
       "      <td>4.966000e+01</td>\n",
       "    </tr>\n",
       "    <tr>\n",
       "      <th>NYSE.XL</th>\n",
       "      <td>41266.0</td>\n",
       "      <td>4.304398e+01</td>\n",
       "      <td>1.714533e+00</td>\n",
       "      <td>3.912000e+01</td>\n",
       "      <td>4.195500e+01</td>\n",
       "      <td>4.320000e+01</td>\n",
       "      <td>4.437000e+01</td>\n",
       "      <td>4.721000e+01</td>\n",
       "    </tr>\n",
       "    <tr>\n",
       "      <th>NYSE.XOM</th>\n",
       "      <td>41266.0</td>\n",
       "      <td>8.078459e+01</td>\n",
       "      <td>1.840989e+00</td>\n",
       "      <td>7.606000e+01</td>\n",
       "      <td>8.022000e+01</td>\n",
       "      <td>8.115000e+01</td>\n",
       "      <td>8.206205e+01</td>\n",
       "      <td>8.363000e+01</td>\n",
       "    </tr>\n",
       "    <tr>\n",
       "      <th>NYSE.XRX</th>\n",
       "      <td>41266.0</td>\n",
       "      <td>1.930072e+01</td>\n",
       "      <td>1.168653e+01</td>\n",
       "      <td>6.660000e+00</td>\n",
       "      <td>7.045000e+00</td>\n",
       "      <td>2.789000e+01</td>\n",
       "      <td>3.047000e+01</td>\n",
       "      <td>3.293000e+01</td>\n",
       "    </tr>\n",
       "    <tr>\n",
       "      <th>NYSE.XYL</th>\n",
       "      <td>41266.0</td>\n",
       "      <td>5.454199e+01</td>\n",
       "      <td>3.526321e+00</td>\n",
       "      <td>4.882000e+01</td>\n",
       "      <td>5.163000e+01</td>\n",
       "      <td>5.385000e+01</td>\n",
       "      <td>5.714000e+01</td>\n",
       "      <td>6.213000e+01</td>\n",
       "    </tr>\n",
       "    <tr>\n",
       "      <th>NYSE.YUM</th>\n",
       "      <td>41266.0</td>\n",
       "      <td>7.175789e+01</td>\n",
       "      <td>4.038272e+00</td>\n",
       "      <td>6.318000e+01</td>\n",
       "      <td>6.911000e+01</td>\n",
       "      <td>7.347000e+01</td>\n",
       "      <td>7.475000e+01</td>\n",
       "      <td>7.712000e+01</td>\n",
       "    </tr>\n",
       "    <tr>\n",
       "      <th>NYSE.ZBH</th>\n",
       "      <td>41266.0</td>\n",
       "      <td>1.214235e+02</td>\n",
       "      <td>5.607070e+00</td>\n",
       "      <td>1.101200e+02</td>\n",
       "      <td>1.175800e+02</td>\n",
       "      <td>1.206500e+02</td>\n",
       "      <td>1.260000e+02</td>\n",
       "      <td>1.334500e+02</td>\n",
       "    </tr>\n",
       "    <tr>\n",
       "      <th>NYSE.ZTS</th>\n",
       "      <td>41266.0</td>\n",
       "      <td>6.018387e+01</td>\n",
       "      <td>3.346887e+00</td>\n",
       "      <td>5.230000e+01</td>\n",
       "      <td>5.962000e+01</td>\n",
       "      <td>6.158560e+01</td>\n",
       "      <td>6.254000e+01</td>\n",
       "      <td>6.384000e+01</td>\n",
       "    </tr>\n",
       "  </tbody>\n",
       "</table>\n",
       "<p>502 rows × 8 columns</p>\n",
       "</div>"
      ],
      "text/plain": [
       "                count          mean           std           min           25%  \\\n",
       "DATE          41266.0  1.497749e+09  3.822211e+06  1.491226e+09  1.494432e+09   \n",
       "SP500         41266.0  2.421538e+03  3.955713e+01  2.329140e+03  2.390860e+03   \n",
       "NASDAQ.AAL    41266.0  4.770835e+01  3.259377e+00  4.083000e+01  4.494540e+01   \n",
       "NASDAQ.AAPL   41266.0  1.504536e+02  6.236826e+00  1.401600e+02  1.446400e+02   \n",
       "NASDAQ.ADBE   41266.0  1.413179e+02  6.916740e+00  1.282400e+02  1.351950e+02   \n",
       "NASDAQ.ADI    41266.0  7.944687e+01  2.000283e+00  7.480000e+01  7.803000e+01   \n",
       "NASDAQ.ADP    41266.0  1.034804e+02  4.424244e+00  9.587000e+01  1.013000e+02   \n",
       "NASDAQ.ADSK   41266.0  1.029986e+02  9.389788e+00  8.300000e+01  9.482000e+01   \n",
       "NASDAQ.AKAM   41266.0  5.089435e+01  4.833931e+00  4.465000e+01  4.744000e+01   \n",
       "NASDAQ.ALXN   41266.0  1.229812e+02  1.125201e+01  9.625000e+01  1.169500e+02   \n",
       "NASDAQ.AMAT   41266.0  4.329199e+01  2.448582e+00  3.746000e+01  4.169000e+01   \n",
       "NASDAQ.AMD    41266.0  1.262444e+01  1.172758e+00  9.871000e+00  1.187493e+01   \n",
       "NASDAQ.AMGN   41266.0  1.670303e+02  6.910730e+00  1.523000e+02  1.622700e+02   \n",
       "NASDAQ.AMZN   41266.0  9.687472e+02  3.896668e+01  8.846700e+02  9.474611e+02   \n",
       "NASDAQ.ATVI   41266.0  5.768309e+01  4.567420e+00  4.841000e+01  5.476955e+01   \n",
       "NASDAQ.AVGO   41266.0  2.385982e+02  1.282488e+01  2.085600e+02  2.296200e+02   \n",
       "NASDAQ.BBBY   41266.0  3.341355e+01  3.975551e+00  2.802000e+01  2.930000e+01   \n",
       "NASDAQ.BIIB   41266.0  2.729576e+02  1.376399e+01  2.442800e+02  2.606509e+02   \n",
       "NASDAQ.CA     41266.0  3.265270e+01  1.178095e+00  3.046000e+01  3.185000e+01   \n",
       "NASDAQ.CBOE   41266.0  8.932548e+01  5.746178e+00  8.000000e+01  8.414000e+01   \n",
       "NASDAQ.CELG   41266.0  1.269280e+02  6.840787e+00  1.137716e+02  1.201000e+02   \n",
       "NASDAQ.CERN   41266.0  6.422734e+01  2.634135e+00  5.821000e+01  6.345500e+01   \n",
       "NASDAQ.CHRW   41266.0  6.950290e+01  3.436516e+00  6.351000e+01  6.715500e+01   \n",
       "NASDAQ.CHTR   41266.0  3.487194e+02  2.525709e+01  3.126600e+02  3.312200e+02   \n",
       "NASDAQ.CINF   41266.0  7.302527e+01  3.230921e+00  6.850000e+01  7.062000e+01   \n",
       "NASDAQ.CMCSA  41266.0  3.960747e+01  1.225993e+00  3.702500e+01  3.878500e+01   \n",
       "NASDAQ.CME    41266.0  1.213754e+02  3.833343e+00  1.148400e+02  1.175400e+02   \n",
       "NASDAQ.COST   41266.0  1.654571e+02  1.002480e+01  1.500000e+02  1.570900e+02   \n",
       "NASDAQ.CSCO   41266.0  3.213934e+01  9.855709e-01  3.036500e+01  3.145500e+01   \n",
       "NASDAQ.CSX    41266.0  5.128422e+01  2.377096e+00  4.610150e+01  4.965000e+01   \n",
       "...               ...           ...           ...           ...           ...   \n",
       "NYSE.USB      41266.0  5.186328e+01  7.607200e-01  4.956000e+01  5.139500e+01   \n",
       "NYSE.UTX      41266.0  1.192651e+02  3.242153e+00  1.112900e+02  1.171000e+02   \n",
       "NYSE.V        41266.0  9.569396e+01  4.385522e+00  8.816500e+01  9.221000e+01   \n",
       "NYSE.VAR      41266.0  9.831131e+01  5.335147e+00  8.761000e+01  9.505000e+01   \n",
       "NYSE.VFC      41266.0  5.713429e+01  3.563356e+00  5.123000e+01  5.437000e+01   \n",
       "NYSE.VLO      41266.0  6.590389e+01  1.859369e+00  6.092000e+01  6.462945e+01   \n",
       "NYSE.VMC      41266.0  1.237672e+02  5.155408e+00  1.117800e+02  1.199300e+02   \n",
       "NYSE.VNO      41266.0  8.982838e+01  9.226681e+00  7.303000e+01  7.897172e+01   \n",
       "NYSE.VTR      41266.0  6.679052e+01  2.005502e+00  6.151000e+01  6.543000e+01   \n",
       "NYSE.VZ       41266.0  4.657445e+01  1.767864e+00  4.280000e+01  4.534610e+01   \n",
       "NYSE.WAT      41266.0  1.762423e+02  8.983449e+00  1.542600e+02  1.733000e+02   \n",
       "NYSE.WEC      41266.0  6.235274e+01  1.540708e+00  5.963000e+01  6.088000e+01   \n",
       "NYSE.WFC      41266.0  5.358727e+01  1.289050e+00  5.084500e+01  5.251000e+01   \n",
       "NYSE.WHR      41266.0  1.819711e+02  9.512629e+00  1.648200e+02  1.731000e+02   \n",
       "NYSE.WM       41266.0  7.377793e+01  1.464602e+00  7.009000e+01  7.276000e+01   \n",
       "NYSE.WMB      41266.0  3.010256e+01  9.277095e-01  2.769000e+01  2.944892e+01   \n",
       "NYSE.WMT      41266.0  7.706682e+01  2.524082e+00  7.138500e+01  7.533000e+01   \n",
       "NYSE.WRK      41266.0  5.541135e+01  2.424774e+00  4.923000e+01  5.391000e+01   \n",
       "NYSE.WU       41266.0  1.927277e+01  3.621625e-01  1.842000e+01  1.900010e+01   \n",
       "NYSE.WY       41266.0  3.324847e+01  9.080094e-01  3.097000e+01  3.275000e+01   \n",
       "NYSE.WYN      41266.0  9.794221e+01  5.411795e+00  8.341000e+01  9.596000e+01   \n",
       "NYSE.XEC      41266.0  1.047407e+02  1.060669e+01  8.951000e+01  9.501000e+01   \n",
       "NYSE.XEL      41266.0  4.666440e+01  1.508444e+00  4.409000e+01  4.515500e+01   \n",
       "NYSE.XL       41266.0  4.304398e+01  1.714533e+00  3.912000e+01  4.195500e+01   \n",
       "NYSE.XOM      41266.0  8.078459e+01  1.840989e+00  7.606000e+01  8.022000e+01   \n",
       "NYSE.XRX      41266.0  1.930072e+01  1.168653e+01  6.660000e+00  7.045000e+00   \n",
       "NYSE.XYL      41266.0  5.454199e+01  3.526321e+00  4.882000e+01  5.163000e+01   \n",
       "NYSE.YUM      41266.0  7.175789e+01  4.038272e+00  6.318000e+01  6.911000e+01   \n",
       "NYSE.ZBH      41266.0  1.214235e+02  5.607070e+00  1.101200e+02  1.175800e+02   \n",
       "NYSE.ZTS      41266.0  6.018387e+01  3.346887e+00  5.230000e+01  5.962000e+01   \n",
       "\n",
       "                       50%           75%           max  \n",
       "DATE          1.497638e+09  1.501090e+09  1.504210e+09  \n",
       "SP500         2.430150e+03  2.448820e+03  2.490650e+03  \n",
       "NASDAQ.AAL    4.836000e+01  5.018000e+01  5.447500e+01  \n",
       "NASDAQ.AAPL   1.499450e+02  1.550650e+02  1.645100e+02  \n",
       "NASDAQ.ADBE   1.422600e+02  1.471000e+02  1.553300e+02  \n",
       "NASDAQ.ADI    7.941000e+01  8.058000e+01  9.044000e+01  \n",
       "NASDAQ.ADP    1.024400e+02  1.046600e+02  1.217700e+02  \n",
       "NASDAQ.ADSK   1.068200e+02  1.104900e+02  1.192700e+02  \n",
       "NASDAQ.AKAM   4.950990e+01  5.223000e+01  6.256000e+01  \n",
       "NASDAQ.ALXN   1.236200e+02  1.322188e+02  1.428750e+02  \n",
       "NASDAQ.AMAT   4.365000e+01  4.493500e+01  4.783000e+01  \n",
       "NASDAQ.AMD    1.278000e+01  1.347000e+01  1.565000e+01  \n",
       "NASDAQ.AMGN   1.651400e+02  1.730900e+02  1.825700e+02  \n",
       "NASDAQ.AMZN   9.725000e+02  9.965500e+02  1.082570e+03  \n",
       "NASDAQ.ATVI   5.876000e+01  6.121000e+01  6.650000e+01  \n",
       "NASDAQ.AVGO   2.407175e+02  2.495400e+02  2.592000e+02  \n",
       "NASDAQ.BBBY   3.424000e+01  3.719000e+01  4.071000e+01  \n",
       "NASDAQ.BIIB   2.731200e+02  2.836100e+02  3.168500e+02  \n",
       "NASDAQ.CA     3.227500e+01  3.297000e+01  3.646000e+01  \n",
       "NASDAQ.CBOE   8.931500e+01  9.385000e+01  1.013500e+02  \n",
       "NASDAQ.CELG   1.259500e+02  1.330616e+02  1.390000e+02  \n",
       "NASDAQ.CERN   6.488500e+01  6.579500e+01  6.921000e+01  \n",
       "NASDAQ.CHRW   6.833000e+01  7.172500e+01  7.828500e+01  \n",
       "NASDAQ.CHTR   3.389700e+02  3.516500e+02  4.047800e+02  \n",
       "NASDAQ.CINF   7.220000e+01  7.528868e+01  8.198000e+01  \n",
       "NASDAQ.CMCSA  3.952500e+01  4.062000e+01  4.216500e+01  \n",
       "NASDAQ.CME    1.211600e+02  1.250400e+02  1.278400e+02  \n",
       "NASDAQ.COST   1.666100e+02  1.726900e+02  1.831500e+02  \n",
       "NASDAQ.CSCO   3.177330e+01  3.279000e+01  3.449000e+01  \n",
       "NASDAQ.CSX    5.132000e+01  5.327000e+01  5.544000e+01  \n",
       "...                    ...           ...           ...  \n",
       "NYSE.USB      5.187000e+01  5.241000e+01  5.369000e+01  \n",
       "NYSE.UTX      1.201000e+02  1.218450e+02  1.247500e+02  \n",
       "NYSE.V        9.490000e+01  9.987498e+01  1.041800e+02  \n",
       "NYSE.VAR      9.912000e+01  1.029500e+02  1.070700e+02  \n",
       "NYSE.VFC      5.604000e+01  6.076000e+01  6.419000e+01  \n",
       "NYSE.VLO      6.595000e+01  6.756000e+01  6.974000e+01  \n",
       "NYSE.VMC      1.250700e+02  1.277900e+02  1.346200e+02  \n",
       "NYSE.VNO      9.322000e+01  9.520000e+01  1.033500e+02  \n",
       "NYSE.VTR      6.675000e+01  6.794000e+01  7.233000e+01  \n",
       "NYSE.VZ       4.651000e+01  4.832037e+01  4.961500e+01  \n",
       "NYSE.WAT      1.783900e+02  1.834800e+02  1.876500e+02  \n",
       "NYSE.WEC      6.237570e+01  6.373000e+01  6.569000e+01  \n",
       "NYSE.WFC      5.353500e+01  5.475000e+01  5.656000e+01  \n",
       "NYSE.WHR      1.839100e+02  1.902947e+02  2.004900e+02  \n",
       "NYSE.WM       7.351000e+01  7.506000e+01  7.716500e+01  \n",
       "NYSE.WMB      3.022000e+01  3.065000e+01  3.218000e+01  \n",
       "NYSE.WMT      7.646000e+01  7.915500e+01  8.197020e+01  \n",
       "NYSE.WRK      5.545000e+01  5.725000e+01  6.035000e+01  \n",
       "NYSE.WU       1.921000e+01  1.947500e+01  2.037000e+01  \n",
       "NYSE.WY       3.321500e+01  3.392000e+01  3.536000e+01  \n",
       "NYSE.WYN      9.925000e+01  1.020800e+02  1.063750e+02  \n",
       "NYSE.XEC      9.966000e+01  1.170347e+02  1.238700e+02  \n",
       "NYSE.XEL      4.681000e+01  4.773000e+01  4.966000e+01  \n",
       "NYSE.XL       4.320000e+01  4.437000e+01  4.721000e+01  \n",
       "NYSE.XOM      8.115000e+01  8.206205e+01  8.363000e+01  \n",
       "NYSE.XRX      2.789000e+01  3.047000e+01  3.293000e+01  \n",
       "NYSE.XYL      5.385000e+01  5.714000e+01  6.213000e+01  \n",
       "NYSE.YUM      7.347000e+01  7.475000e+01  7.712000e+01  \n",
       "NYSE.ZBH      1.206500e+02  1.260000e+02  1.334500e+02  \n",
       "NYSE.ZTS      6.158560e+01  6.254000e+01  6.384000e+01  \n",
       "\n",
       "[502 rows x 8 columns]"
      ]
     },
     "execution_count": 12,
     "metadata": {},
     "output_type": "execute_result"
    }
   ],
   "source": [
    "df.describe().transpose()"
   ]
  },
  {
   "cell_type": "code",
   "execution_count": 13,
   "metadata": {},
   "outputs": [
    {
     "data": {
      "text/plain": [
       "float64    501\n",
       "int64        1\n",
       "dtype: int64"
      ]
     },
     "execution_count": 13,
     "metadata": {},
     "output_type": "execute_result"
    }
   ],
   "source": [
    "df.get_dtype_counts()"
   ]
  },
  {
   "cell_type": "code",
   "execution_count": 14,
   "metadata": {},
   "outputs": [
    {
     "data": {
      "text/plain": [
       "(41266, 502)"
      ]
     },
     "execution_count": 14,
     "metadata": {},
     "output_type": "execute_result"
    }
   ],
   "source": [
    "df.shape"
   ]
  },
  {
   "cell_type": "code",
   "execution_count": 15,
   "metadata": {},
   "outputs": [
    {
     "data": {
      "text/plain": [
       "0"
      ]
     },
     "execution_count": 15,
     "metadata": {},
     "output_type": "execute_result"
    }
   ],
   "source": [
    "# Checking if there is presence of null values or empty row or column\n",
    "df.isna().sum().sum()"
   ]
  },
  {
   "cell_type": "code",
   "execution_count": 16,
   "metadata": {},
   "outputs": [
    {
     "data": {
      "text/plain": [
       "0"
      ]
     },
     "execution_count": 16,
     "metadata": {},
     "output_type": "execute_result"
    }
   ],
   "source": [
    "df.isnull().sum().sum()"
   ]
  },
  {
   "cell_type": "code",
   "execution_count": 17,
   "metadata": {},
   "outputs": [
    {
     "data": {
      "text/plain": [
       "0"
      ]
     },
     "execution_count": 17,
     "metadata": {},
     "output_type": "execute_result"
    }
   ],
   "source": [
    "# Cheking any zero values in dataset:\n",
    "df[df==0].any().sum()"
   ]
  },
  {
   "cell_type": "code",
   "execution_count": 18,
   "metadata": {},
   "outputs": [
    {
     "data": {
      "text/plain": [
       "0"
      ]
     },
     "execution_count": 18,
     "metadata": {},
     "output_type": "execute_result"
    }
   ],
   "source": [
    "# check for any negative value. If presence it can affect our analysis.If presence Remove it.\n",
    "#Remove checking the datset whether negative value is required or not\n",
    "df[df<0].any().sum()"
   ]
  },
  {
   "cell_type": "code",
   "execution_count": 14,
   "metadata": {},
   "outputs": [
    {
     "data": {
      "text/html": [
       "<div>\n",
       "<style scoped>\n",
       "    .dataframe tbody tr th:only-of-type {\n",
       "        vertical-align: middle;\n",
       "    }\n",
       "\n",
       "    .dataframe tbody tr th {\n",
       "        vertical-align: top;\n",
       "    }\n",
       "\n",
       "    .dataframe thead th {\n",
       "        text-align: right;\n",
       "    }\n",
       "</style>\n",
       "<table border=\"1\" class=\"dataframe\">\n",
       "  <thead>\n",
       "    <tr style=\"text-align: right;\">\n",
       "      <th></th>\n",
       "      <th>DATE</th>\n",
       "      <th>SP500</th>\n",
       "      <th>NASDAQ.AAL</th>\n",
       "      <th>NASDAQ.AAPL</th>\n",
       "      <th>NASDAQ.ADBE</th>\n",
       "      <th>NASDAQ.ADI</th>\n",
       "      <th>NASDAQ.ADP</th>\n",
       "      <th>NASDAQ.ADSK</th>\n",
       "      <th>NASDAQ.AKAM</th>\n",
       "      <th>NASDAQ.ALXN</th>\n",
       "      <th>...</th>\n",
       "      <th>NYSE.WYN</th>\n",
       "      <th>NYSE.XEC</th>\n",
       "      <th>NYSE.XEL</th>\n",
       "      <th>NYSE.XL</th>\n",
       "      <th>NYSE.XOM</th>\n",
       "      <th>NYSE.XRX</th>\n",
       "      <th>NYSE.XYL</th>\n",
       "      <th>NYSE.YUM</th>\n",
       "      <th>NYSE.ZBH</th>\n",
       "      <th>NYSE.ZTS</th>\n",
       "    </tr>\n",
       "  </thead>\n",
       "  <tbody>\n",
       "    <tr>\n",
       "      <th>0</th>\n",
       "      <td>1491226200</td>\n",
       "      <td>2363.6101</td>\n",
       "      <td>42.3300</td>\n",
       "      <td>143.6800</td>\n",
       "      <td>129.6300</td>\n",
       "      <td>82.040</td>\n",
       "      <td>102.2300</td>\n",
       "      <td>85.2200</td>\n",
       "      <td>59.760</td>\n",
       "      <td>121.52</td>\n",
       "      <td>...</td>\n",
       "      <td>84.3700</td>\n",
       "      <td>119.035</td>\n",
       "      <td>44.40</td>\n",
       "      <td>39.88</td>\n",
       "      <td>82.03</td>\n",
       "      <td>7.36</td>\n",
       "      <td>50.22</td>\n",
       "      <td>63.86</td>\n",
       "      <td>122.000</td>\n",
       "      <td>53.350</td>\n",
       "    </tr>\n",
       "    <tr>\n",
       "      <th>1</th>\n",
       "      <td>1491226260</td>\n",
       "      <td>2364.1001</td>\n",
       "      <td>42.3600</td>\n",
       "      <td>143.7000</td>\n",
       "      <td>130.3200</td>\n",
       "      <td>82.080</td>\n",
       "      <td>102.1400</td>\n",
       "      <td>85.6500</td>\n",
       "      <td>59.840</td>\n",
       "      <td>121.48</td>\n",
       "      <td>...</td>\n",
       "      <td>84.3700</td>\n",
       "      <td>119.035</td>\n",
       "      <td>44.11</td>\n",
       "      <td>39.88</td>\n",
       "      <td>82.03</td>\n",
       "      <td>7.38</td>\n",
       "      <td>50.22</td>\n",
       "      <td>63.74</td>\n",
       "      <td>121.770</td>\n",
       "      <td>53.350</td>\n",
       "    </tr>\n",
       "    <tr>\n",
       "      <th>2</th>\n",
       "      <td>1491226320</td>\n",
       "      <td>2362.6799</td>\n",
       "      <td>42.3100</td>\n",
       "      <td>143.6901</td>\n",
       "      <td>130.2250</td>\n",
       "      <td>82.030</td>\n",
       "      <td>102.2125</td>\n",
       "      <td>85.5100</td>\n",
       "      <td>59.795</td>\n",
       "      <td>121.93</td>\n",
       "      <td>...</td>\n",
       "      <td>84.5850</td>\n",
       "      <td>119.260</td>\n",
       "      <td>44.09</td>\n",
       "      <td>39.98</td>\n",
       "      <td>82.02</td>\n",
       "      <td>7.36</td>\n",
       "      <td>50.12</td>\n",
       "      <td>63.75</td>\n",
       "      <td>121.700</td>\n",
       "      <td>53.365</td>\n",
       "    </tr>\n",
       "    <tr>\n",
       "      <th>3</th>\n",
       "      <td>1491226380</td>\n",
       "      <td>2364.3101</td>\n",
       "      <td>42.3700</td>\n",
       "      <td>143.6400</td>\n",
       "      <td>130.0729</td>\n",
       "      <td>82.000</td>\n",
       "      <td>102.1400</td>\n",
       "      <td>85.4872</td>\n",
       "      <td>59.620</td>\n",
       "      <td>121.44</td>\n",
       "      <td>...</td>\n",
       "      <td>84.4600</td>\n",
       "      <td>119.260</td>\n",
       "      <td>44.25</td>\n",
       "      <td>39.99</td>\n",
       "      <td>82.02</td>\n",
       "      <td>7.35</td>\n",
       "      <td>50.16</td>\n",
       "      <td>63.88</td>\n",
       "      <td>121.700</td>\n",
       "      <td>53.380</td>\n",
       "    </tr>\n",
       "    <tr>\n",
       "      <th>4</th>\n",
       "      <td>1491226440</td>\n",
       "      <td>2364.8501</td>\n",
       "      <td>42.5378</td>\n",
       "      <td>143.6600</td>\n",
       "      <td>129.8800</td>\n",
       "      <td>82.035</td>\n",
       "      <td>102.0600</td>\n",
       "      <td>85.7001</td>\n",
       "      <td>59.620</td>\n",
       "      <td>121.60</td>\n",
       "      <td>...</td>\n",
       "      <td>84.4700</td>\n",
       "      <td>119.610</td>\n",
       "      <td>44.11</td>\n",
       "      <td>39.96</td>\n",
       "      <td>82.03</td>\n",
       "      <td>7.36</td>\n",
       "      <td>50.20</td>\n",
       "      <td>63.91</td>\n",
       "      <td>121.695</td>\n",
       "      <td>53.240</td>\n",
       "    </tr>\n",
       "    <tr>\n",
       "      <th>5</th>\n",
       "      <td>1491226500</td>\n",
       "      <td>2365.6201</td>\n",
       "      <td>42.5399</td>\n",
       "      <td>143.7800</td>\n",
       "      <td>130.0700</td>\n",
       "      <td>82.040</td>\n",
       "      <td>102.0400</td>\n",
       "      <td>85.9200</td>\n",
       "      <td>59.610</td>\n",
       "      <td>121.70</td>\n",
       "      <td>...</td>\n",
       "      <td>84.4825</td>\n",
       "      <td>119.580</td>\n",
       "      <td>44.15</td>\n",
       "      <td>39.96</td>\n",
       "      <td>82.03</td>\n",
       "      <td>7.36</td>\n",
       "      <td>50.20</td>\n",
       "      <td>63.84</td>\n",
       "      <td>121.850</td>\n",
       "      <td>53.220</td>\n",
       "    </tr>\n",
       "  </tbody>\n",
       "</table>\n",
       "<p>6 rows × 502 columns</p>\n",
       "</div>"
      ],
      "text/plain": [
       "         DATE      SP500  NASDAQ.AAL  NASDAQ.AAPL  NASDAQ.ADBE  NASDAQ.ADI  \\\n",
       "0  1491226200  2363.6101     42.3300     143.6800     129.6300      82.040   \n",
       "1  1491226260  2364.1001     42.3600     143.7000     130.3200      82.080   \n",
       "2  1491226320  2362.6799     42.3100     143.6901     130.2250      82.030   \n",
       "3  1491226380  2364.3101     42.3700     143.6400     130.0729      82.000   \n",
       "4  1491226440  2364.8501     42.5378     143.6600     129.8800      82.035   \n",
       "5  1491226500  2365.6201     42.5399     143.7800     130.0700      82.040   \n",
       "\n",
       "   NASDAQ.ADP  NASDAQ.ADSK  NASDAQ.AKAM  NASDAQ.ALXN    ...     NYSE.WYN  \\\n",
       "0    102.2300      85.2200       59.760       121.52    ...      84.3700   \n",
       "1    102.1400      85.6500       59.840       121.48    ...      84.3700   \n",
       "2    102.2125      85.5100       59.795       121.93    ...      84.5850   \n",
       "3    102.1400      85.4872       59.620       121.44    ...      84.4600   \n",
       "4    102.0600      85.7001       59.620       121.60    ...      84.4700   \n",
       "5    102.0400      85.9200       59.610       121.70    ...      84.4825   \n",
       "\n",
       "   NYSE.XEC  NYSE.XEL  NYSE.XL  NYSE.XOM  NYSE.XRX  NYSE.XYL  NYSE.YUM  \\\n",
       "0   119.035     44.40    39.88     82.03      7.36     50.22     63.86   \n",
       "1   119.035     44.11    39.88     82.03      7.38     50.22     63.74   \n",
       "2   119.260     44.09    39.98     82.02      7.36     50.12     63.75   \n",
       "3   119.260     44.25    39.99     82.02      7.35     50.16     63.88   \n",
       "4   119.610     44.11    39.96     82.03      7.36     50.20     63.91   \n",
       "5   119.580     44.15    39.96     82.03      7.36     50.20     63.84   \n",
       "\n",
       "   NYSE.ZBH  NYSE.ZTS  \n",
       "0   122.000    53.350  \n",
       "1   121.770    53.350  \n",
       "2   121.700    53.365  \n",
       "3   121.700    53.380  \n",
       "4   121.695    53.240  \n",
       "5   121.850    53.220  \n",
       "\n",
       "[6 rows x 502 columns]"
      ]
     },
     "execution_count": 14,
     "metadata": {},
     "output_type": "execute_result"
    }
   ],
   "source": [
    "df.head(6)"
   ]
  },
  {
   "cell_type": "code",
   "execution_count": null,
   "metadata": {},
   "outputs": [],
   "source": []
  },
  {
   "cell_type": "code",
   "execution_count": 3,
   "metadata": {},
   "outputs": [],
   "source": [
    "#df.set_index('DATE',inplace=True)"
   ]
  },
  {
   "cell_type": "code",
   "execution_count": 4,
   "metadata": {},
   "outputs": [
    {
     "data": {
      "text/html": [
       "<div>\n",
       "<style scoped>\n",
       "    .dataframe tbody tr th:only-of-type {\n",
       "        vertical-align: middle;\n",
       "    }\n",
       "\n",
       "    .dataframe tbody tr th {\n",
       "        vertical-align: top;\n",
       "    }\n",
       "\n",
       "    .dataframe thead th {\n",
       "        text-align: right;\n",
       "    }\n",
       "</style>\n",
       "<table border=\"1\" class=\"dataframe\">\n",
       "  <thead>\n",
       "    <tr style=\"text-align: right;\">\n",
       "      <th></th>\n",
       "      <th>SP500</th>\n",
       "      <th>NASDAQ.AAL</th>\n",
       "      <th>NASDAQ.AAPL</th>\n",
       "      <th>NASDAQ.ADBE</th>\n",
       "      <th>NASDAQ.ADI</th>\n",
       "      <th>NASDAQ.ADP</th>\n",
       "      <th>NASDAQ.ADSK</th>\n",
       "      <th>NASDAQ.AKAM</th>\n",
       "      <th>NASDAQ.ALXN</th>\n",
       "      <th>NASDAQ.AMAT</th>\n",
       "      <th>...</th>\n",
       "      <th>NYSE.WYN</th>\n",
       "      <th>NYSE.XEC</th>\n",
       "      <th>NYSE.XEL</th>\n",
       "      <th>NYSE.XL</th>\n",
       "      <th>NYSE.XOM</th>\n",
       "      <th>NYSE.XRX</th>\n",
       "      <th>NYSE.XYL</th>\n",
       "      <th>NYSE.YUM</th>\n",
       "      <th>NYSE.ZBH</th>\n",
       "      <th>NYSE.ZTS</th>\n",
       "    </tr>\n",
       "    <tr>\n",
       "      <th>DATE</th>\n",
       "      <th></th>\n",
       "      <th></th>\n",
       "      <th></th>\n",
       "      <th></th>\n",
       "      <th></th>\n",
       "      <th></th>\n",
       "      <th></th>\n",
       "      <th></th>\n",
       "      <th></th>\n",
       "      <th></th>\n",
       "      <th></th>\n",
       "      <th></th>\n",
       "      <th></th>\n",
       "      <th></th>\n",
       "      <th></th>\n",
       "      <th></th>\n",
       "      <th></th>\n",
       "      <th></th>\n",
       "      <th></th>\n",
       "      <th></th>\n",
       "      <th></th>\n",
       "    </tr>\n",
       "  </thead>\n",
       "  <tbody>\n",
       "    <tr>\n",
       "      <th>1491226200</th>\n",
       "      <td>2363.6101</td>\n",
       "      <td>42.3300</td>\n",
       "      <td>143.6800</td>\n",
       "      <td>129.6300</td>\n",
       "      <td>82.040</td>\n",
       "      <td>102.2300</td>\n",
       "      <td>85.2200</td>\n",
       "      <td>59.760</td>\n",
       "      <td>121.52</td>\n",
       "      <td>38.99</td>\n",
       "      <td>...</td>\n",
       "      <td>84.370</td>\n",
       "      <td>119.035</td>\n",
       "      <td>44.40</td>\n",
       "      <td>39.88</td>\n",
       "      <td>82.03</td>\n",
       "      <td>7.36</td>\n",
       "      <td>50.22</td>\n",
       "      <td>63.86</td>\n",
       "      <td>122.000</td>\n",
       "      <td>53.350</td>\n",
       "    </tr>\n",
       "    <tr>\n",
       "      <th>1491226260</th>\n",
       "      <td>2364.1001</td>\n",
       "      <td>42.3600</td>\n",
       "      <td>143.7000</td>\n",
       "      <td>130.3200</td>\n",
       "      <td>82.080</td>\n",
       "      <td>102.1400</td>\n",
       "      <td>85.6500</td>\n",
       "      <td>59.840</td>\n",
       "      <td>121.48</td>\n",
       "      <td>39.01</td>\n",
       "      <td>...</td>\n",
       "      <td>84.370</td>\n",
       "      <td>119.035</td>\n",
       "      <td>44.11</td>\n",
       "      <td>39.88</td>\n",
       "      <td>82.03</td>\n",
       "      <td>7.38</td>\n",
       "      <td>50.22</td>\n",
       "      <td>63.74</td>\n",
       "      <td>121.770</td>\n",
       "      <td>53.350</td>\n",
       "    </tr>\n",
       "    <tr>\n",
       "      <th>1491226320</th>\n",
       "      <td>2362.6799</td>\n",
       "      <td>42.3100</td>\n",
       "      <td>143.6901</td>\n",
       "      <td>130.2250</td>\n",
       "      <td>82.030</td>\n",
       "      <td>102.2125</td>\n",
       "      <td>85.5100</td>\n",
       "      <td>59.795</td>\n",
       "      <td>121.93</td>\n",
       "      <td>38.91</td>\n",
       "      <td>...</td>\n",
       "      <td>84.585</td>\n",
       "      <td>119.260</td>\n",
       "      <td>44.09</td>\n",
       "      <td>39.98</td>\n",
       "      <td>82.02</td>\n",
       "      <td>7.36</td>\n",
       "      <td>50.12</td>\n",
       "      <td>63.75</td>\n",
       "      <td>121.700</td>\n",
       "      <td>53.365</td>\n",
       "    </tr>\n",
       "    <tr>\n",
       "      <th>1491226380</th>\n",
       "      <td>2364.3101</td>\n",
       "      <td>42.3700</td>\n",
       "      <td>143.6400</td>\n",
       "      <td>130.0729</td>\n",
       "      <td>82.000</td>\n",
       "      <td>102.1400</td>\n",
       "      <td>85.4872</td>\n",
       "      <td>59.620</td>\n",
       "      <td>121.44</td>\n",
       "      <td>38.84</td>\n",
       "      <td>...</td>\n",
       "      <td>84.460</td>\n",
       "      <td>119.260</td>\n",
       "      <td>44.25</td>\n",
       "      <td>39.99</td>\n",
       "      <td>82.02</td>\n",
       "      <td>7.35</td>\n",
       "      <td>50.16</td>\n",
       "      <td>63.88</td>\n",
       "      <td>121.700</td>\n",
       "      <td>53.380</td>\n",
       "    </tr>\n",
       "    <tr>\n",
       "      <th>1491226440</th>\n",
       "      <td>2364.8501</td>\n",
       "      <td>42.5378</td>\n",
       "      <td>143.6600</td>\n",
       "      <td>129.8800</td>\n",
       "      <td>82.035</td>\n",
       "      <td>102.0600</td>\n",
       "      <td>85.7001</td>\n",
       "      <td>59.620</td>\n",
       "      <td>121.60</td>\n",
       "      <td>38.93</td>\n",
       "      <td>...</td>\n",
       "      <td>84.470</td>\n",
       "      <td>119.610</td>\n",
       "      <td>44.11</td>\n",
       "      <td>39.96</td>\n",
       "      <td>82.03</td>\n",
       "      <td>7.36</td>\n",
       "      <td>50.20</td>\n",
       "      <td>63.91</td>\n",
       "      <td>121.695</td>\n",
       "      <td>53.240</td>\n",
       "    </tr>\n",
       "  </tbody>\n",
       "</table>\n",
       "<p>5 rows × 501 columns</p>\n",
       "</div>"
      ],
      "text/plain": [
       "                SP500  NASDAQ.AAL  NASDAQ.AAPL  NASDAQ.ADBE  NASDAQ.ADI  \\\n",
       "DATE                                                                      \n",
       "1491226200  2363.6101     42.3300     143.6800     129.6300      82.040   \n",
       "1491226260  2364.1001     42.3600     143.7000     130.3200      82.080   \n",
       "1491226320  2362.6799     42.3100     143.6901     130.2250      82.030   \n",
       "1491226380  2364.3101     42.3700     143.6400     130.0729      82.000   \n",
       "1491226440  2364.8501     42.5378     143.6600     129.8800      82.035   \n",
       "\n",
       "            NASDAQ.ADP  NASDAQ.ADSK  NASDAQ.AKAM  NASDAQ.ALXN  NASDAQ.AMAT  \\\n",
       "DATE                                                                         \n",
       "1491226200    102.2300      85.2200       59.760       121.52        38.99   \n",
       "1491226260    102.1400      85.6500       59.840       121.48        39.01   \n",
       "1491226320    102.2125      85.5100       59.795       121.93        38.91   \n",
       "1491226380    102.1400      85.4872       59.620       121.44        38.84   \n",
       "1491226440    102.0600      85.7001       59.620       121.60        38.93   \n",
       "\n",
       "              ...     NYSE.WYN  NYSE.XEC  NYSE.XEL  NYSE.XL  NYSE.XOM  \\\n",
       "DATE          ...                                                       \n",
       "1491226200    ...       84.370   119.035     44.40    39.88     82.03   \n",
       "1491226260    ...       84.370   119.035     44.11    39.88     82.03   \n",
       "1491226320    ...       84.585   119.260     44.09    39.98     82.02   \n",
       "1491226380    ...       84.460   119.260     44.25    39.99     82.02   \n",
       "1491226440    ...       84.470   119.610     44.11    39.96     82.03   \n",
       "\n",
       "            NYSE.XRX  NYSE.XYL  NYSE.YUM  NYSE.ZBH  NYSE.ZTS  \n",
       "DATE                                                          \n",
       "1491226200      7.36     50.22     63.86   122.000    53.350  \n",
       "1491226260      7.38     50.22     63.74   121.770    53.350  \n",
       "1491226320      7.36     50.12     63.75   121.700    53.365  \n",
       "1491226380      7.35     50.16     63.88   121.700    53.380  \n",
       "1491226440      7.36     50.20     63.91   121.695    53.240  \n",
       "\n",
       "[5 rows x 501 columns]"
      ]
     },
     "execution_count": 4,
     "metadata": {},
     "output_type": "execute_result"
    }
   ],
   "source": [
    "df.head()"
   ]
  },
  {
   "cell_type": "code",
   "execution_count": 19,
   "metadata": {},
   "outputs": [],
   "source": [
    "# We see date need to be clean\n",
    "df['DATE']=pd.to_datetime(df['DATE'],unit='ms')"
   ]
  },
  {
   "cell_type": "code",
   "execution_count": 20,
   "metadata": {},
   "outputs": [
    {
     "data": {
      "text/html": [
       "<div>\n",
       "<style scoped>\n",
       "    .dataframe tbody tr th:only-of-type {\n",
       "        vertical-align: middle;\n",
       "    }\n",
       "\n",
       "    .dataframe tbody tr th {\n",
       "        vertical-align: top;\n",
       "    }\n",
       "\n",
       "    .dataframe thead th {\n",
       "        text-align: right;\n",
       "    }\n",
       "</style>\n",
       "<table border=\"1\" class=\"dataframe\">\n",
       "  <thead>\n",
       "    <tr style=\"text-align: right;\">\n",
       "      <th></th>\n",
       "      <th>DATE</th>\n",
       "      <th>SP500</th>\n",
       "      <th>NASDAQ.AAL</th>\n",
       "      <th>NASDAQ.AAPL</th>\n",
       "      <th>NASDAQ.ADBE</th>\n",
       "      <th>NASDAQ.ADI</th>\n",
       "      <th>NASDAQ.ADP</th>\n",
       "      <th>NASDAQ.ADSK</th>\n",
       "      <th>NASDAQ.AKAM</th>\n",
       "      <th>NASDAQ.ALXN</th>\n",
       "      <th>...</th>\n",
       "      <th>NYSE.WYN</th>\n",
       "      <th>NYSE.XEC</th>\n",
       "      <th>NYSE.XEL</th>\n",
       "      <th>NYSE.XL</th>\n",
       "      <th>NYSE.XOM</th>\n",
       "      <th>NYSE.XRX</th>\n",
       "      <th>NYSE.XYL</th>\n",
       "      <th>NYSE.YUM</th>\n",
       "      <th>NYSE.ZBH</th>\n",
       "      <th>NYSE.ZTS</th>\n",
       "    </tr>\n",
       "  </thead>\n",
       "  <tbody>\n",
       "    <tr>\n",
       "      <th>0</th>\n",
       "      <td>1970-01-18 06:13:46.200</td>\n",
       "      <td>2363.6101</td>\n",
       "      <td>42.3300</td>\n",
       "      <td>143.6800</td>\n",
       "      <td>129.6300</td>\n",
       "      <td>82.040</td>\n",
       "      <td>102.2300</td>\n",
       "      <td>85.2200</td>\n",
       "      <td>59.760</td>\n",
       "      <td>121.52</td>\n",
       "      <td>...</td>\n",
       "      <td>84.370</td>\n",
       "      <td>119.035</td>\n",
       "      <td>44.40</td>\n",
       "      <td>39.88</td>\n",
       "      <td>82.03</td>\n",
       "      <td>7.36</td>\n",
       "      <td>50.22</td>\n",
       "      <td>63.86</td>\n",
       "      <td>122.000</td>\n",
       "      <td>53.350</td>\n",
       "    </tr>\n",
       "    <tr>\n",
       "      <th>1</th>\n",
       "      <td>1970-01-18 06:13:46.260</td>\n",
       "      <td>2364.1001</td>\n",
       "      <td>42.3600</td>\n",
       "      <td>143.7000</td>\n",
       "      <td>130.3200</td>\n",
       "      <td>82.080</td>\n",
       "      <td>102.1400</td>\n",
       "      <td>85.6500</td>\n",
       "      <td>59.840</td>\n",
       "      <td>121.48</td>\n",
       "      <td>...</td>\n",
       "      <td>84.370</td>\n",
       "      <td>119.035</td>\n",
       "      <td>44.11</td>\n",
       "      <td>39.88</td>\n",
       "      <td>82.03</td>\n",
       "      <td>7.38</td>\n",
       "      <td>50.22</td>\n",
       "      <td>63.74</td>\n",
       "      <td>121.770</td>\n",
       "      <td>53.350</td>\n",
       "    </tr>\n",
       "    <tr>\n",
       "      <th>2</th>\n",
       "      <td>1970-01-18 06:13:46.320</td>\n",
       "      <td>2362.6799</td>\n",
       "      <td>42.3100</td>\n",
       "      <td>143.6901</td>\n",
       "      <td>130.2250</td>\n",
       "      <td>82.030</td>\n",
       "      <td>102.2125</td>\n",
       "      <td>85.5100</td>\n",
       "      <td>59.795</td>\n",
       "      <td>121.93</td>\n",
       "      <td>...</td>\n",
       "      <td>84.585</td>\n",
       "      <td>119.260</td>\n",
       "      <td>44.09</td>\n",
       "      <td>39.98</td>\n",
       "      <td>82.02</td>\n",
       "      <td>7.36</td>\n",
       "      <td>50.12</td>\n",
       "      <td>63.75</td>\n",
       "      <td>121.700</td>\n",
       "      <td>53.365</td>\n",
       "    </tr>\n",
       "    <tr>\n",
       "      <th>3</th>\n",
       "      <td>1970-01-18 06:13:46.380</td>\n",
       "      <td>2364.3101</td>\n",
       "      <td>42.3700</td>\n",
       "      <td>143.6400</td>\n",
       "      <td>130.0729</td>\n",
       "      <td>82.000</td>\n",
       "      <td>102.1400</td>\n",
       "      <td>85.4872</td>\n",
       "      <td>59.620</td>\n",
       "      <td>121.44</td>\n",
       "      <td>...</td>\n",
       "      <td>84.460</td>\n",
       "      <td>119.260</td>\n",
       "      <td>44.25</td>\n",
       "      <td>39.99</td>\n",
       "      <td>82.02</td>\n",
       "      <td>7.35</td>\n",
       "      <td>50.16</td>\n",
       "      <td>63.88</td>\n",
       "      <td>121.700</td>\n",
       "      <td>53.380</td>\n",
       "    </tr>\n",
       "    <tr>\n",
       "      <th>4</th>\n",
       "      <td>1970-01-18 06:13:46.440</td>\n",
       "      <td>2364.8501</td>\n",
       "      <td>42.5378</td>\n",
       "      <td>143.6600</td>\n",
       "      <td>129.8800</td>\n",
       "      <td>82.035</td>\n",
       "      <td>102.0600</td>\n",
       "      <td>85.7001</td>\n",
       "      <td>59.620</td>\n",
       "      <td>121.60</td>\n",
       "      <td>...</td>\n",
       "      <td>84.470</td>\n",
       "      <td>119.610</td>\n",
       "      <td>44.11</td>\n",
       "      <td>39.96</td>\n",
       "      <td>82.03</td>\n",
       "      <td>7.36</td>\n",
       "      <td>50.20</td>\n",
       "      <td>63.91</td>\n",
       "      <td>121.695</td>\n",
       "      <td>53.240</td>\n",
       "    </tr>\n",
       "  </tbody>\n",
       "</table>\n",
       "<p>5 rows × 502 columns</p>\n",
       "</div>"
      ],
      "text/plain": [
       "                     DATE      SP500  NASDAQ.AAL  NASDAQ.AAPL  NASDAQ.ADBE  \\\n",
       "0 1970-01-18 06:13:46.200  2363.6101     42.3300     143.6800     129.6300   \n",
       "1 1970-01-18 06:13:46.260  2364.1001     42.3600     143.7000     130.3200   \n",
       "2 1970-01-18 06:13:46.320  2362.6799     42.3100     143.6901     130.2250   \n",
       "3 1970-01-18 06:13:46.380  2364.3101     42.3700     143.6400     130.0729   \n",
       "4 1970-01-18 06:13:46.440  2364.8501     42.5378     143.6600     129.8800   \n",
       "\n",
       "   NASDAQ.ADI  NASDAQ.ADP  NASDAQ.ADSK  NASDAQ.AKAM  NASDAQ.ALXN    ...     \\\n",
       "0      82.040    102.2300      85.2200       59.760       121.52    ...      \n",
       "1      82.080    102.1400      85.6500       59.840       121.48    ...      \n",
       "2      82.030    102.2125      85.5100       59.795       121.93    ...      \n",
       "3      82.000    102.1400      85.4872       59.620       121.44    ...      \n",
       "4      82.035    102.0600      85.7001       59.620       121.60    ...      \n",
       "\n",
       "   NYSE.WYN  NYSE.XEC  NYSE.XEL  NYSE.XL  NYSE.XOM  NYSE.XRX  NYSE.XYL  \\\n",
       "0    84.370   119.035     44.40    39.88     82.03      7.36     50.22   \n",
       "1    84.370   119.035     44.11    39.88     82.03      7.38     50.22   \n",
       "2    84.585   119.260     44.09    39.98     82.02      7.36     50.12   \n",
       "3    84.460   119.260     44.25    39.99     82.02      7.35     50.16   \n",
       "4    84.470   119.610     44.11    39.96     82.03      7.36     50.20   \n",
       "\n",
       "   NYSE.YUM  NYSE.ZBH  NYSE.ZTS  \n",
       "0     63.86   122.000    53.350  \n",
       "1     63.74   121.770    53.350  \n",
       "2     63.75   121.700    53.365  \n",
       "3     63.88   121.700    53.380  \n",
       "4     63.91   121.695    53.240  \n",
       "\n",
       "[5 rows x 502 columns]"
      ]
     },
     "execution_count": 20,
     "metadata": {},
     "output_type": "execute_result"
    }
   ],
   "source": [
    "df.head()"
   ]
  },
  {
   "cell_type": "code",
   "execution_count": 22,
   "metadata": {},
   "outputs": [
    {
     "data": {
      "text/plain": [
       "0   1970-01-18 06:13:46.200\n",
       "1   1970-01-18 06:13:46.260\n",
       "2   1970-01-18 06:13:46.320\n",
       "3   1970-01-18 06:13:46.380\n",
       "4   1970-01-18 06:13:46.440\n",
       "Name: DATE, dtype: datetime64[ns]"
      ]
     },
     "execution_count": 22,
     "metadata": {},
     "output_type": "execute_result"
    }
   ],
   "source": [
    "df['DATE'].head()"
   ]
  },
  {
   "cell_type": "code",
   "execution_count": 23,
   "metadata": {},
   "outputs": [
    {
     "data": {
      "text/plain": [
       "pandas._libs.tslibs.timestamps.Timestamp"
      ]
     },
     "execution_count": 23,
     "metadata": {},
     "output_type": "execute_result"
    }
   ],
   "source": [
    "type(df['DATE'][0])"
   ]
  },
  {
   "cell_type": "code",
   "execution_count": 24,
   "metadata": {},
   "outputs": [],
   "source": [
    "# make a copy of it\n",
    "stock_data=df.copy()"
   ]
  },
  {
   "cell_type": "code",
   "execution_count": 30,
   "metadata": {},
   "outputs": [],
   "source": [
    "stock_data.set_index('DATE',inplace=True)"
   ]
  },
  {
   "cell_type": "code",
   "execution_count": 31,
   "metadata": {},
   "outputs": [
    {
     "data": {
      "text/html": [
       "<div>\n",
       "<style scoped>\n",
       "    .dataframe tbody tr th:only-of-type {\n",
       "        vertical-align: middle;\n",
       "    }\n",
       "\n",
       "    .dataframe tbody tr th {\n",
       "        vertical-align: top;\n",
       "    }\n",
       "\n",
       "    .dataframe thead th {\n",
       "        text-align: right;\n",
       "    }\n",
       "</style>\n",
       "<table border=\"1\" class=\"dataframe\">\n",
       "  <thead>\n",
       "    <tr style=\"text-align: right;\">\n",
       "      <th></th>\n",
       "      <th>SP500</th>\n",
       "      <th>NASDAQ.AAL</th>\n",
       "      <th>NASDAQ.AAPL</th>\n",
       "      <th>NASDAQ.ADBE</th>\n",
       "      <th>NASDAQ.ADI</th>\n",
       "      <th>NASDAQ.ADP</th>\n",
       "      <th>NASDAQ.ADSK</th>\n",
       "      <th>NASDAQ.AKAM</th>\n",
       "      <th>NASDAQ.ALXN</th>\n",
       "      <th>NASDAQ.AMAT</th>\n",
       "      <th>...</th>\n",
       "      <th>NYSE.WYN</th>\n",
       "      <th>NYSE.XEC</th>\n",
       "      <th>NYSE.XEL</th>\n",
       "      <th>NYSE.XL</th>\n",
       "      <th>NYSE.XOM</th>\n",
       "      <th>NYSE.XRX</th>\n",
       "      <th>NYSE.XYL</th>\n",
       "      <th>NYSE.YUM</th>\n",
       "      <th>NYSE.ZBH</th>\n",
       "      <th>NYSE.ZTS</th>\n",
       "    </tr>\n",
       "    <tr>\n",
       "      <th>DATE</th>\n",
       "      <th></th>\n",
       "      <th></th>\n",
       "      <th></th>\n",
       "      <th></th>\n",
       "      <th></th>\n",
       "      <th></th>\n",
       "      <th></th>\n",
       "      <th></th>\n",
       "      <th></th>\n",
       "      <th></th>\n",
       "      <th></th>\n",
       "      <th></th>\n",
       "      <th></th>\n",
       "      <th></th>\n",
       "      <th></th>\n",
       "      <th></th>\n",
       "      <th></th>\n",
       "      <th></th>\n",
       "      <th></th>\n",
       "      <th></th>\n",
       "      <th></th>\n",
       "    </tr>\n",
       "  </thead>\n",
       "  <tbody>\n",
       "    <tr>\n",
       "      <th>1970-01-18 06:13:46.200</th>\n",
       "      <td>2363.6101</td>\n",
       "      <td>42.3300</td>\n",
       "      <td>143.6800</td>\n",
       "      <td>129.6300</td>\n",
       "      <td>82.040</td>\n",
       "      <td>102.2300</td>\n",
       "      <td>85.2200</td>\n",
       "      <td>59.760</td>\n",
       "      <td>121.52</td>\n",
       "      <td>38.99</td>\n",
       "      <td>...</td>\n",
       "      <td>84.370</td>\n",
       "      <td>119.035</td>\n",
       "      <td>44.40</td>\n",
       "      <td>39.88</td>\n",
       "      <td>82.03</td>\n",
       "      <td>7.36</td>\n",
       "      <td>50.22</td>\n",
       "      <td>63.86</td>\n",
       "      <td>122.000</td>\n",
       "      <td>53.350</td>\n",
       "    </tr>\n",
       "    <tr>\n",
       "      <th>1970-01-18 06:13:46.260</th>\n",
       "      <td>2364.1001</td>\n",
       "      <td>42.3600</td>\n",
       "      <td>143.7000</td>\n",
       "      <td>130.3200</td>\n",
       "      <td>82.080</td>\n",
       "      <td>102.1400</td>\n",
       "      <td>85.6500</td>\n",
       "      <td>59.840</td>\n",
       "      <td>121.48</td>\n",
       "      <td>39.01</td>\n",
       "      <td>...</td>\n",
       "      <td>84.370</td>\n",
       "      <td>119.035</td>\n",
       "      <td>44.11</td>\n",
       "      <td>39.88</td>\n",
       "      <td>82.03</td>\n",
       "      <td>7.38</td>\n",
       "      <td>50.22</td>\n",
       "      <td>63.74</td>\n",
       "      <td>121.770</td>\n",
       "      <td>53.350</td>\n",
       "    </tr>\n",
       "    <tr>\n",
       "      <th>1970-01-18 06:13:46.320</th>\n",
       "      <td>2362.6799</td>\n",
       "      <td>42.3100</td>\n",
       "      <td>143.6901</td>\n",
       "      <td>130.2250</td>\n",
       "      <td>82.030</td>\n",
       "      <td>102.2125</td>\n",
       "      <td>85.5100</td>\n",
       "      <td>59.795</td>\n",
       "      <td>121.93</td>\n",
       "      <td>38.91</td>\n",
       "      <td>...</td>\n",
       "      <td>84.585</td>\n",
       "      <td>119.260</td>\n",
       "      <td>44.09</td>\n",
       "      <td>39.98</td>\n",
       "      <td>82.02</td>\n",
       "      <td>7.36</td>\n",
       "      <td>50.12</td>\n",
       "      <td>63.75</td>\n",
       "      <td>121.700</td>\n",
       "      <td>53.365</td>\n",
       "    </tr>\n",
       "    <tr>\n",
       "      <th>1970-01-18 06:13:46.380</th>\n",
       "      <td>2364.3101</td>\n",
       "      <td>42.3700</td>\n",
       "      <td>143.6400</td>\n",
       "      <td>130.0729</td>\n",
       "      <td>82.000</td>\n",
       "      <td>102.1400</td>\n",
       "      <td>85.4872</td>\n",
       "      <td>59.620</td>\n",
       "      <td>121.44</td>\n",
       "      <td>38.84</td>\n",
       "      <td>...</td>\n",
       "      <td>84.460</td>\n",
       "      <td>119.260</td>\n",
       "      <td>44.25</td>\n",
       "      <td>39.99</td>\n",
       "      <td>82.02</td>\n",
       "      <td>7.35</td>\n",
       "      <td>50.16</td>\n",
       "      <td>63.88</td>\n",
       "      <td>121.700</td>\n",
       "      <td>53.380</td>\n",
       "    </tr>\n",
       "    <tr>\n",
       "      <th>1970-01-18 06:13:46.440</th>\n",
       "      <td>2364.8501</td>\n",
       "      <td>42.5378</td>\n",
       "      <td>143.6600</td>\n",
       "      <td>129.8800</td>\n",
       "      <td>82.035</td>\n",
       "      <td>102.0600</td>\n",
       "      <td>85.7001</td>\n",
       "      <td>59.620</td>\n",
       "      <td>121.60</td>\n",
       "      <td>38.93</td>\n",
       "      <td>...</td>\n",
       "      <td>84.470</td>\n",
       "      <td>119.610</td>\n",
       "      <td>44.11</td>\n",
       "      <td>39.96</td>\n",
       "      <td>82.03</td>\n",
       "      <td>7.36</td>\n",
       "      <td>50.20</td>\n",
       "      <td>63.91</td>\n",
       "      <td>121.695</td>\n",
       "      <td>53.240</td>\n",
       "    </tr>\n",
       "  </tbody>\n",
       "</table>\n",
       "<p>5 rows × 501 columns</p>\n",
       "</div>"
      ],
      "text/plain": [
       "                             SP500  NASDAQ.AAL  NASDAQ.AAPL  NASDAQ.ADBE  \\\n",
       "DATE                                                                       \n",
       "1970-01-18 06:13:46.200  2363.6101     42.3300     143.6800     129.6300   \n",
       "1970-01-18 06:13:46.260  2364.1001     42.3600     143.7000     130.3200   \n",
       "1970-01-18 06:13:46.320  2362.6799     42.3100     143.6901     130.2250   \n",
       "1970-01-18 06:13:46.380  2364.3101     42.3700     143.6400     130.0729   \n",
       "1970-01-18 06:13:46.440  2364.8501     42.5378     143.6600     129.8800   \n",
       "\n",
       "                         NASDAQ.ADI  NASDAQ.ADP  NASDAQ.ADSK  NASDAQ.AKAM  \\\n",
       "DATE                                                                        \n",
       "1970-01-18 06:13:46.200      82.040    102.2300      85.2200       59.760   \n",
       "1970-01-18 06:13:46.260      82.080    102.1400      85.6500       59.840   \n",
       "1970-01-18 06:13:46.320      82.030    102.2125      85.5100       59.795   \n",
       "1970-01-18 06:13:46.380      82.000    102.1400      85.4872       59.620   \n",
       "1970-01-18 06:13:46.440      82.035    102.0600      85.7001       59.620   \n",
       "\n",
       "                         NASDAQ.ALXN  NASDAQ.AMAT    ...     NYSE.WYN  \\\n",
       "DATE                                                 ...                \n",
       "1970-01-18 06:13:46.200       121.52        38.99    ...       84.370   \n",
       "1970-01-18 06:13:46.260       121.48        39.01    ...       84.370   \n",
       "1970-01-18 06:13:46.320       121.93        38.91    ...       84.585   \n",
       "1970-01-18 06:13:46.380       121.44        38.84    ...       84.460   \n",
       "1970-01-18 06:13:46.440       121.60        38.93    ...       84.470   \n",
       "\n",
       "                         NYSE.XEC  NYSE.XEL  NYSE.XL  NYSE.XOM  NYSE.XRX  \\\n",
       "DATE                                                                       \n",
       "1970-01-18 06:13:46.200   119.035     44.40    39.88     82.03      7.36   \n",
       "1970-01-18 06:13:46.260   119.035     44.11    39.88     82.03      7.38   \n",
       "1970-01-18 06:13:46.320   119.260     44.09    39.98     82.02      7.36   \n",
       "1970-01-18 06:13:46.380   119.260     44.25    39.99     82.02      7.35   \n",
       "1970-01-18 06:13:46.440   119.610     44.11    39.96     82.03      7.36   \n",
       "\n",
       "                         NYSE.XYL  NYSE.YUM  NYSE.ZBH  NYSE.ZTS  \n",
       "DATE                                                             \n",
       "1970-01-18 06:13:46.200     50.22     63.86   122.000    53.350  \n",
       "1970-01-18 06:13:46.260     50.22     63.74   121.770    53.350  \n",
       "1970-01-18 06:13:46.320     50.12     63.75   121.700    53.365  \n",
       "1970-01-18 06:13:46.380     50.16     63.88   121.700    53.380  \n",
       "1970-01-18 06:13:46.440     50.20     63.91   121.695    53.240  \n",
       "\n",
       "[5 rows x 501 columns]"
      ]
     },
     "execution_count": 31,
     "metadata": {},
     "output_type": "execute_result"
    }
   ],
   "source": [
    "stock_data.head()"
   ]
  },
  {
   "cell_type": "markdown",
   "metadata": {},
   "source": [
    "### Data [1]  `NNASDAQ.AAPL`"
   ]
  },
  {
   "cell_type": "code",
   "execution_count": 32,
   "metadata": {},
   "outputs": [],
   "source": [
    "stock_AAPL = stock_data[['NASDAQ.AAPL']].copy()"
   ]
  },
  {
   "cell_type": "code",
   "execution_count": 33,
   "metadata": {},
   "outputs": [
    {
     "data": {
      "text/html": [
       "<div>\n",
       "<style scoped>\n",
       "    .dataframe tbody tr th:only-of-type {\n",
       "        vertical-align: middle;\n",
       "    }\n",
       "\n",
       "    .dataframe tbody tr th {\n",
       "        vertical-align: top;\n",
       "    }\n",
       "\n",
       "    .dataframe thead th {\n",
       "        text-align: right;\n",
       "    }\n",
       "</style>\n",
       "<table border=\"1\" class=\"dataframe\">\n",
       "  <thead>\n",
       "    <tr style=\"text-align: right;\">\n",
       "      <th></th>\n",
       "      <th>NASDAQ.AAPL</th>\n",
       "    </tr>\n",
       "    <tr>\n",
       "      <th>DATE</th>\n",
       "      <th></th>\n",
       "    </tr>\n",
       "  </thead>\n",
       "  <tbody>\n",
       "    <tr>\n",
       "      <th>1970-01-18 06:13:46.200</th>\n",
       "      <td>143.6800</td>\n",
       "    </tr>\n",
       "    <tr>\n",
       "      <th>1970-01-18 06:13:46.260</th>\n",
       "      <td>143.7000</td>\n",
       "    </tr>\n",
       "    <tr>\n",
       "      <th>1970-01-18 06:13:46.320</th>\n",
       "      <td>143.6901</td>\n",
       "    </tr>\n",
       "    <tr>\n",
       "      <th>1970-01-18 06:13:46.380</th>\n",
       "      <td>143.6400</td>\n",
       "    </tr>\n",
       "    <tr>\n",
       "      <th>1970-01-18 06:13:46.440</th>\n",
       "      <td>143.6600</td>\n",
       "    </tr>\n",
       "  </tbody>\n",
       "</table>\n",
       "</div>"
      ],
      "text/plain": [
       "                         NASDAQ.AAPL\n",
       "DATE                                \n",
       "1970-01-18 06:13:46.200     143.6800\n",
       "1970-01-18 06:13:46.260     143.7000\n",
       "1970-01-18 06:13:46.320     143.6901\n",
       "1970-01-18 06:13:46.380     143.6400\n",
       "1970-01-18 06:13:46.440     143.6600"
      ]
     },
     "execution_count": 33,
     "metadata": {},
     "output_type": "execute_result"
    }
   ],
   "source": [
    "stock_AAPL.head()"
   ]
  },
  {
   "cell_type": "code",
   "execution_count": 34,
   "metadata": {},
   "outputs": [
    {
     "data": {
      "text/html": [
       "<div>\n",
       "<style scoped>\n",
       "    .dataframe tbody tr th:only-of-type {\n",
       "        vertical-align: middle;\n",
       "    }\n",
       "\n",
       "    .dataframe tbody tr th {\n",
       "        vertical-align: top;\n",
       "    }\n",
       "\n",
       "    .dataframe thead th {\n",
       "        text-align: right;\n",
       "    }\n",
       "</style>\n",
       "<table border=\"1\" class=\"dataframe\">\n",
       "  <thead>\n",
       "    <tr style=\"text-align: right;\">\n",
       "      <th></th>\n",
       "      <th>count</th>\n",
       "      <th>mean</th>\n",
       "      <th>std</th>\n",
       "      <th>min</th>\n",
       "      <th>25%</th>\n",
       "      <th>50%</th>\n",
       "      <th>75%</th>\n",
       "      <th>max</th>\n",
       "    </tr>\n",
       "  </thead>\n",
       "  <tbody>\n",
       "    <tr>\n",
       "      <th>NASDAQ.AAPL</th>\n",
       "      <td>41266.0</td>\n",
       "      <td>150.453566</td>\n",
       "      <td>6.236826</td>\n",
       "      <td>140.16</td>\n",
       "      <td>144.64</td>\n",
       "      <td>149.945</td>\n",
       "      <td>155.065</td>\n",
       "      <td>164.51</td>\n",
       "    </tr>\n",
       "  </tbody>\n",
       "</table>\n",
       "</div>"
      ],
      "text/plain": [
       "               count        mean       std     min     25%      50%      75%  \\\n",
       "NASDAQ.AAPL  41266.0  150.453566  6.236826  140.16  144.64  149.945  155.065   \n",
       "\n",
       "                max  \n",
       "NASDAQ.AAPL  164.51  "
      ]
     },
     "execution_count": 34,
     "metadata": {},
     "output_type": "execute_result"
    }
   ],
   "source": [
    "stock_AAPL.describe().transpose()"
   ]
  },
  {
   "cell_type": "code",
   "execution_count": 35,
   "metadata": {},
   "outputs": [
    {
     "data": {
      "text/plain": [
       "NASDAQ.AAPL    41266\n",
       "dtype: int64"
      ]
     },
     "execution_count": 35,
     "metadata": {},
     "output_type": "execute_result"
    }
   ],
   "source": [
    "stock_AAPL.count()"
   ]
  },
  {
   "cell_type": "code",
   "execution_count": 36,
   "metadata": {},
   "outputs": [
    {
     "data": {
      "text/plain": [
       "<matplotlib.axes._subplots.AxesSubplot at 0x17889f49048>"
      ]
     },
     "execution_count": 36,
     "metadata": {},
     "output_type": "execute_result"
    },
    {
     "data": {
      "image/png": "[encoded data removed]",
      "text/plain": [
       "<Figure size 432x288 with 1 Axes>"
      ]
     },
     "metadata": {},
     "output_type": "display_data"
    }
   ],
   "source": [
    "stock_AAPL.plot()"
   ]
  },
  {
   "cell_type": "code",
   "execution_count": 37,
   "metadata": {},
   "outputs": [],
   "source": [
    "# Change values to log to view more clear plot\n",
    "stock_AAPL[\"AAPL_log\"]=stock_AAPL[\"NASDAQ.AAPL\"].apply(lambda x:np.log(x))"
   ]
  },
  {
   "cell_type": "code",
   "execution_count": 38,
   "metadata": {},
   "outputs": [
    {
     "data": {
      "text/plain": [
       "<matplotlib.axes._subplots.AxesSubplot at 0x1788a4f09b0>"
      ]
     },
     "execution_count": 38,
     "metadata": {},
     "output_type": "execute_result"
    },
    {
     "data": {
      "image/png": "[encoded data removed]",
      "text/plain": [
       "<Figure size 864x576 with 1 Axes>"
      ]
     },
     "metadata": {},
     "output_type": "display_data"
    }
   ],
   "source": [
    "stock_AAPL[\"AAPL_log\"].plot(figsize=(12,8))"
   ]
  },
  {
   "cell_type": "code",
   "execution_count": 39,
   "metadata": {},
   "outputs": [
    {
     "data": {
      "image/png": "[encoded data removed]",
      "text/plain": [
       "<Figure size 864x576 with 2 Axes>"
      ]
     },
     "metadata": {},
     "output_type": "display_data"
    }
   ],
   "source": [
    "#  plots \n",
    "%matplotlib inline\n",
    "fig = plt.figure(figsize=(12,8))\n",
    "ax1 = fig.add_subplot(211)\n",
    "fig = sm.graphics.tsa.plot_acf(stock_AAPL[\"AAPL_log\"].values.squeeze(), lags=40, ax=ax1)\n",
    "ax2 = fig.add_subplot(212)\n",
    "fig = sm.graphics.tsa.plot_pacf(stock_AAPL[\"AAPL_log\"], lags=40, ax=ax2)"
   ]
  },
  {
   "cell_type": "code",
   "execution_count": 40,
   "metadata": {},
   "outputs": [
    {
     "data": {
      "image/png": "[encoded data removed]",
      "text/plain": [
       "<Figure size 864x576 with 1 Axes>"
      ]
     },
     "metadata": {},
     "output_type": "display_data"
    }
   ],
   "source": [
    "# Plotting Rolling Statistics and check for Statinalry\n",
    "rolmean = stock_AAPL.rolling(12).mean()\n",
    "rolstd = stock_AAPL.rolling(12).std()\n",
    "plt.figure(figsize=(12,8)) \n",
    "plt.plot( stock_AAPL, color='blue',label='Original')\n",
    "plt.plot(rolmean, color='red', label='Rolling Mean')\n",
    "plt.plot(rolstd, color='black', label = 'Rolling Std')\n",
    "plt.legend(loc='best')\n",
    "plt.title('Rolling Mean & Standard Deviation')\n",
    "plt.show()\n",
    "# Note: Moving mean and moving std at any instant time 't', we take the mean/std fo the last\n",
    "# year which in this case is 12 months."
   ]
  },
  {
   "cell_type": "code",
   "execution_count": 41,
   "metadata": {},
   "outputs": [],
   "source": [
    "\n",
    "from statsmodels.tsa.stattools import adfuller\n",
    "\n",
    "def adf_check(time_series):\n",
    "    \"\"\"\n",
    "    Pass in a time series, returns ADF report\n",
    "    \"\"\"\n",
    "    result = adfuller(time_series)\n",
    "    print('Augmented Dickey-Fuller Test:')\n",
    "    labels = ['ADF Test Statistic','p-value','#Lags Used','Number of Observations Used']\n",
    "\n",
    "    for value,label in zip(result,labels):\n",
    "        print(label+' : '+str(value) )\n",
    "    \n",
    "    if result[1] <= 0.05:\n",
    "        print(\"strong evidence against the null hypothesis, reject the null hypothesis. Data has no unit root and is stationary\")\n",
    "    else:\n",
    "        print(\"weak evidence against null hypothesis, time series has a unit root, indicating it is non-stationary \")"
   ]
  },
  {
   "cell_type": "code",
   "execution_count": 43,
   "metadata": {},
   "outputs": [
    {
     "name": "stdout",
     "output_type": "stream",
     "text": [
      "Augmented Dickey-Fuller Test:\n",
      "ADF Test Statistic : -0.9613512430114161\n",
      "p-value : 0.7670983561333815\n",
      "#Lags Used : 31\n",
      "Number of Observations Used : 41234\n",
      "weak evidence against null hypothesis, time series has a unit root, indicating it is non-stationary \n"
     ]
    }
   ],
   "source": [
    "adf_check(stock_AAPL[\"AAPL_log\"])"
   ]
  },
  {
   "cell_type": "code",
   "execution_count": 55,
   "metadata": {},
   "outputs": [
    {
     "data": {
      "text/plain": [
       "DATE\n",
       "1970-01-18 06:13:46.200         NaN\n",
       "1970-01-18 06:13:46.260    0.000139\n",
       "1970-01-18 06:13:46.320   -0.000069\n",
       "1970-01-18 06:13:46.380   -0.000349\n",
       "1970-01-18 06:13:46.440    0.000139\n",
       "1970-01-18 06:13:46.500    0.000835\n",
       "1970-01-18 06:13:46.560    0.000584\n",
       "1970-01-18 06:13:46.620   -0.000375\n",
       "1970-01-18 06:13:46.680    0.000035\n",
       "1970-01-18 06:13:46.740   -0.000104\n",
       "Name: AAPL_log, dtype: float64"
      ]
     },
     "execution_count": 55,
     "metadata": {},
     "output_type": "execute_result"
    }
   ],
   "source": [
    "first_diff_AAPL = stock_AAPL[\"AAPL_log\"] - stock_AAPL[\"AAPL_log\"].shift(1)\n",
    "first_diff_AAPL.head(10)"
   ]
  },
  {
   "cell_type": "code",
   "execution_count": 56,
   "metadata": {},
   "outputs": [
    {
     "name": "stdout",
     "output_type": "stream",
     "text": [
      "Augmented Dickey-Fuller Test:\n",
      "ADF Test Statistic : -35.706087115770536\n",
      "p-value : 0.0\n",
      "#Lags Used : 30\n",
      "Number of Observations Used : 41234\n",
      "strong evidence against the null hypothesis, reject the null hypothesis. Data has no unit root and is stationary\n"
     ]
    }
   ],
   "source": [
    "adf_check(first_diff_AAPL.dropna())"
   ]
  },
  {
   "cell_type": "code",
   "execution_count": 57,
   "metadata": {},
   "outputs": [
    {
     "data": {
      "text/plain": [
       "<matplotlib.axes._subplots.AxesSubplot at 0x1788a801d68>"
      ]
     },
     "execution_count": 57,
     "metadata": {},
     "output_type": "execute_result"
    },
    {
     "data": {
      "image/png": "[encoded data removed]",
      "text/plain": [
       "<Figure size 432x288 with 1 Axes>"
      ]
     },
     "metadata": {},
     "output_type": "display_data"
    }
   ],
   "source": [
    "first_diff_AAPL.plot()"
   ]
  },
  {
   "cell_type": "code",
   "execution_count": 58,
   "metadata": {},
   "outputs": [
    {
     "data": {
      "image/png": "[encoded data removed]",
      "text/plain": [
       "<Figure size 432x288 with 1 Axes>"
      ]
     },
     "metadata": {},
     "output_type": "display_data"
    }
   ],
   "source": [
    "from statsmodels.graphics.tsaplots import plot_acf,plot_pacf\n",
    "fig_first = plot_acf(first_diff_AAPL.dropna())"
   ]
  },
  {
   "cell_type": "code",
   "execution_count": 59,
   "metadata": {},
   "outputs": [
    {
     "ename": "KeyboardInterrupt",
     "evalue": "",
     "output_type": "error",
     "traceback": [
      "\u001b[1;31m---------------------------------------------------------------------------\u001b[0m",
      "\u001b[1;31mKeyboardInterrupt\u001b[0m                         Traceback (most recent call last)",
      "\u001b[1;32m<ipython-input-59-9a376b9dc268>\u001b[0m in \u001b[0;36m<module>\u001b[1;34m()\u001b[0m\n\u001b[1;32m----> 1\u001b[1;33m \u001b[0mresult\u001b[0m \u001b[1;33m=\u001b[0m \u001b[0mplot_pacf\u001b[0m\u001b[1;33m(\u001b[0m\u001b[0mfirst_diff_AAPL\u001b[0m\u001b[1;33m.\u001b[0m\u001b[0mdropna\u001b[0m\u001b[1;33m(\u001b[0m\u001b[1;33m)\u001b[0m\u001b[1;33m)\u001b[0m\u001b[1;33m\u001b[0m\u001b[0m\n\u001b[0m",
      "\u001b[1;32m~\\Anaconda3\\lib\\site-packages\\statsmodels\\graphics\\tsaplots.py\u001b[0m in \u001b[0;36mplot_pacf\u001b[1;34m(x, ax, lags, alpha, method, use_vlines, title, zero, vlines_kwargs, **kwargs)\u001b[0m\n\u001b[0;32m    221\u001b[0m         \u001b[0macf_x\u001b[0m \u001b[1;33m=\u001b[0m \u001b[0mpacf\u001b[0m\u001b[1;33m(\u001b[0m\u001b[0mx\u001b[0m\u001b[1;33m,\u001b[0m \u001b[0mnlags\u001b[0m\u001b[1;33m=\u001b[0m\u001b[0mnlags\u001b[0m\u001b[1;33m,\u001b[0m \u001b[0malpha\u001b[0m\u001b[1;33m=\u001b[0m\u001b[0malpha\u001b[0m\u001b[1;33m,\u001b[0m \u001b[0mmethod\u001b[0m\u001b[1;33m=\u001b[0m\u001b[0mmethod\u001b[0m\u001b[1;33m)\u001b[0m\u001b[1;33m\u001b[0m\u001b[0m\n\u001b[0;32m    222\u001b[0m     \u001b[1;32melse\u001b[0m\u001b[1;33m:\u001b[0m\u001b[1;33m\u001b[0m\u001b[0m\n\u001b[1;32m--> 223\u001b[1;33m         \u001b[0macf_x\u001b[0m\u001b[1;33m,\u001b[0m \u001b[0mconfint\u001b[0m \u001b[1;33m=\u001b[0m \u001b[0mpacf\u001b[0m\u001b[1;33m(\u001b[0m\u001b[0mx\u001b[0m\u001b[1;33m,\u001b[0m \u001b[0mnlags\u001b[0m\u001b[1;33m=\u001b[0m\u001b[0mnlags\u001b[0m\u001b[1;33m,\u001b[0m \u001b[0malpha\u001b[0m\u001b[1;33m=\u001b[0m\u001b[0malpha\u001b[0m\u001b[1;33m,\u001b[0m \u001b[0mmethod\u001b[0m\u001b[1;33m=\u001b[0m\u001b[0mmethod\u001b[0m\u001b[1;33m)\u001b[0m\u001b[1;33m\u001b[0m\u001b[0m\n\u001b[0m\u001b[0;32m    224\u001b[0m \u001b[1;33m\u001b[0m\u001b[0m\n\u001b[0;32m    225\u001b[0m     _plot_corr(ax, title, acf_x, confint, lags, irregular, use_vlines,\n",
      "\u001b[1;32m~\\Anaconda3\\lib\\site-packages\\statsmodels\\tsa\\stattools.py\u001b[0m in \u001b[0;36mpacf\u001b[1;34m(x, nlags, method, alpha)\u001b[0m\n\u001b[0;32m    599\u001b[0m         \u001b[0mret\u001b[0m \u001b[1;33m=\u001b[0m \u001b[0mpacf_ols\u001b[0m\u001b[1;33m(\u001b[0m\u001b[0mx\u001b[0m\u001b[1;33m,\u001b[0m \u001b[0mnlags\u001b[0m\u001b[1;33m=\u001b[0m\u001b[0mnlags\u001b[0m\u001b[1;33m)\u001b[0m\u001b[1;33m\u001b[0m\u001b[0m\n\u001b[0;32m    600\u001b[0m     \u001b[1;32melif\u001b[0m \u001b[0mmethod\u001b[0m \u001b[1;32min\u001b[0m \u001b[1;33m[\u001b[0m\u001b[1;34m'yw'\u001b[0m\u001b[1;33m,\u001b[0m \u001b[1;34m'ywu'\u001b[0m\u001b[1;33m,\u001b[0m \u001b[1;34m'ywunbiased'\u001b[0m\u001b[1;33m,\u001b[0m \u001b[1;34m'yw_unbiased'\u001b[0m\u001b[1;33m]\u001b[0m\u001b[1;33m:\u001b[0m\u001b[1;33m\u001b[0m\u001b[0m\n\u001b[1;32m--> 601\u001b[1;33m         \u001b[0mret\u001b[0m \u001b[1;33m=\u001b[0m \u001b[0mpacf_yw\u001b[0m\u001b[1;33m(\u001b[0m\u001b[0mx\u001b[0m\u001b[1;33m,\u001b[0m \u001b[0mnlags\u001b[0m\u001b[1;33m=\u001b[0m\u001b[0mnlags\u001b[0m\u001b[1;33m,\u001b[0m \u001b[0mmethod\u001b[0m\u001b[1;33m=\u001b[0m\u001b[1;34m'unbiased'\u001b[0m\u001b[1;33m)\u001b[0m\u001b[1;33m\u001b[0m\u001b[0m\n\u001b[0m\u001b[0;32m    602\u001b[0m     \u001b[1;32melif\u001b[0m \u001b[0mmethod\u001b[0m \u001b[1;32min\u001b[0m \u001b[1;33m[\u001b[0m\u001b[1;34m'ywm'\u001b[0m\u001b[1;33m,\u001b[0m \u001b[1;34m'ywmle'\u001b[0m\u001b[1;33m,\u001b[0m \u001b[1;34m'yw_mle'\u001b[0m\u001b[1;33m]\u001b[0m\u001b[1;33m:\u001b[0m\u001b[1;33m\u001b[0m\u001b[0m\n\u001b[0;32m    603\u001b[0m         \u001b[0mret\u001b[0m \u001b[1;33m=\u001b[0m \u001b[0mpacf_yw\u001b[0m\u001b[1;33m(\u001b[0m\u001b[0mx\u001b[0m\u001b[1;33m,\u001b[0m \u001b[0mnlags\u001b[0m\u001b[1;33m=\u001b[0m\u001b[0mnlags\u001b[0m\u001b[1;33m,\u001b[0m \u001b[0mmethod\u001b[0m\u001b[1;33m=\u001b[0m\u001b[1;34m'mle'\u001b[0m\u001b[1;33m)\u001b[0m\u001b[1;33m\u001b[0m\u001b[0m\n",
      "\u001b[1;32m~\\Anaconda3\\lib\\site-packages\\statsmodels\\tsa\\stattools.py\u001b[0m in \u001b[0;36mpacf_yw\u001b[1;34m(x, nlags, method)\u001b[0m\n\u001b[0;32m    518\u001b[0m     \u001b[0mpacf\u001b[0m \u001b[1;33m=\u001b[0m \u001b[1;33m[\u001b[0m\u001b[1;36m1.\u001b[0m\u001b[1;33m]\u001b[0m\u001b[1;33m\u001b[0m\u001b[0m\n\u001b[0;32m    519\u001b[0m     \u001b[1;32mfor\u001b[0m \u001b[0mk\u001b[0m \u001b[1;32min\u001b[0m \u001b[0mrange\u001b[0m\u001b[1;33m(\u001b[0m\u001b[1;36m1\u001b[0m\u001b[1;33m,\u001b[0m \u001b[0mnlags\u001b[0m \u001b[1;33m+\u001b[0m \u001b[1;36m1\u001b[0m\u001b[1;33m)\u001b[0m\u001b[1;33m:\u001b[0m\u001b[1;33m\u001b[0m\u001b[0m\n\u001b[1;32m--> 520\u001b[1;33m         \u001b[0mpacf\u001b[0m\u001b[1;33m.\u001b[0m\u001b[0mappend\u001b[0m\u001b[1;33m(\u001b[0m\u001b[0myule_walker\u001b[0m\u001b[1;33m(\u001b[0m\u001b[0mx\u001b[0m\u001b[1;33m,\u001b[0m \u001b[0mk\u001b[0m\u001b[1;33m,\u001b[0m \u001b[0mmethod\u001b[0m\u001b[1;33m=\u001b[0m\u001b[0mmethod\u001b[0m\u001b[1;33m)\u001b[0m\u001b[1;33m[\u001b[0m\u001b[1;36m0\u001b[0m\u001b[1;33m]\u001b[0m\u001b[1;33m[\u001b[0m\u001b[1;33m-\u001b[0m\u001b[1;36m1\u001b[0m\u001b[1;33m]\u001b[0m\u001b[1;33m)\u001b[0m\u001b[1;33m\u001b[0m\u001b[0m\n\u001b[0m\u001b[0;32m    521\u001b[0m     \u001b[1;32mreturn\u001b[0m \u001b[0mnp\u001b[0m\u001b[1;33m.\u001b[0m\u001b[0marray\u001b[0m\u001b[1;33m(\u001b[0m\u001b[0mpacf\u001b[0m\u001b[1;33m)\u001b[0m\u001b[1;33m\u001b[0m\u001b[0m\n\u001b[0;32m    522\u001b[0m \u001b[1;33m\u001b[0m\u001b[0m\n",
      "\u001b[1;32m~\\Anaconda3\\lib\\site-packages\\statsmodels\\regression\\linear_model.py\u001b[0m in \u001b[0;36myule_walker\u001b[1;34m(X, order, method, df, inv, demean)\u001b[0m\n\u001b[0;32m   1273\u001b[0m     \u001b[0mr\u001b[0m\u001b[1;33m[\u001b[0m\u001b[1;36m0\u001b[0m\u001b[1;33m]\u001b[0m \u001b[1;33m=\u001b[0m \u001b[1;33m(\u001b[0m\u001b[0mX\u001b[0m\u001b[1;33m**\u001b[0m\u001b[1;36m2\u001b[0m\u001b[1;33m)\u001b[0m\u001b[1;33m.\u001b[0m\u001b[0msum\u001b[0m\u001b[1;33m(\u001b[0m\u001b[1;33m)\u001b[0m \u001b[1;33m/\u001b[0m \u001b[0mdenom\u001b[0m\u001b[1;33m(\u001b[0m\u001b[1;36m0\u001b[0m\u001b[1;33m)\u001b[0m\u001b[1;33m\u001b[0m\u001b[0m\n\u001b[0;32m   1274\u001b[0m     \u001b[1;32mfor\u001b[0m \u001b[0mk\u001b[0m \u001b[1;32min\u001b[0m \u001b[0mrange\u001b[0m\u001b[1;33m(\u001b[0m\u001b[1;36m1\u001b[0m\u001b[1;33m,\u001b[0m \u001b[0morder\u001b[0m\u001b[1;33m+\u001b[0m\u001b[1;36m1\u001b[0m\u001b[1;33m)\u001b[0m\u001b[1;33m:\u001b[0m\u001b[1;33m\u001b[0m\u001b[0m\n\u001b[1;32m-> 1275\u001b[1;33m         \u001b[0mr\u001b[0m\u001b[1;33m[\u001b[0m\u001b[0mk\u001b[0m\u001b[1;33m]\u001b[0m \u001b[1;33m=\u001b[0m \u001b[1;33m(\u001b[0m\u001b[0mX\u001b[0m\u001b[1;33m[\u001b[0m\u001b[1;36m0\u001b[0m\u001b[1;33m:\u001b[0m\u001b[1;33m-\u001b[0m\u001b[0mk\u001b[0m\u001b[1;33m]\u001b[0m \u001b[1;33m*\u001b[0m \u001b[0mX\u001b[0m\u001b[1;33m[\u001b[0m\u001b[0mk\u001b[0m\u001b[1;33m:\u001b[0m\u001b[1;33m]\u001b[0m\u001b[1;33m)\u001b[0m\u001b[1;33m.\u001b[0m\u001b[0msum\u001b[0m\u001b[1;33m(\u001b[0m\u001b[1;33m)\u001b[0m \u001b[1;33m/\u001b[0m \u001b[0mdenom\u001b[0m\u001b[1;33m(\u001b[0m\u001b[0mk\u001b[0m\u001b[1;33m)\u001b[0m\u001b[1;33m\u001b[0m\u001b[0m\n\u001b[0m\u001b[0;32m   1276\u001b[0m     \u001b[0mR\u001b[0m \u001b[1;33m=\u001b[0m \u001b[0mtoeplitz\u001b[0m\u001b[1;33m(\u001b[0m\u001b[0mr\u001b[0m\u001b[1;33m[\u001b[0m\u001b[1;33m:\u001b[0m\u001b[1;33m-\u001b[0m\u001b[1;36m1\u001b[0m\u001b[1;33m]\u001b[0m\u001b[1;33m)\u001b[0m\u001b[1;33m\u001b[0m\u001b[0m\n\u001b[0;32m   1277\u001b[0m \u001b[1;33m\u001b[0m\u001b[0m\n",
      "\u001b[1;32m~\\Anaconda3\\lib\\site-packages\\numpy\\core\\_methods.py\u001b[0m in \u001b[0;36m_sum\u001b[1;34m(a, axis, dtype, out, keepdims)\u001b[0m\n\u001b[0;32m     30\u001b[0m \u001b[1;33m\u001b[0m\u001b[0m\n\u001b[0;32m     31\u001b[0m \u001b[1;32mdef\u001b[0m \u001b[0m_sum\u001b[0m\u001b[1;33m(\u001b[0m\u001b[0ma\u001b[0m\u001b[1;33m,\u001b[0m \u001b[0maxis\u001b[0m\u001b[1;33m=\u001b[0m\u001b[1;32mNone\u001b[0m\u001b[1;33m,\u001b[0m \u001b[0mdtype\u001b[0m\u001b[1;33m=\u001b[0m\u001b[1;32mNone\u001b[0m\u001b[1;33m,\u001b[0m \u001b[0mout\u001b[0m\u001b[1;33m=\u001b[0m\u001b[1;32mNone\u001b[0m\u001b[1;33m,\u001b[0m \u001b[0mkeepdims\u001b[0m\u001b[1;33m=\u001b[0m\u001b[1;32mFalse\u001b[0m\u001b[1;33m)\u001b[0m\u001b[1;33m:\u001b[0m\u001b[1;33m\u001b[0m\u001b[0m\n\u001b[1;32m---> 32\u001b[1;33m     \u001b[1;32mreturn\u001b[0m \u001b[0mumr_sum\u001b[0m\u001b[1;33m(\u001b[0m\u001b[0ma\u001b[0m\u001b[1;33m,\u001b[0m \u001b[0maxis\u001b[0m\u001b[1;33m,\u001b[0m \u001b[0mdtype\u001b[0m\u001b[1;33m,\u001b[0m \u001b[0mout\u001b[0m\u001b[1;33m,\u001b[0m \u001b[0mkeepdims\u001b[0m\u001b[1;33m)\u001b[0m\u001b[1;33m\u001b[0m\u001b[0m\n\u001b[0m\u001b[0;32m     33\u001b[0m \u001b[1;33m\u001b[0m\u001b[0m\n\u001b[0;32m     34\u001b[0m \u001b[1;32mdef\u001b[0m \u001b[0m_prod\u001b[0m\u001b[1;33m(\u001b[0m\u001b[0ma\u001b[0m\u001b[1;33m,\u001b[0m \u001b[0maxis\u001b[0m\u001b[1;33m=\u001b[0m\u001b[1;32mNone\u001b[0m\u001b[1;33m,\u001b[0m \u001b[0mdtype\u001b[0m\u001b[1;33m=\u001b[0m\u001b[1;32mNone\u001b[0m\u001b[1;33m,\u001b[0m \u001b[0mout\u001b[0m\u001b[1;33m=\u001b[0m\u001b[1;32mNone\u001b[0m\u001b[1;33m,\u001b[0m \u001b[0mkeepdims\u001b[0m\u001b[1;33m=\u001b[0m\u001b[1;32mFalse\u001b[0m\u001b[1;33m)\u001b[0m\u001b[1;33m:\u001b[0m\u001b[1;33m\u001b[0m\u001b[0m\n",
      "\u001b[1;31mKeyboardInterrupt\u001b[0m: "
     ]
    },
    {
     "data": {
      "image/png": "[encoded data removed]",
      "text/plain": [
       "<Figure size 432x288 with 1 Axes>"
      ]
     },
     "metadata": {},
     "output_type": "display_data"
    }
   ],
   "source": [
    "result = plot_pacf(first_diff_AAPL.dropna())"
   ]
  },
  {
   "cell_type": "markdown",
   "metadata": {},
   "source": [
    "### ARIMA MODEL"
   ]
  },
  {
   "cell_type": "code",
   "execution_count": 60,
   "metadata": {},
   "outputs": [],
   "source": [
    "from statsmodels.tsa.arima_model import ARIMA"
   ]
  },
  {
   "cell_type": "code",
   "execution_count": 61,
   "metadata": {},
   "outputs": [],
   "source": [
    "\n",
    "\n",
    "#p,d,q \n",
    "#p -> Periods taken for auto regressive model\n",
    "#d -> Integrated order, difference\n",
    "#q -> Periods in moving average model\n"
   ]
  },
  {
   "cell_type": "code",
   "execution_count": 64,
   "metadata": {},
   "outputs": [
    {
     "name": "stdout",
     "output_type": "stream",
     "text": [
      "(0, 1, 0) -492712.8852838061\n",
      "(0, 1, 1) -492714.54918343306\n",
      "(0, 1, 2) -492725.7039907831\n",
      "(0, 1, 3) -492724.6188867537\n",
      "(1, 1, 0) -492714.42411386466\n",
      "(1, 1, 1) -492714.93875463656\n",
      "(1, 1, 2) -492726.4035785734\n",
      "(2, 1, 0) -492725.43926753814\n",
      "(2, 1, 1) -492725.85024407005\n",
      "(3, 1, 0) -492724.379943694\n",
      "(3, 1, 1) -492722.3516781576\n",
      "(3, 1, 2) -492710.3223709635\n",
      "(3, 1, 3) -492689.7278201139\n",
      "(4, 1, 0) -492731.9127525218\n",
      "(4, 1, 1) -492729.93421060045\n",
      "(4, 1, 2) -492727.94295479124\n",
      "(4, 1, 3) -492722.9741088046\n",
      "(5, 1, 0) -492730.4755908544\n",
      "(5, 1, 1) -492728.478559908\n",
      "(5, 1, 2) -492726.4686534045\n",
      "(5, 1, 3) -492724.5074139965\n",
      "Best Model is : (4, 1, 0)\n"
     ]
    }
   ],
   "source": [
    "import warnings\n",
    "warnings.filterwarnings('ignore')\n",
    "ararray =stock_AAPL['AAPL_log'].values\n",
    "pdq=[]\n",
    "aic=[]\n",
    "d=1\n",
    "for p in range(6):\n",
    "    for q in range(4):\n",
    "        \n",
    "        try:\n",
    "            model = ARIMA(ararray,order=(p,d,q)) \n",
    "            arima_results = model.fit()\n",
    "            aic.append(arima_results.aic)\n",
    "            pdq.append((p,d,q))\n",
    "            print((p,d,q),arima_results.aic)\n",
    "        except:\n",
    "            continue\n",
    "keys = pdq\n",
    "values = aic\n",
    "\n",
    "d = dict(zip(keys, values))\n",
    "minaic=min(d, key=d.get)\n",
    "\n",
    "for i in range(3):\n",
    "    p=minaic[0]\n",
    "    d=minaic[1]\n",
    "    q=minaic[2]\n",
    "print (\"Best Model is :\", (p,d,q))\n"
   ]
  },
  {
   "cell_type": "code",
   "execution_count": 65,
   "metadata": {},
   "outputs": [
    {
     "name": "stdout",
     "output_type": "stream",
     "text": [
      "-492731.9127525218\n"
     ]
    }
   ],
   "source": [
    "model_arima = ARIMA(stock_AAPL[\"AAPL_log\"],order=(4,1,0))\n",
    "model_arima_fit = model_arima.fit()\n",
    "print(model_arima_fit.aic)"
   ]
  },
  {
   "cell_type": "code",
   "execution_count": 66,
   "metadata": {},
   "outputs": [
    {
     "data": {
      "text/html": [
       "<table class=\"simpletable\">\n",
       "<tr>\n",
       "        <td>Model:</td>              <td>ARIMA</td>              <td>BIC:</td>         <td>-492680.1461</td>\n",
       "</tr>\n",
       "<tr>\n",
       "  <td>Dependent Variable:</td>    <td>D.AAPL_log</td>       <td>Log-Likelihood:</td>    <td>2.4637e+05</td> \n",
       "</tr>\n",
       "<tr>\n",
       "         <td>Date:</td>        <td>2019-01-12 13:39</td>        <td>Scale:</td>           <td>1.0000</td>   \n",
       "</tr>\n",
       "<tr>\n",
       "   <td>No. Observations:</td>        <td>41265</td>             <td>Method:</td>          <td>css-mle</td>  \n",
       "</tr>\n",
       "<tr>\n",
       "       <td>Df Model:</td>              <td>5</td>               <td>Sample:</td>             <td>1</td>     \n",
       "</tr>\n",
       "<tr>\n",
       "     <td>Df Residuals:</td>          <td>41260</td>                <td></td>                 <td>6</td>     \n",
       "</tr>\n",
       "<tr>\n",
       "      <td>Converged:</td>           <td>1.0000</td>      <td>S.D. of innovations:</td>     <td>0.001</td>   \n",
       "</tr>\n",
       "<tr>\n",
       "    <td>No. Iterations:</td>        <td>1.0000</td>              <td>HQIC:</td>         <td>-492715.551</td>\n",
       "</tr>\n",
       "<tr>\n",
       "         <td>AIC:</td>           <td>-492731.9128</td>             <td></td>                 <td></td>      \n",
       "</tr>\n",
       "</table>\n",
       "<table class=\"simpletable\">\n",
       "<tr>\n",
       "          <td></td>          <th>Coef.</th>  <th>Std.Err.</th>    <th>t</th>     <th>P>|t|</th> <th>[0.025</th>  <th>0.975]</th> \n",
       "</tr>\n",
       "<tr>\n",
       "  <th>const</th>            <td>0.0000</td>   <td>0.0000</td>  <td>1.0930</td>  <td>0.2744</td> <td>-0.0000</td> <td>0.0000</td> \n",
       "</tr>\n",
       "<tr>\n",
       "  <th>ar.L1.D.AAPL_log</th> <td>-0.0093</td>  <td>0.0049</td>  <td>-1.8828</td> <td>0.0597</td> <td>-0.0189</td> <td>0.0004</td> \n",
       "</tr>\n",
       "<tr>\n",
       "  <th>ar.L2.D.AAPL_log</th> <td>-0.0180</td>  <td>0.0049</td>  <td>-3.6534</td> <td>0.0003</td> <td>-0.0276</td> <td>-0.0083</td>\n",
       "</tr>\n",
       "<tr>\n",
       "  <th>ar.L3.D.AAPL_log</th> <td>0.0046</td>   <td>0.0049</td>  <td>0.9411</td>  <td>0.3466</td> <td>-0.0050</td> <td>0.0143</td> \n",
       "</tr>\n",
       "<tr>\n",
       "  <th>ar.L4.D.AAPL_log</th> <td>-0.0152</td>  <td>0.0049</td>  <td>-3.0881</td> <td>0.0020</td> <td>-0.0248</td> <td>-0.0056</td>\n",
       "</tr>\n",
       "</table>\n",
       "<table class=\"simpletable\">\n",
       "<tr>\n",
       "    <td></td>    <th>Real</th>   <th>Imaginary</th> <th>Modulus</th> <th>Frequency</th>\n",
       "</tr>\n",
       "<tr>\n",
       "  <th>AR.1</th> <td>-1.8656</td>  <td>-2.0599</td>  <td>2.7791</td>   <td>-0.3671</td> \n",
       "</tr>\n",
       "<tr>\n",
       "  <th>AR.2</th> <td>-1.8656</td>  <td>2.0599</td>   <td>2.7791</td>   <td>0.3671</td>  \n",
       "</tr>\n",
       "<tr>\n",
       "  <th>AR.3</th> <td>2.0179</td>   <td>-2.1085</td>  <td>2.9185</td>   <td>-0.1285</td> \n",
       "</tr>\n",
       "<tr>\n",
       "  <th>AR.4</th> <td>2.0179</td>   <td>2.1085</td>   <td>2.9185</td>   <td>0.1285</td>  \n",
       "</tr>\n",
       "</table>"
      ],
      "text/plain": [
       "<class 'statsmodels.iolib.summary2.Summary'>\n",
       "\"\"\"\n",
       "                            Results: ARIMA\n",
       "======================================================================\n",
       "Model:              ARIMA            BIC:                 -492680.1461\n",
       "Dependent Variable: D.AAPL_log       Log-Likelihood:      2.4637e+05  \n",
       "Date:               2019-01-12 13:39 Scale:               1.0000      \n",
       "No. Observations:   41265            Method:              css-mle     \n",
       "Df Model:           5                Sample:              1           \n",
       "Df Residuals:       41260                                 6           \n",
       "Converged:          1.0000           S.D. of innovations: 0.001       \n",
       "No. Iterations:     1.0000           HQIC:                -492715.551 \n",
       "AIC:                -492731.9128                                      \n",
       "-----------------------------------------------------------------------\n",
       "                    Coef.   Std.Err.     t     P>|t|    [0.025   0.975]\n",
       "-----------------------------------------------------------------------\n",
       "const               0.0000    0.0000   1.0930  0.2744  -0.0000   0.0000\n",
       "ar.L1.D.AAPL_log   -0.0093    0.0049  -1.8828  0.0597  -0.0189   0.0004\n",
       "ar.L2.D.AAPL_log   -0.0180    0.0049  -3.6534  0.0003  -0.0276  -0.0083\n",
       "ar.L3.D.AAPL_log    0.0046    0.0049   0.9411  0.3466  -0.0050   0.0143\n",
       "ar.L4.D.AAPL_log   -0.0152    0.0049  -3.0881  0.0020  -0.0248  -0.0056\n",
       "--------------------------------------------------------------------------------\n",
       "                 Real            Imaginary           Modulus           Frequency\n",
       "--------------------------------------------------------------------------------\n",
       "AR.1           -1.8656             -2.0599            2.7791             -0.3671\n",
       "AR.2           -1.8656              2.0599            2.7791              0.3671\n",
       "AR.3            2.0179             -2.1085            2.9185             -0.1285\n",
       "AR.4            2.0179              2.1085            2.9185              0.1285\n",
       "======================================================================\n",
       "\n",
       "\"\"\""
      ]
     },
     "execution_count": 66,
     "metadata": {},
     "output_type": "execute_result"
    }
   ],
   "source": [
    "#Experimental summary function for ARIMA Results\n",
    "model_arima_fit.summary2()"
   ]
  },
  {
   "cell_type": "code",
   "execution_count": 67,
   "metadata": {},
   "outputs": [
    {
     "name": "stdout",
     "output_type": "stream",
     "text": [
      "Help on method forecast in module statsmodels.tsa.arima_model:\n",
      "\n",
      "forecast(steps=1, exog=None, alpha=0.05) method of statsmodels.tsa.arima_model.ARIMAResults instance\n",
      "    Out-of-sample forecasts\n",
      "    \n",
      "    Parameters\n",
      "    ----------\n",
      "    steps : int\n",
      "        The number of out of sample forecasts from the end of the\n",
      "        sample.\n",
      "    exog : array\n",
      "        If the model is an ARIMAX, you must provide out of sample\n",
      "        values for the exogenous variables. This should not include\n",
      "        the constant.\n",
      "    alpha : float\n",
      "        The confidence intervals for the forecasts are (1 - alpha) %\n",
      "    \n",
      "    Returns\n",
      "    -------\n",
      "    forecast : array\n",
      "        Array of out of sample forecasts\n",
      "    stderr : array\n",
      "        Array of the standard error of the forecasts.\n",
      "    conf_int : array\n",
      "        2d array of the confidence interval for the forecast\n",
      "    \n",
      "    Notes\n",
      "    -----\n",
      "    Prediction is done in the levels of the original endogenous variable.\n",
      "    If you would like prediction of differences in levels use `predict`.\n",
      "\n"
     ]
    }
   ],
   "source": [
    "help(model_arima_fit.forecast)"
   ]
  },
  {
   "cell_type": "code",
   "execution_count": 68,
   "metadata": {},
   "outputs": [
    {
     "data": {
      "text/plain": [
       "(array([5.09975237, 5.09975117, 5.09976924, 5.09976318, 5.09976611,\n",
       "        5.09976962, 5.09977255, 5.09977589, 5.0997791 , 5.0997823 ,\n",
       "        5.0997855 , 5.0997887 , 5.09979191, 5.09979511, 5.09979831]),\n",
       " array([0.00061775, 0.0008696 , 0.00105706, 0.00121747, 0.00135499,\n",
       "        0.00147982, 0.00159504, 0.00170244, 0.0018035 , 0.0018992 ,\n",
       "        0.00199029, 0.0020774 , 0.00216099, 0.00224147, 0.00231916]),\n",
       " array([[5.09854159, 5.10096314],\n",
       "        [5.09804679, 5.10145554],\n",
       "        [5.09769745, 5.10184103],\n",
       "        [5.09737699, 5.10214937],\n",
       "        [5.09711037, 5.10242185],\n",
       "        [5.09686922, 5.10267001],\n",
       "        [5.09664634, 5.10289876],\n",
       "        [5.09643917, 5.10311261],\n",
       "        [5.0962443 , 5.1033139 ],\n",
       "        [5.09605994, 5.10350465],\n",
       "        [5.09588461, 5.1036864 ],\n",
       "        [5.09571709, 5.10386032],\n",
       "        [5.09555644, 5.10402737],\n",
       "        [5.09540191, 5.10418831],\n",
       "        [5.09525284, 5.10434379]]))"
      ]
     },
     "execution_count": 68,
     "metadata": {},
     "output_type": "execute_result"
    }
   ],
   "source": [
    "# let see the forecast\n",
    "model_arima_fit.forecast(15)"
   ]
  },
  {
   "cell_type": "code",
   "execution_count": 69,
   "metadata": {},
   "outputs": [
    {
     "data": {
      "text/plain": [
       "array([5.09975237, 5.09975117, 5.09976924, 5.09976318, 5.09976611,\n",
       "       5.09976962, 5.09977255, 5.09977589, 5.0997791 , 5.0997823 ,\n",
       "       5.0997855 , 5.0997887 , 5.09979191, 5.09979511, 5.09979831])"
      ]
     },
     "execution_count": 69,
     "metadata": {},
     "output_type": "execute_result"
    }
   ],
   "source": [
    "model_arima_fit.forecast(15)[0]"
   ]
  },
  {
   "cell_type": "markdown",
   "metadata": {},
   "source": [
    "### Data [2]  `NNASDAQ.ADP`"
   ]
  },
  {
   "cell_type": "code",
   "execution_count": 70,
   "metadata": {},
   "outputs": [],
   "source": [
    "stock_ADP = stock_data[['NASDAQ.ADP']].copy()"
   ]
  },
  {
   "cell_type": "code",
   "execution_count": 71,
   "metadata": {},
   "outputs": [
    {
     "data": {
      "text/html": [
       "<div>\n",
       "<style scoped>\n",
       "    .dataframe tbody tr th:only-of-type {\n",
       "        vertical-align: middle;\n",
       "    }\n",
       "\n",
       "    .dataframe tbody tr th {\n",
       "        vertical-align: top;\n",
       "    }\n",
       "\n",
       "    .dataframe thead th {\n",
       "        text-align: right;\n",
       "    }\n",
       "</style>\n",
       "<table border=\"1\" class=\"dataframe\">\n",
       "  <thead>\n",
       "    <tr style=\"text-align: right;\">\n",
       "      <th></th>\n",
       "      <th>NASDAQ.ADP</th>\n",
       "    </tr>\n",
       "    <tr>\n",
       "      <th>DATE</th>\n",
       "      <th></th>\n",
       "    </tr>\n",
       "  </thead>\n",
       "  <tbody>\n",
       "    <tr>\n",
       "      <th>1970-01-18 06:13:46.200</th>\n",
       "      <td>102.2300</td>\n",
       "    </tr>\n",
       "    <tr>\n",
       "      <th>1970-01-18 06:13:46.260</th>\n",
       "      <td>102.1400</td>\n",
       "    </tr>\n",
       "    <tr>\n",
       "      <th>1970-01-18 06:13:46.320</th>\n",
       "      <td>102.2125</td>\n",
       "    </tr>\n",
       "    <tr>\n",
       "      <th>1970-01-18 06:13:46.380</th>\n",
       "      <td>102.1400</td>\n",
       "    </tr>\n",
       "    <tr>\n",
       "      <th>1970-01-18 06:13:46.440</th>\n",
       "      <td>102.0600</td>\n",
       "    </tr>\n",
       "  </tbody>\n",
       "</table>\n",
       "</div>"
      ],
      "text/plain": [
       "                         NASDAQ.ADP\n",
       "DATE                               \n",
       "1970-01-18 06:13:46.200    102.2300\n",
       "1970-01-18 06:13:46.260    102.1400\n",
       "1970-01-18 06:13:46.320    102.2125\n",
       "1970-01-18 06:13:46.380    102.1400\n",
       "1970-01-18 06:13:46.440    102.0600"
      ]
     },
     "execution_count": 71,
     "metadata": {},
     "output_type": "execute_result"
    }
   ],
   "source": [
    "stock_ADP.head()"
   ]
  },
  {
   "cell_type": "code",
   "execution_count": 72,
   "metadata": {},
   "outputs": [
    {
     "data": {
      "text/html": [
       "<div>\n",
       "<style scoped>\n",
       "    .dataframe tbody tr th:only-of-type {\n",
       "        vertical-align: middle;\n",
       "    }\n",
       "\n",
       "    .dataframe tbody tr th {\n",
       "        vertical-align: top;\n",
       "    }\n",
       "\n",
       "    .dataframe thead th {\n",
       "        text-align: right;\n",
       "    }\n",
       "</style>\n",
       "<table border=\"1\" class=\"dataframe\">\n",
       "  <thead>\n",
       "    <tr style=\"text-align: right;\">\n",
       "      <th></th>\n",
       "      <th>count</th>\n",
       "      <th>mean</th>\n",
       "      <th>std</th>\n",
       "      <th>min</th>\n",
       "      <th>25%</th>\n",
       "      <th>50%</th>\n",
       "      <th>75%</th>\n",
       "      <th>max</th>\n",
       "    </tr>\n",
       "  </thead>\n",
       "  <tbody>\n",
       "    <tr>\n",
       "      <th>NASDAQ.ADP</th>\n",
       "      <td>41266.0</td>\n",
       "      <td>103.480398</td>\n",
       "      <td>4.424244</td>\n",
       "      <td>95.87</td>\n",
       "      <td>101.3</td>\n",
       "      <td>102.44</td>\n",
       "      <td>104.66</td>\n",
       "      <td>121.77</td>\n",
       "    </tr>\n",
       "  </tbody>\n",
       "</table>\n",
       "</div>"
      ],
      "text/plain": [
       "              count        mean       std    min    25%     50%     75%  \\\n",
       "NASDAQ.ADP  41266.0  103.480398  4.424244  95.87  101.3  102.44  104.66   \n",
       "\n",
       "               max  \n",
       "NASDAQ.ADP  121.77  "
      ]
     },
     "execution_count": 72,
     "metadata": {},
     "output_type": "execute_result"
    }
   ],
   "source": [
    "stock_ADP.describe().transpose()"
   ]
  },
  {
   "cell_type": "code",
   "execution_count": 73,
   "metadata": {},
   "outputs": [
    {
     "data": {
      "text/plain": [
       "NASDAQ.ADP    41266\n",
       "dtype: int64"
      ]
     },
     "execution_count": 73,
     "metadata": {},
     "output_type": "execute_result"
    }
   ],
   "source": [
    "stock_ADP.count()"
   ]
  },
  {
   "cell_type": "code",
   "execution_count": 74,
   "metadata": {},
   "outputs": [
    {
     "data": {
      "text/plain": [
       "<matplotlib.axes._subplots.AxesSubplot at 0x1788b4324e0>"
      ]
     },
     "execution_count": 74,
     "metadata": {},
     "output_type": "execute_result"
    },
    {
     "data": {
      "image/png": "[encoded data removed]",
      "text/plain": [
       "<Figure size 432x288 with 1 Axes>"
      ]
     },
     "metadata": {},
     "output_type": "display_data"
    }
   ],
   "source": [
    "stock_ADP.plot()"
   ]
  },
  {
   "cell_type": "code",
   "execution_count": 75,
   "metadata": {},
   "outputs": [],
   "source": [
    "# Change values to log to view more clear plot\n",
    "stock_ADP[\"ADP_log\"]=stock_ADP[\"NASDAQ.ADP\"].apply(lambda x:np.log(x))\n"
   ]
  },
  {
   "cell_type": "code",
   "execution_count": 76,
   "metadata": {},
   "outputs": [
    {
     "data": {
      "image/png": "[encoded data removed]",
      "text/plain": [
       "<Figure size 864x576 with 2 Axes>"
      ]
     },
     "metadata": {},
     "output_type": "display_data"
    }
   ],
   "source": [
    "#  plots \n",
    "%matplotlib inline\n",
    "fig = plt.figure(figsize=(12,8))\n",
    "ax1 = fig.add_subplot(211)\n",
    "fig = sm.graphics.tsa.plot_acf(stock_ADP[\"ADP_log\"].values.squeeze(), lags=40, ax=ax1)\n",
    "ax2 = fig.add_subplot(212)\n",
    "fig = sm.graphics.tsa.plot_pacf(stock_ADP[\"ADP_log\"], lags=40, ax=ax2)\n"
   ]
  },
  {
   "cell_type": "code",
   "execution_count": 79,
   "metadata": {},
   "outputs": [
    {
     "data": {
      "image/png": "[encoded data removed]",
      "text/plain": [
       "<Figure size 864x576 with 1 Axes>"
      ]
     },
     "metadata": {},
     "output_type": "display_data"
    }
   ],
   "source": [
    "# Plotting Rolling Statistics and check for Statinalry\n",
    "rolmean = stock_ADP.rolling(12).mean()\n",
    "rolstd = stock_ADP.rolling(12).std()\n",
    "plt.figure(figsize=(12,8)) \n",
    "plt.plot( stock_ADP, color='blue',label='Original')\n",
    "plt.plot(rolmean, color='red', label='Rolling Mean')\n",
    "plt.plot(rolstd, color='black', label = 'Rolling Std')\n",
    "plt.legend(loc='best')\n",
    "plt.title('Rolling Mean & Standard Deviation')\n",
    "plt.show()\n",
    "# Note: Moving mean and moving std at any instant time 't', we take the mean/std fo the last\n",
    "# year which in this case is 12 months.\n"
   ]
  },
  {
   "cell_type": "code",
   "execution_count": 80,
   "metadata": {},
   "outputs": [],
   "source": [
    "from statsmodels.tsa.stattools import adfuller\n",
    "\n",
    "def adf_check(time_series):\n",
    "    \"\"\"\n",
    "    Pass in a time series, returns ADF report\n",
    "    \"\"\"\n",
    "    result = adfuller(time_series)\n",
    "    print('Augmented Dickey-Fuller Test:')\n",
    "    labels = ['ADF Test Statistic','p-value','#Lags Used','Number of Observations Used']\n",
    "\n",
    "    for value,label in zip(result,labels):\n",
    "        print(label+' : '+str(value) )\n",
    "    \n",
    "    if result[1] <= 0.05:\n",
    "        print(\"strong evidence against the null hypothesis, reject the null hypothesis. Data has no unit root and is stationary\")\n",
    "    else:\n",
    "        print(\"weak evidence against null hypothesis, time series has a unit root, indicating it is non-stationary \")\n",
    "\n"
   ]
  },
  {
   "cell_type": "code",
   "execution_count": 82,
   "metadata": {},
   "outputs": [
    {
     "name": "stdout",
     "output_type": "stream",
     "text": [
      "Augmented Dickey-Fuller Test:\n",
      "ADF Test Statistic : -1.685115371801558\n",
      "p-value : 0.4387973407039347\n",
      "#Lags Used : 40\n",
      "Number of Observations Used : 41225\n",
      "weak evidence against null hypothesis, time series has a unit root, indicating it is non-stationary \n"
     ]
    }
   ],
   "source": [
    "adf_check(stock_ADP[\"ADP_log\"])"
   ]
  },
  {
   "cell_type": "code",
   "execution_count": 83,
   "metadata": {},
   "outputs": [
    {
     "data": {
      "text/plain": [
       "DATE\n",
       "1970-01-18 06:13:46.200         NaN\n",
       "1970-01-18 06:13:46.260   -0.000881\n",
       "1970-01-18 06:13:46.320    0.000710\n",
       "1970-01-18 06:13:46.380   -0.000710\n",
       "1970-01-18 06:13:46.440   -0.000784\n",
       "1970-01-18 06:13:46.500   -0.000196\n",
       "1970-01-18 06:13:46.560    0.002838\n",
       "1970-01-18 06:13:46.620    0.000391\n",
       "1970-01-18 06:13:46.680    0.000098\n",
       "1970-01-18 06:13:46.740   -0.000488\n",
       "Name: ADP_log, dtype: float64"
      ]
     },
     "execution_count": 83,
     "metadata": {},
     "output_type": "execute_result"
    }
   ],
   "source": [
    "first_diff_ADP = stock_ADP[\"ADP_log\"] - stock_ADP[\"ADP_log\"].shift(1)\n",
    "first_diff_ADP.head(10)\n"
   ]
  },
  {
   "cell_type": "code",
   "execution_count": 84,
   "metadata": {},
   "outputs": [
    {
     "name": "stdout",
     "output_type": "stream",
     "text": [
      "Augmented Dickey-Fuller Test:\n",
      "ADF Test Statistic : -30.76041440957817\n",
      "p-value : 0.0\n",
      "#Lags Used : 39\n",
      "Number of Observations Used : 41225\n",
      "strong evidence against the null hypothesis, reject the null hypothesis. Data has no unit root and is stationary\n"
     ]
    }
   ],
   "source": [
    "adf_check(first_diff_ADP.dropna())"
   ]
  },
  {
   "cell_type": "code",
   "execution_count": 85,
   "metadata": {},
   "outputs": [
    {
     "data": {
      "text/plain": [
       "<matplotlib.axes._subplots.AxesSubplot at 0x1788b8f6080>"
      ]
     },
     "execution_count": 85,
     "metadata": {},
     "output_type": "execute_result"
    },
    {
     "data": {
      "image/png": "[encoded data removed]",
      "text/plain": [
       "<Figure size 432x288 with 1 Axes>"
      ]
     },
     "metadata": {},
     "output_type": "display_data"
    }
   ],
   "source": [
    "first_diff_ADP.plot()"
   ]
  },
  {
   "cell_type": "code",
   "execution_count": 89,
   "metadata": {},
   "outputs": [
    {
     "data": {
      "image/png": "[encoded data removed]",
      "text/plain": [
       "<Figure size 432x288 with 1 Axes>"
      ]
     },
     "metadata": {},
     "output_type": "display_data"
    }
   ],
   "source": [
    "from statsmodels.graphics.tsaplots import plot_acf,plot_pacf\n",
    "fig_first = plot_acf(first_diff_ADP.dropna())\n"
   ]
  },
  {
   "cell_type": "code",
   "execution_count": 91,
   "metadata": {},
   "outputs": [
    {
     "name": "stdout",
     "output_type": "stream",
     "text": [
      "(0, 1, 0) -482540.10380391026\n",
      "(0, 1, 1) -482692.3343443653\n",
      "(0, 1, 2) -482706.1151290868\n",
      "(0, 1, 3) -482721.22203156527\n",
      "(1, 1, 0) -482685.45681778237\n",
      "(1, 1, 1) -482700.7756248617\n",
      "(1, 1, 2) -482714.32540719677\n",
      "(1, 1, 3) -482720.0613621449\n",
      "(2, 1, 0) -482712.0599475545\n",
      "(2, 1, 1) -482716.8786892473\n",
      "(2, 1, 2) -482725.6127312104\n",
      "(2, 1, 3) -482735.5096725307\n",
      "(3, 1, 0) -482723.4203108647\n",
      "(3, 1, 1) -482721.4176123149\n",
      "(3, 1, 2) -482735.3974188644\n",
      "(4, 1, 0) -482721.4343598838\n",
      "(4, 1, 1) -482719.45229770604\n",
      "(4, 1, 2) -482724.0384595903\n",
      "(5, 1, 0) -482723.697430933\n",
      "(5, 1, 1) -482721.2670575639\n",
      "(5, 1, 2) -482719.21231583273\n",
      "(5, 1, 3) -482721.7368129592\n",
      "Best Model is : (2, 1, 3)\n"
     ]
    }
   ],
   "source": [
    "import warnings\n",
    "warnings.filterwarnings('ignore')\n",
    "ararray =stock_ADP['ADP_log'].values\n",
    "pdq=[]\n",
    "aic=[]\n",
    "d=1\n",
    "for p in range(6):\n",
    "    for q in range(4):\n",
    "        \n",
    "        try:\n",
    "            model = ARIMA(ararray,order=(p,d,q)) \n",
    "            arima_results = model.fit()\n",
    "            aic.append(arima_results.aic)\n",
    "            pdq.append((p,d,q))\n",
    "            print((p,d,q),arima_results.aic)\n",
    "        except:\n",
    "            continue\n",
    "keys = pdq\n",
    "values = aic\n",
    "\n",
    "d = dict(zip(keys, values))\n",
    "minaic=min(d, key=d.get)\n",
    "\n",
    "for i in range(3):\n",
    "    p=minaic[0]\n",
    "    d=minaic[1]\n",
    "    q=minaic[2]\n",
    "print (\"Best Model is :\", (p,d,q))\n",
    "\n",
    "#p,d,q \n",
    "#p -> Periods taken for auto regressive model\n",
    "#d -> Integrated order, difference\n",
    "#q -> Periods in moving average model\n"
   ]
  },
  {
   "cell_type": "code",
   "execution_count": 92,
   "metadata": {},
   "outputs": [
    {
     "name": "stdout",
     "output_type": "stream",
     "text": [
      "-482735.5096725307\n"
     ]
    }
   ],
   "source": [
    "model_arima = ARIMA(stock_ADP[\"ADP_log\"],order=(2,1,3))\n",
    "model_arima_fit = model_arima.fit()\n",
    "print(model_arima_fit.aic)\n"
   ]
  },
  {
   "cell_type": "code",
   "execution_count": 93,
   "metadata": {},
   "outputs": [
    {
     "data": {
      "text/html": [
       "<table class=\"simpletable\">\n",
       "<tr>\n",
       "        <td>Model:</td>              <td>ARIMA</td>              <td>BIC:</td>         <td>-482675.1153</td>\n",
       "</tr>\n",
       "<tr>\n",
       "  <td>Dependent Variable:</td>     <td>D.ADP_log</td>       <td>Log-Likelihood:</td>    <td>2.4137e+05</td> \n",
       "</tr>\n",
       "<tr>\n",
       "         <td>Date:</td>        <td>2019-01-12 14:22</td>        <td>Scale:</td>           <td>1.0000</td>   \n",
       "</tr>\n",
       "<tr>\n",
       "   <td>No. Observations:</td>        <td>41265</td>             <td>Method:</td>          <td>css-mle</td>  \n",
       "</tr>\n",
       "<tr>\n",
       "       <td>Df Model:</td>              <td>6</td>               <td>Sample:</td>             <td>1</td>     \n",
       "</tr>\n",
       "<tr>\n",
       "     <td>Df Residuals:</td>          <td>41259</td>                <td></td>                 <td>6</td>     \n",
       "</tr>\n",
       "<tr>\n",
       "      <td>Converged:</td>           <td>1.0000</td>      <td>S.D. of innovations:</td>     <td>0.001</td>   \n",
       "</tr>\n",
       "<tr>\n",
       "    <td>No. Iterations:</td>        <td>40.0000</td>             <td>HQIC:</td>         <td>-482716.421</td>\n",
       "</tr>\n",
       "<tr>\n",
       "         <td>AIC:</td>           <td>-482735.5097</td>             <td></td>                 <td></td>      \n",
       "</tr>\n",
       "</table>\n",
       "<table class=\"simpletable\">\n",
       "<tr>\n",
       "         <td></td>          <th>Coef.</th>  <th>Std.Err.</th>    <th>t</th>    <th>P>|t|</th> <th>[0.025</th>  <th>0.975]</th>\n",
       "</tr>\n",
       "<tr>\n",
       "  <th>const</th>           <td>0.0000</td>   <td>0.0000</td>  <td>0.2772</td> <td>0.7816</td> <td>-0.0000</td> <td>0.0000</td>\n",
       "</tr>\n",
       "<tr>\n",
       "  <th>ar.L1.D.ADP_log</th> <td>0.8529</td>     <td>nan</td>     <td>nan</td>    <td>nan</td>    <td>nan</td>     <td>nan</td> \n",
       "</tr>\n",
       "<tr>\n",
       "  <th>ar.L2.D.ADP_log</th> <td>-0.6618</td>    <td>nan</td>     <td>nan</td>    <td>nan</td>    <td>nan</td>     <td>nan</td> \n",
       "</tr>\n",
       "<tr>\n",
       "  <th>ma.L1.D.ADP_log</th> <td>-0.7922</td>    <td>nan</td>     <td>nan</td>    <td>nan</td>    <td>nan</td>     <td>nan</td> \n",
       "</tr>\n",
       "<tr>\n",
       "  <th>ma.L2.D.ADP_log</th> <td>0.5885</td>     <td>nan</td>     <td>nan</td>    <td>nan</td>    <td>nan</td>     <td>nan</td> \n",
       "</tr>\n",
       "<tr>\n",
       "  <th>ma.L3.D.ADP_log</th> <td>0.0368</td>     <td>nan</td>     <td>nan</td>    <td>nan</td>    <td>nan</td>     <td>nan</td> \n",
       "</tr>\n",
       "</table>\n",
       "<table class=\"simpletable\">\n",
       "<tr>\n",
       "    <td></td>     <th>Real</th>   <th>Imaginary</th> <th>Modulus</th> <th>Frequency</th>\n",
       "</tr>\n",
       "<tr>\n",
       "  <th>AR.1</th>  <td>0.6444</td>   <td>-1.0468</td>  <td>1.2292</td>   <td>-0.1622</td> \n",
       "</tr>\n",
       "<tr>\n",
       "  <th>AR.2</th>  <td>0.6444</td>   <td>1.0468</td>   <td>1.2292</td>   <td>0.1622</td>  \n",
       "</tr>\n",
       "<tr>\n",
       "  <th>MA.1</th>  <td>0.6666</td>   <td>-1.0603</td>  <td>1.2525</td>   <td>-0.1607</td> \n",
       "</tr>\n",
       "<tr>\n",
       "  <th>MA.2</th>  <td>0.6666</td>   <td>1.0603</td>   <td>1.2525</td>   <td>0.1607</td>  \n",
       "</tr>\n",
       "<tr>\n",
       "  <th>MA.3</th> <td>-17.3422</td>  <td>-0.0000</td>  <td>17.3422</td>  <td>-0.5000</td> \n",
       "</tr>\n",
       "</table>"
      ],
      "text/plain": [
       "<class 'statsmodels.iolib.summary2.Summary'>\n",
       "\"\"\"\n",
       "                            Results: ARIMA\n",
       "======================================================================\n",
       "Model:              ARIMA            BIC:                 -482675.1153\n",
       "Dependent Variable: D.ADP_log        Log-Likelihood:      2.4137e+05  \n",
       "Date:               2019-01-12 14:22 Scale:               1.0000      \n",
       "No. Observations:   41265            Method:              css-mle     \n",
       "Df Model:           6                Sample:              1           \n",
       "Df Residuals:       41259                                 6           \n",
       "Converged:          1.0000           S.D. of innovations: 0.001       \n",
       "No. Iterations:     40.0000          HQIC:                -482716.421 \n",
       "AIC:                -482735.5097                                      \n",
       "-----------------------------------------------------------------------\n",
       "                      Coef.   Std.Err.    t     P>|t|    [0.025  0.975]\n",
       "-----------------------------------------------------------------------\n",
       "const                 0.0000    0.0000  0.2772  0.7816  -0.0000  0.0000\n",
       "ar.L1.D.ADP_log       0.8529       nan     nan     nan      nan     nan\n",
       "ar.L2.D.ADP_log      -0.6618       nan     nan     nan      nan     nan\n",
       "ma.L1.D.ADP_log      -0.7922       nan     nan     nan      nan     nan\n",
       "ma.L2.D.ADP_log       0.5885       nan     nan     nan      nan     nan\n",
       "ma.L3.D.ADP_log       0.0368       nan     nan     nan      nan     nan\n",
       "-------------------------------------------------------------------------------\n",
       "                  Real            Imaginary          Modulus          Frequency\n",
       "-------------------------------------------------------------------------------\n",
       "AR.1              0.6444            -1.0468           1.2292            -0.1622\n",
       "AR.2              0.6444             1.0468           1.2292             0.1622\n",
       "MA.1              0.6666            -1.0603           1.2525            -0.1607\n",
       "MA.2              0.6666             1.0603           1.2525             0.1607\n",
       "MA.3            -17.3422            -0.0000          17.3422            -0.5000\n",
       "======================================================================\n",
       "\n",
       "\"\"\""
      ]
     },
     "execution_count": 93,
     "metadata": {},
     "output_type": "execute_result"
    }
   ],
   "source": [
    "#Experimental summary function for ARIMA Results\n",
    "model_arima_fit.summary2()"
   ]
  },
  {
   "cell_type": "code",
   "execution_count": 94,
   "metadata": {},
   "outputs": [
    {
     "data": {
      "text/plain": [
       "(array([4.66794401, 4.66795242, 4.66793282, 4.66791133, 4.66790676,\n",
       "        4.66791788, 4.66793119, 4.66793596, 4.66793203, 4.6679263 ,\n",
       "        4.66792481, 4.66792813, 4.66793273, 4.66793526, 4.66793516]),\n",
       " array([0.00069728, 0.00101649, 0.00124831, 0.0014358 , 0.00160015,\n",
       "        0.00175215, 0.00189517, 0.00202891, 0.00215313, 0.00226911,\n",
       "        0.002379  , 0.00248454, 0.00258647, 0.00268479, 0.00277942]),\n",
       " array([[4.66657737, 4.66931066],\n",
       "        [4.66596015, 4.6699447 ],\n",
       "        [4.66548617, 4.67037947],\n",
       "        [4.66509721, 4.67072544],\n",
       "        [4.66477053, 4.67104299],\n",
       "        [4.66448372, 4.67135204],\n",
       "        [4.66421672, 4.67164565],\n",
       "        [4.66395938, 4.67191255],\n",
       "        [4.66371197, 4.67215208],\n",
       "        [4.66347893, 4.67237367],\n",
       "        [4.66326206, 4.67258756],\n",
       "        [4.66305852, 4.67279774],\n",
       "        [4.66286334, 4.67300212],\n",
       "        [4.66267317, 4.67319735],\n",
       "        [4.6624876 , 4.67338271]]))"
      ]
     },
     "execution_count": 94,
     "metadata": {},
     "output_type": "execute_result"
    }
   ],
   "source": [
    "# let see the forecast\n",
    "model_arima_fit.forecast(15)"
   ]
  },
  {
   "cell_type": "markdown",
   "metadata": {},
   "source": [
    "### Data [3] `NNASDAQ.CBOE`"
   ]
  },
  {
   "cell_type": "code",
   "execution_count": 96,
   "metadata": {},
   "outputs": [],
   "source": [
    "stock_CBOE = stock_data[['NASDAQ.CBOE']].copy()"
   ]
  },
  {
   "cell_type": "code",
   "execution_count": 97,
   "metadata": {},
   "outputs": [
    {
     "data": {
      "text/html": [
       "<div>\n",
       "<style scoped>\n",
       "    .dataframe tbody tr th:only-of-type {\n",
       "        vertical-align: middle;\n",
       "    }\n",
       "\n",
       "    .dataframe tbody tr th {\n",
       "        vertical-align: top;\n",
       "    }\n",
       "\n",
       "    .dataframe thead th {\n",
       "        text-align: right;\n",
       "    }\n",
       "</style>\n",
       "<table border=\"1\" class=\"dataframe\">\n",
       "  <thead>\n",
       "    <tr style=\"text-align: right;\">\n",
       "      <th></th>\n",
       "      <th>NASDAQ.CBOE</th>\n",
       "    </tr>\n",
       "    <tr>\n",
       "      <th>DATE</th>\n",
       "      <th></th>\n",
       "    </tr>\n",
       "  </thead>\n",
       "  <tbody>\n",
       "    <tr>\n",
       "      <th>1970-01-18 06:13:46.200</th>\n",
       "      <td>81.03</td>\n",
       "    </tr>\n",
       "    <tr>\n",
       "      <th>1970-01-18 06:13:46.260</th>\n",
       "      <td>81.21</td>\n",
       "    </tr>\n",
       "    <tr>\n",
       "      <th>1970-01-18 06:13:46.320</th>\n",
       "      <td>81.21</td>\n",
       "    </tr>\n",
       "    <tr>\n",
       "      <th>1970-01-18 06:13:46.380</th>\n",
       "      <td>81.13</td>\n",
       "    </tr>\n",
       "    <tr>\n",
       "      <th>1970-01-18 06:13:46.440</th>\n",
       "      <td>81.12</td>\n",
       "    </tr>\n",
       "  </tbody>\n",
       "</table>\n",
       "</div>"
      ],
      "text/plain": [
       "                         NASDAQ.CBOE\n",
       "DATE                                \n",
       "1970-01-18 06:13:46.200        81.03\n",
       "1970-01-18 06:13:46.260        81.21\n",
       "1970-01-18 06:13:46.320        81.21\n",
       "1970-01-18 06:13:46.380        81.13\n",
       "1970-01-18 06:13:46.440        81.12"
      ]
     },
     "execution_count": 97,
     "metadata": {},
     "output_type": "execute_result"
    }
   ],
   "source": [
    "stock_CBOE.head()"
   ]
  },
  {
   "cell_type": "code",
   "execution_count": 99,
   "metadata": {},
   "outputs": [
    {
     "data": {
      "text/html": [
       "<div>\n",
       "<style scoped>\n",
       "    .dataframe tbody tr th:only-of-type {\n",
       "        vertical-align: middle;\n",
       "    }\n",
       "\n",
       "    .dataframe tbody tr th {\n",
       "        vertical-align: top;\n",
       "    }\n",
       "\n",
       "    .dataframe thead th {\n",
       "        text-align: right;\n",
       "    }\n",
       "</style>\n",
       "<table border=\"1\" class=\"dataframe\">\n",
       "  <thead>\n",
       "    <tr style=\"text-align: right;\">\n",
       "      <th></th>\n",
       "      <th>count</th>\n",
       "      <th>mean</th>\n",
       "      <th>std</th>\n",
       "      <th>min</th>\n",
       "      <th>25%</th>\n",
       "      <th>50%</th>\n",
       "      <th>75%</th>\n",
       "      <th>max</th>\n",
       "    </tr>\n",
       "  </thead>\n",
       "  <tbody>\n",
       "    <tr>\n",
       "      <th>NASDAQ.CBOE</th>\n",
       "      <td>41266.0</td>\n",
       "      <td>89.325485</td>\n",
       "      <td>5.746178</td>\n",
       "      <td>80.0</td>\n",
       "      <td>84.14</td>\n",
       "      <td>89.315</td>\n",
       "      <td>93.85</td>\n",
       "      <td>101.35</td>\n",
       "    </tr>\n",
       "  </tbody>\n",
       "</table>\n",
       "</div>"
      ],
      "text/plain": [
       "               count       mean       std   min    25%     50%    75%     max\n",
       "NASDAQ.CBOE  41266.0  89.325485  5.746178  80.0  84.14  89.315  93.85  101.35"
      ]
     },
     "execution_count": 99,
     "metadata": {},
     "output_type": "execute_result"
    }
   ],
   "source": [
    "stock_CBOE.describe().transpose()"
   ]
  },
  {
   "cell_type": "code",
   "execution_count": 100,
   "metadata": {},
   "outputs": [
    {
     "data": {
      "text/plain": [
       "NASDAQ.CBOE    41266\n",
       "dtype: int64"
      ]
     },
     "execution_count": 100,
     "metadata": {},
     "output_type": "execute_result"
    }
   ],
   "source": [
    "stock_CBOE.count()"
   ]
  },
  {
   "cell_type": "code",
   "execution_count": 101,
   "metadata": {},
   "outputs": [
    {
     "data": {
      "text/plain": [
       "<matplotlib.axes._subplots.AxesSubplot at 0x1788d505f28>"
      ]
     },
     "execution_count": 101,
     "metadata": {},
     "output_type": "execute_result"
    },
    {
     "data": {
      "image/png": "[encoded data removed]",
      "text/plain": [
       "<Figure size 432x288 with 1 Axes>"
      ]
     },
     "metadata": {},
     "output_type": "display_data"
    }
   ],
   "source": [
    "stock_CBOE.plot()"
   ]
  },
  {
   "cell_type": "code",
   "execution_count": 102,
   "metadata": {},
   "outputs": [],
   "source": [
    "# Change values to log to view more clear plot\n",
    "stock_CBOE[\"CBOE_log\"]=stock_CBOE[\"NASDAQ.CBOE\"].apply(lambda x:np.log(x))\n"
   ]
  },
  {
   "cell_type": "code",
   "execution_count": 104,
   "metadata": {},
   "outputs": [
    {
     "data": {
      "image/png": "[encoded data removed]",
      "text/plain": [
       "<Figure size 864x576 with 2 Axes>"
      ]
     },
     "metadata": {},
     "output_type": "display_data"
    }
   ],
   "source": [
    "#  plots \n",
    "%matplotlib inline\n",
    "fig = plt.figure(figsize=(12,8))\n",
    "ax1 = fig.add_subplot(211)\n",
    "fig = sm.graphics.tsa.plot_acf(stock_CBOE[\"CBOE_log\"].values.squeeze(), lags=40, ax=ax1)\n",
    "ax2 = fig.add_subplot(212)\n",
    "fig = sm.graphics.tsa.plot_pacf(stock_CBOE[\"CBOE_log\"], lags=40, ax=ax2)\n"
   ]
  },
  {
   "cell_type": "code",
   "execution_count": 105,
   "metadata": {},
   "outputs": [
    {
     "data": {
      "image/png": "[encoded data removed]",
      "text/plain": [
       "<Figure size 864x576 with 1 Axes>"
      ]
     },
     "metadata": {},
     "output_type": "display_data"
    }
   ],
   "source": [
    "# Plotting Rolling Statistics and check for Statinalry\n",
    "rolmean = stock_CBOE.rolling(12).mean()\n",
    "rolstd = stock_CBOE.rolling(12).std()\n",
    "plt.figure(figsize=(12,8)) \n",
    "plt.plot( stock_CBOE, color='blue',label='Original')\n",
    "plt.plot(rolmean, color='red', label='Rolling Mean')\n",
    "plt.plot(rolstd, color='black', label = 'Rolling Std')\n",
    "plt.legend(loc='best')\n",
    "plt.title('Rolling Mean & Standard Deviation')\n",
    "plt.show()\n",
    "# Note: Moving mean and moving std at any instant time 't', we take the mean/std fo the last\n",
    "# year which in this case is 12 months.\n"
   ]
  },
  {
   "cell_type": "code",
   "execution_count": 106,
   "metadata": {},
   "outputs": [
    {
     "name": "stdout",
     "output_type": "stream",
     "text": [
      "Augmented Dickey-Fuller Test:\n",
      "ADF Test Statistic : -0.02590320265544594\n",
      "p-value : 0.9563367618061652\n",
      "#Lags Used : 26\n",
      "Number of Observations Used : 41239\n",
      "weak evidence against null hypothesis, time series has a unit root, indicating it is non-stationary \n"
     ]
    }
   ],
   "source": [
    "adf_check(stock_CBOE[\"CBOE_log\"])"
   ]
  },
  {
   "cell_type": "code",
   "execution_count": 107,
   "metadata": {},
   "outputs": [
    {
     "data": {
      "text/plain": [
       "DATE\n",
       "1970-01-18 06:13:46.200         NaN\n",
       "1970-01-18 06:13:46.260    0.002219\n",
       "1970-01-18 06:13:46.320    0.000000\n",
       "1970-01-18 06:13:46.380   -0.000986\n",
       "1970-01-18 06:13:46.440   -0.000123\n",
       "1970-01-18 06:13:46.500    0.001232\n",
       "1970-01-18 06:13:46.560   -0.000739\n",
       "1970-01-18 06:13:46.620    0.000000\n",
       "1970-01-18 06:13:46.680    0.000000\n",
       "1970-01-18 06:13:46.740   -0.000370\n",
       "Name: CBOE_log, dtype: float64"
      ]
     },
     "execution_count": 107,
     "metadata": {},
     "output_type": "execute_result"
    }
   ],
   "source": [
    "first_diff_CBOE = stock_CBOE[\"CBOE_log\"] - stock_CBOE[\"CBOE_log\"].shift(1)\n",
    "first_diff_CBOE.head(10) \n"
   ]
  },
  {
   "cell_type": "code",
   "execution_count": 108,
   "metadata": {},
   "outputs": [
    {
     "name": "stdout",
     "output_type": "stream",
     "text": [
      "Augmented Dickey-Fuller Test:\n",
      "ADF Test Statistic : -42.18317183300316\n",
      "p-value : 0.0\n",
      "#Lags Used : 25\n",
      "Number of Observations Used : 41239\n",
      "strong evidence against the null hypothesis, reject the null hypothesis. Data has no unit root and is stationary\n"
     ]
    }
   ],
   "source": [
    "adf_check(first_diff_CBOE.dropna())"
   ]
  },
  {
   "cell_type": "code",
   "execution_count": 109,
   "metadata": {},
   "outputs": [
    {
     "data": {
      "text/plain": [
       "<matplotlib.axes._subplots.AxesSubplot at 0x1788ca6cdd8>"
      ]
     },
     "execution_count": 109,
     "metadata": {},
     "output_type": "execute_result"
    },
    {
     "data": {
      "image/png": "[encoded data removed]",
      "text/plain": [
       "<Figure size 432x288 with 1 Axes>"
      ]
     },
     "metadata": {},
     "output_type": "display_data"
    }
   ],
   "source": [
    "first_diff_CBOE.plot()"
   ]
  },
  {
   "cell_type": "code",
   "execution_count": 110,
   "metadata": {},
   "outputs": [
    {
     "data": {
      "image/png": "[encoded data removed]",
      "text/plain": [
       "<Figure size 432x288 with 1 Axes>"
      ]
     },
     "metadata": {},
     "output_type": "display_data"
    }
   ],
   "source": [
    "from statsmodels.graphics.tsaplots import plot_acf,plot_pacf\n",
    "fig_first = plot_acf(first_diff_CBOE.dropna())\n"
   ]
  },
  {
   "cell_type": "code",
   "execution_count": 111,
   "metadata": {},
   "outputs": [
    {
     "name": "stdout",
     "output_type": "stream",
     "text": [
      "(0, 1, 0) -506082.80113987776\n",
      "(0, 1, 1) -506348.622430122\n",
      "(0, 1, 2) -506439.5931454194\n",
      "(0, 1, 3) -506451.0281223402\n",
      "(1, 1, 0) -506325.69658145064\n",
      "(1, 1, 1) -506483.0166950226\n",
      "(1, 1, 2) -506474.90351266693\n",
      "(1, 1, 3) -506477.71358742856\n",
      "(2, 1, 0) -506421.09576052835\n",
      "(2, 1, 1) -506476.0937581118\n",
      "(2, 1, 2) -506482.3429985917\n",
      "(2, 1, 3) -506490.94381360733\n",
      "(3, 1, 0) -506434.5034366057\n",
      "(3, 1, 1) -506484.4335660327\n",
      "(3, 1, 2) -506490.40528573084\n",
      "(3, 1, 3) -506473.6073691413\n",
      "(4, 1, 0) -506480.08267129643\n",
      "(4, 1, 1) -506492.86657693563\n",
      "(4, 1, 2) -506494.1786909017\n",
      "(4, 1, 3) -506485.1766864554\n",
      "(5, 1, 0) -506487.26693887205\n",
      "(5, 1, 1) -506485.5745362255\n",
      "(5, 1, 2) -506488.31973982044\n",
      "(5, 1, 3) -506482.1550934393\n",
      "Best Model is : (4, 1, 2)\n"
     ]
    }
   ],
   "source": [
    "import warnings\n",
    "warnings.filterwarnings('ignore')\n",
    "ararray =stock_CBOE['CBOE_log'].values\n",
    "pdq=[]\n",
    "aic=[]\n",
    "d=1\n",
    "for p in range(6):\n",
    "    for q in range(4):\n",
    "        \n",
    "        try:\n",
    "            model = ARIMA(ararray,order=(p,d,q)) \n",
    "            arima_results = model.fit()\n",
    "            aic.append(arima_results.aic)\n",
    "            pdq.append((p,d,q))\n",
    "            print((p,d,q),arima_results.aic)\n",
    "        except:\n",
    "            continue\n",
    "keys = pdq\n",
    "values = aic\n",
    "\n",
    "d = dict(zip(keys, values))\n",
    "minaic=min(d, key=d.get)\n",
    "\n",
    "for i in range(3):\n",
    "    p=minaic[0]\n",
    "    d=minaic[1]\n",
    "    q=minaic[2]\n",
    "print (\"Best Model is :\", (p,d,q))\n",
    "\n",
    "#p,d,q \n",
    "#p -> Periods taken for auto regressive model\n",
    "#d -> Integrated order, difference\n",
    "#q -> Periods in moving average model\n"
   ]
  },
  {
   "cell_type": "code",
   "execution_count": 112,
   "metadata": {},
   "outputs": [
    {
     "name": "stdout",
     "output_type": "stream",
     "text": [
      "-506494.1786909017\n"
     ]
    }
   ],
   "source": [
    "model_arima = ARIMA(stock_CBOE[\"CBOE_log\"],order=(4,1,2))\n",
    "model_arima_fit = model_arima.fit()\n",
    "print(model_arima_fit.aic)\n"
   ]
  },
  {
   "cell_type": "code",
   "execution_count": 113,
   "metadata": {},
   "outputs": [
    {
     "data": {
      "text/html": [
       "<table class=\"simpletable\">\n",
       "<tr>\n",
       "        <td>Model:</td>              <td>ARIMA</td>              <td>BIC:</td>         <td>-506425.1565</td>\n",
       "</tr>\n",
       "<tr>\n",
       "  <td>Dependent Variable:</td>    <td>D.CBOE_log</td>       <td>Log-Likelihood:</td>    <td>2.5326e+05</td> \n",
       "</tr>\n",
       "<tr>\n",
       "         <td>Date:</td>        <td>2019-01-12 14:43</td>        <td>Scale:</td>           <td>1.0000</td>   \n",
       "</tr>\n",
       "<tr>\n",
       "   <td>No. Observations:</td>        <td>41265</td>             <td>Method:</td>          <td>css-mle</td>  \n",
       "</tr>\n",
       "<tr>\n",
       "       <td>Df Model:</td>              <td>7</td>               <td>Sample:</td>             <td>1</td>     \n",
       "</tr>\n",
       "<tr>\n",
       "     <td>Df Residuals:</td>          <td>41258</td>                <td></td>                 <td>6</td>     \n",
       "</tr>\n",
       "<tr>\n",
       "      <td>Converged:</td>           <td>0.0000</td>      <td>S.D. of innovations:</td>     <td>0.001</td>   \n",
       "</tr>\n",
       "<tr>\n",
       "    <td>No. Iterations:</td>        <td>2.0000</td>              <td>HQIC:</td>         <td>-506472.363</td>\n",
       "</tr>\n",
       "<tr>\n",
       "         <td>AIC:</td>           <td>-506494.1787</td>             <td></td>                 <td></td>      \n",
       "</tr>\n",
       "</table>\n",
       "<table class=\"simpletable\">\n",
       "<tr>\n",
       "          <td></td>          <th>Coef.</th>  <th>Std.Err.</th>    <th>t</th>     <th>P>|t|</th> <th>[0.025</th>  <th>0.975]</th> \n",
       "</tr>\n",
       "<tr>\n",
       "  <th>const</th>            <td>0.0000</td>   <td>0.0000</td>  <td>2.5506</td>  <td>0.0108</td> <td>0.0000</td>  <td>0.0000</td> \n",
       "</tr>\n",
       "<tr>\n",
       "  <th>ar.L1.D.CBOE_log</th> <td>0.2657</td>   <td>0.1622</td>  <td>1.6383</td>  <td>0.1014</td> <td>-0.0522</td> <td>0.5835</td> \n",
       "</tr>\n",
       "<tr>\n",
       "  <th>ar.L2.D.CBOE_log</th> <td>0.1306</td>   <td>0.1149</td>  <td>1.1365</td>  <td>0.2558</td> <td>-0.0946</td> <td>0.3559</td> \n",
       "</tr>\n",
       "<tr>\n",
       "  <th>ar.L3.D.CBOE_log</th> <td>0.0077</td>   <td>0.0091</td>  <td>0.8410</td>  <td>0.4004</td> <td>-0.0102</td> <td>0.0255</td> \n",
       "</tr>\n",
       "<tr>\n",
       "  <th>ar.L4.D.CBOE_log</th> <td>-0.0200</td>  <td>0.0076</td>  <td>-2.6512</td> <td>0.0080</td> <td>-0.0348</td> <td>-0.0052</td>\n",
       "</tr>\n",
       "<tr>\n",
       "  <th>ma.L1.D.CBOE_log</th> <td>-0.3484</td>  <td>0.1622</td>  <td>-2.1477</td> <td>0.0317</td> <td>-0.6664</td> <td>-0.0305</td>\n",
       "</tr>\n",
       "<tr>\n",
       "  <th>ma.L2.D.CBOE_log</th> <td>-0.1540</td>  <td>0.1240</td>  <td>-1.2417</td> <td>0.2144</td> <td>-0.3971</td> <td>0.0891</td> \n",
       "</tr>\n",
       "</table>\n",
       "<table class=\"simpletable\">\n",
       "<tr>\n",
       "    <td></td>    <th>Real</th>   <th>Imaginary</th> <th>Modulus</th> <th>Frequency</th>\n",
       "</tr>\n",
       "<tr>\n",
       "  <th>AR.1</th> <td>-2.1888</td>  <td>-1.8760</td>  <td>2.8827</td>   <td>-0.3872</td> \n",
       "</tr>\n",
       "<tr>\n",
       "  <th>AR.2</th> <td>-2.1888</td>  <td>1.8760</td>   <td>2.8827</td>   <td>0.3872</td>  \n",
       "</tr>\n",
       "<tr>\n",
       "  <th>AR.3</th> <td>2.3798</td>   <td>-0.5854</td>  <td>2.4508</td>   <td>-0.0384</td> \n",
       "</tr>\n",
       "<tr>\n",
       "  <th>AR.4</th> <td>2.3798</td>   <td>0.5854</td>   <td>2.4508</td>   <td>0.0384</td>  \n",
       "</tr>\n",
       "<tr>\n",
       "  <th>MA.1</th> <td>1.6568</td>   <td>0.0000</td>   <td>1.6568</td>   <td>0.0000</td>  \n",
       "</tr>\n",
       "<tr>\n",
       "  <th>MA.2</th> <td>-3.9194</td>  <td>0.0000</td>   <td>3.9194</td>   <td>0.5000</td>  \n",
       "</tr>\n",
       "</table>"
      ],
      "text/plain": [
       "<class 'statsmodels.iolib.summary2.Summary'>\n",
       "\"\"\"\n",
       "                            Results: ARIMA\n",
       "======================================================================\n",
       "Model:              ARIMA            BIC:                 -506425.1565\n",
       "Dependent Variable: D.CBOE_log       Log-Likelihood:      2.5326e+05  \n",
       "Date:               2019-01-12 14:43 Scale:               1.0000      \n",
       "No. Observations:   41265            Method:              css-mle     \n",
       "Df Model:           7                Sample:              1           \n",
       "Df Residuals:       41258                                 6           \n",
       "Converged:          0.0000           S.D. of innovations: 0.001       \n",
       "No. Iterations:     2.0000           HQIC:                -506472.363 \n",
       "AIC:                -506494.1787                                      \n",
       "-----------------------------------------------------------------------\n",
       "                    Coef.   Std.Err.     t     P>|t|    [0.025   0.975]\n",
       "-----------------------------------------------------------------------\n",
       "const               0.0000    0.0000   2.5506  0.0108   0.0000   0.0000\n",
       "ar.L1.D.CBOE_log    0.2657    0.1622   1.6383  0.1014  -0.0522   0.5835\n",
       "ar.L2.D.CBOE_log    0.1306    0.1149   1.1365  0.2558  -0.0946   0.3559\n",
       "ar.L3.D.CBOE_log    0.0077    0.0091   0.8410  0.4004  -0.0102   0.0255\n",
       "ar.L4.D.CBOE_log   -0.0200    0.0076  -2.6512  0.0080  -0.0348  -0.0052\n",
       "ma.L1.D.CBOE_log   -0.3484    0.1622  -2.1477  0.0317  -0.6664  -0.0305\n",
       "ma.L2.D.CBOE_log   -0.1540    0.1240  -1.2417  0.2144  -0.3971   0.0891\n",
       "--------------------------------------------------------------------------------\n",
       "                 Real            Imaginary           Modulus           Frequency\n",
       "--------------------------------------------------------------------------------\n",
       "AR.1           -2.1888             -1.8760            2.8827             -0.3872\n",
       "AR.2           -2.1888              1.8760            2.8827              0.3872\n",
       "AR.3            2.3798             -0.5854            2.4508             -0.0384\n",
       "AR.4            2.3798              0.5854            2.4508              0.0384\n",
       "MA.1            1.6568              0.0000            1.6568              0.0000\n",
       "MA.2           -3.9194              0.0000            3.9194              0.5000\n",
       "======================================================================\n",
       "\n",
       "\"\"\""
      ]
     },
     "execution_count": 113,
     "metadata": {},
     "output_type": "execute_result"
    }
   ],
   "source": [
    "#Experimental summary function for ARIMA Results\n",
    "model_arima_fit.summary2()\n"
   ]
  },
  {
   "cell_type": "code",
   "execution_count": 114,
   "metadata": {},
   "outputs": [
    {
     "data": {
      "text/plain": [
       "(array([4.61401159, 4.61400425, 4.61401357, 4.61400629, 4.61400917,\n",
       "        4.61401247, 4.61401675, 4.61402175, 4.61402687, 4.61403212,\n",
       "        4.6140374 , 4.61404269, 4.614048  , 4.6140533 , 4.6140586 ]),\n",
       " array([0.00052285, 0.00070948, 0.0008433 , 0.00095487, 0.00104799,\n",
       "        0.00113175, 0.00120869, 0.00128059, 0.00134851, 0.00141311,\n",
       "        0.00147485, 0.00153411, 0.00159117, 0.00164624, 0.00169953]),\n",
       " array([[4.61298683, 4.61503634],\n",
       "        [4.6126137 , 4.6153948 ],\n",
       "        [4.61236074, 4.61566641],\n",
       "        [4.61213479, 4.6158778 ],\n",
       "        [4.61195515, 4.6160632 ],\n",
       "        [4.61179429, 4.61623066],\n",
       "        [4.61164775, 4.61638574],\n",
       "        [4.61151185, 4.61653165],\n",
       "        [4.61138384, 4.6166699 ],\n",
       "        [4.61126248, 4.61680175],\n",
       "        [4.61114674, 4.61692806],\n",
       "        [4.61103589, 4.6170495 ],\n",
       "        [4.61092937, 4.61716662],\n",
       "        [4.61082672, 4.61727987],\n",
       "        [4.61072758, 4.61738962]]))"
      ]
     },
     "execution_count": 114,
     "metadata": {},
     "output_type": "execute_result"
    }
   ],
   "source": [
    "# let see the forecast\n",
    "model_arima_fit.forecast(15)\n"
   ]
  },
  {
   "cell_type": "markdown",
   "metadata": {},
   "source": [
    "### Data [4] `NNASDAQ.CSCO`"
   ]
  },
  {
   "cell_type": "code",
   "execution_count": 115,
   "metadata": {},
   "outputs": [],
   "source": [
    "stock_CSCO = stock_data[['NASDAQ.CSCO']].copy()"
   ]
  },
  {
   "cell_type": "code",
   "execution_count": 116,
   "metadata": {},
   "outputs": [
    {
     "data": {
      "text/html": [
       "<div>\n",
       "<style scoped>\n",
       "    .dataframe tbody tr th:only-of-type {\n",
       "        vertical-align: middle;\n",
       "    }\n",
       "\n",
       "    .dataframe tbody tr th {\n",
       "        vertical-align: top;\n",
       "    }\n",
       "\n",
       "    .dataframe thead th {\n",
       "        text-align: right;\n",
       "    }\n",
       "</style>\n",
       "<table border=\"1\" class=\"dataframe\">\n",
       "  <thead>\n",
       "    <tr style=\"text-align: right;\">\n",
       "      <th></th>\n",
       "      <th>NASDAQ.CSCO</th>\n",
       "    </tr>\n",
       "    <tr>\n",
       "      <th>DATE</th>\n",
       "      <th></th>\n",
       "    </tr>\n",
       "  </thead>\n",
       "  <tbody>\n",
       "    <tr>\n",
       "      <th>1970-01-18 06:13:46.200</th>\n",
       "      <td>33.7400</td>\n",
       "    </tr>\n",
       "    <tr>\n",
       "      <th>1970-01-18 06:13:46.260</th>\n",
       "      <td>33.8800</td>\n",
       "    </tr>\n",
       "    <tr>\n",
       "      <th>1970-01-18 06:13:46.320</th>\n",
       "      <td>33.9000</td>\n",
       "    </tr>\n",
       "    <tr>\n",
       "      <th>1970-01-18 06:13:46.380</th>\n",
       "      <td>33.8499</td>\n",
       "    </tr>\n",
       "    <tr>\n",
       "      <th>1970-01-18 06:13:46.440</th>\n",
       "      <td>33.8400</td>\n",
       "    </tr>\n",
       "  </tbody>\n",
       "</table>\n",
       "</div>"
      ],
      "text/plain": [
       "                         NASDAQ.CSCO\n",
       "DATE                                \n",
       "1970-01-18 06:13:46.200      33.7400\n",
       "1970-01-18 06:13:46.260      33.8800\n",
       "1970-01-18 06:13:46.320      33.9000\n",
       "1970-01-18 06:13:46.380      33.8499\n",
       "1970-01-18 06:13:46.440      33.8400"
      ]
     },
     "execution_count": 116,
     "metadata": {},
     "output_type": "execute_result"
    }
   ],
   "source": [
    "stock_CSCO.head()"
   ]
  },
  {
   "cell_type": "code",
   "execution_count": 117,
   "metadata": {},
   "outputs": [
    {
     "data": {
      "text/html": [
       "<div>\n",
       "<style scoped>\n",
       "    .dataframe tbody tr th:only-of-type {\n",
       "        vertical-align: middle;\n",
       "    }\n",
       "\n",
       "    .dataframe tbody tr th {\n",
       "        vertical-align: top;\n",
       "    }\n",
       "\n",
       "    .dataframe thead th {\n",
       "        text-align: right;\n",
       "    }\n",
       "</style>\n",
       "<table border=\"1\" class=\"dataframe\">\n",
       "  <thead>\n",
       "    <tr style=\"text-align: right;\">\n",
       "      <th></th>\n",
       "      <th>count</th>\n",
       "      <th>mean</th>\n",
       "      <th>std</th>\n",
       "      <th>min</th>\n",
       "      <th>25%</th>\n",
       "      <th>50%</th>\n",
       "      <th>75%</th>\n",
       "      <th>max</th>\n",
       "    </tr>\n",
       "  </thead>\n",
       "  <tbody>\n",
       "    <tr>\n",
       "      <th>NASDAQ.CSCO</th>\n",
       "      <td>41266.0</td>\n",
       "      <td>32.139336</td>\n",
       "      <td>0.985571</td>\n",
       "      <td>30.365</td>\n",
       "      <td>31.455</td>\n",
       "      <td>31.7733</td>\n",
       "      <td>32.79</td>\n",
       "      <td>34.49</td>\n",
       "    </tr>\n",
       "  </tbody>\n",
       "</table>\n",
       "</div>"
      ],
      "text/plain": [
       "               count       mean       std     min     25%      50%    75%  \\\n",
       "NASDAQ.CSCO  41266.0  32.139336  0.985571  30.365  31.455  31.7733  32.79   \n",
       "\n",
       "               max  \n",
       "NASDAQ.CSCO  34.49  "
      ]
     },
     "execution_count": 117,
     "metadata": {},
     "output_type": "execute_result"
    }
   ],
   "source": [
    "stock_CSCO.describe().transpose()"
   ]
  },
  {
   "cell_type": "code",
   "execution_count": 118,
   "metadata": {},
   "outputs": [
    {
     "data": {
      "text/plain": [
       "NASDAQ.CSCO    41266\n",
       "dtype: int64"
      ]
     },
     "execution_count": 118,
     "metadata": {},
     "output_type": "execute_result"
    }
   ],
   "source": [
    "stock_CSCO.count()"
   ]
  },
  {
   "cell_type": "code",
   "execution_count": 119,
   "metadata": {},
   "outputs": [
    {
     "data": {
      "text/plain": [
       "<matplotlib.axes._subplots.AxesSubplot at 0x1788d516080>"
      ]
     },
     "execution_count": 119,
     "metadata": {},
     "output_type": "execute_result"
    },
    {
     "data": {
      "image/png": "[encoded data removed]",
      "text/plain": [
       "<Figure size 432x288 with 1 Axes>"
      ]
     },
     "metadata": {},
     "output_type": "display_data"
    }
   ],
   "source": [
    "stock_CSCO.plot()"
   ]
  },
  {
   "cell_type": "code",
   "execution_count": 120,
   "metadata": {},
   "outputs": [],
   "source": [
    "# Change values to log to view more clear plot\n",
    "stock_CSCO[\"CSCO_log\"]=stock_CSCO[\"NASDAQ.CSCO\"].apply(lambda x:np.log(x))\n"
   ]
  },
  {
   "cell_type": "code",
   "execution_count": 121,
   "metadata": {},
   "outputs": [
    {
     "data": {
      "image/png": "[encoded data removed]",
      "text/plain": [
       "<Figure size 864x576 with 2 Axes>"
      ]
     },
     "metadata": {},
     "output_type": "display_data"
    },
    {
     "data": {
      "image/png": "[encoded data removed]",
      "text/plain": [
       "<Figure size 864x576 with 1 Axes>"
      ]
     },
     "metadata": {},
     "output_type": "display_data"
    }
   ],
   "source": [
    "#  plots \n",
    "%matplotlib inline\n",
    "fig = plt.figure(figsize=(12,8))\n",
    "ax1 = fig.add_subplot(211)\n",
    "fig = sm.graphics.tsa.plot_acf(stock_CSCO[\"CSCO_log\"].values.squeeze(), lags=40, ax=ax1)\n",
    "ax2 = fig.add_subplot(212)\n",
    "fig = sm.graphics.tsa.plot_pacf(stock_CSCO[\"CSCO_log\"], lags=40, ax=ax2)\n",
    "\n",
    "# Plotting Rolling Statistics and check for Statinalry\n",
    "rolmean = stock_CSCO.rolling(12).mean()\n",
    "rolstd = stock_CSCO.rolling(12).std()\n",
    "plt.figure(figsize=(12,8)) \n",
    "plt.plot( stock_CSCO, color='blue',label='Original')\n",
    "plt.plot(rolmean, color='red', label='Rolling Mean')\n",
    "plt.plot(rolstd, color='black', label = 'Rolling Std')\n",
    "plt.legend(loc='best')\n",
    "plt.title('Rolling Mean & Standard Deviation')\n",
    "plt.show()\n",
    "# Note: Moving mean and moving std at any instant time 't', we take the mean/std fo the last\n",
    "# year which in this case is 12 months.\n"
   ]
  },
  {
   "cell_type": "code",
   "execution_count": 122,
   "metadata": {},
   "outputs": [
    {
     "name": "stdout",
     "output_type": "stream",
     "text": [
      "Augmented Dickey-Fuller Test:\n",
      "ADF Test Statistic : -2.407400174721375\n",
      "p-value : 0.1396586483836164\n",
      "#Lags Used : 47\n",
      "Number of Observations Used : 41218\n",
      "weak evidence against null hypothesis, time series has a unit root, indicating it is non-stationary \n"
     ]
    }
   ],
   "source": [
    "adf_check(stock_CSCO[\"CSCO_log\"])"
   ]
  },
  {
   "cell_type": "code",
   "execution_count": 123,
   "metadata": {},
   "outputs": [
    {
     "data": {
      "text/plain": [
       "DATE\n",
       "1970-01-18 06:13:46.200         NaN\n",
       "1970-01-18 06:13:46.260    0.000139\n",
       "1970-01-18 06:13:46.320   -0.000069\n",
       "1970-01-18 06:13:46.380   -0.000349\n",
       "1970-01-18 06:13:46.440    0.000139\n",
       "1970-01-18 06:13:46.500    0.000835\n",
       "1970-01-18 06:13:46.560    0.000584\n",
       "1970-01-18 06:13:46.620   -0.000375\n",
       "1970-01-18 06:13:46.680    0.000035\n",
       "1970-01-18 06:13:46.740   -0.000104\n",
       "Name: AAPL_log, dtype: float64"
      ]
     },
     "execution_count": 123,
     "metadata": {},
     "output_type": "execute_result"
    }
   ],
   "source": [
    "first_diff_CSCO = stock_CSCO[\"CSCO_log\"] - stock_CSCO[\"CSCO_log\"].shift(1)\n",
    "first_diff_AAPL.head(10) \n"
   ]
  },
  {
   "cell_type": "code",
   "execution_count": 124,
   "metadata": {},
   "outputs": [
    {
     "name": "stdout",
     "output_type": "stream",
     "text": [
      "Augmented Dickey-Fuller Test:\n",
      "ADF Test Statistic : -30.372404217853845\n",
      "p-value : 0.0\n",
      "#Lags Used : 46\n",
      "Number of Observations Used : 41218\n",
      "strong evidence against the null hypothesis, reject the null hypothesis. Data has no unit root and is stationary\n"
     ]
    }
   ],
   "source": [
    "adf_check(first_diff_CSCO.dropna())"
   ]
  },
  {
   "cell_type": "code",
   "execution_count": 125,
   "metadata": {},
   "outputs": [
    {
     "data": {
      "text/plain": [
       "<matplotlib.axes._subplots.AxesSubplot at 0x1788d525940>"
      ]
     },
     "execution_count": 125,
     "metadata": {},
     "output_type": "execute_result"
    },
    {
     "data": {
      "image/png": "[encoded data removed]",
      "text/plain": [
       "<Figure size 432x288 with 1 Axes>"
      ]
     },
     "metadata": {},
     "output_type": "display_data"
    }
   ],
   "source": [
    "first_diff_CSCO.plot()"
   ]
  },
  {
   "cell_type": "code",
   "execution_count": 126,
   "metadata": {},
   "outputs": [
    {
     "data": {
      "image/png": "[encoded data removed]",
      "text/plain": [
       "<Figure size 432x288 with 1 Axes>"
      ]
     },
     "metadata": {},
     "output_type": "display_data"
    }
   ],
   "source": [
    "from statsmodels.graphics.tsaplots import plot_acf,plot_pacf\n",
    "fig_first = plot_acf(first_diff_CSCO.dropna())\n"
   ]
  },
  {
   "cell_type": "code",
   "execution_count": 127,
   "metadata": {},
   "outputs": [
    {
     "name": "stdout",
     "output_type": "stream",
     "text": [
      "(0, 1, 0) -486864.56696222967\n",
      "(0, 1, 1) -486874.0882304283\n",
      "(0, 1, 2) -486935.23343127675\n",
      "(0, 1, 3) -486941.63450909685\n",
      "(1, 1, 0) -486873.2935201536\n",
      "(1, 1, 1) -486874.8584519264\n",
      "(1, 1, 2) -486934.8392227609\n",
      "(1, 1, 3) -486932.50889306143\n",
      "(2, 1, 0) -486929.42687429825\n",
      "(2, 1, 1) -486927.86180309975\n",
      "(2, 1, 2) -486944.9159766111\n",
      "(2, 1, 3) -486955.8090860796\n",
      "(3, 1, 0) -486941.46076415235\n",
      "(3, 1, 1) -486928.01006447535\n",
      "(3, 1, 2) -487005.5021789542\n",
      "(3, 1, 3) -487076.58921022445\n",
      "(4, 1, 0) -487113.9891544236\n",
      "(4, 1, 1) -487144.784648187\n",
      "(4, 1, 2) -487154.34060459747\n",
      "(4, 1, 3) -487159.39243968646\n",
      "(5, 1, 0) -487160.92591590784\n",
      "(5, 1, 1) -487165.52146007866\n",
      "(5, 1, 2) -487162.49250722537\n",
      "Best Model is : (5, 1, 1)\n"
     ]
    }
   ],
   "source": [
    "import warnings\n",
    "warnings.filterwarnings('ignore')\n",
    "ararray =stock_CSCO['CSCO_log'].values\n",
    "pdq=[]\n",
    "aic=[]\n",
    "d=1\n",
    "for p in range(6):\n",
    "    for q in range(4):\n",
    "        \n",
    "        try:\n",
    "            model = ARIMA(ararray,order=(p,d,q)) \n",
    "            arima_results = model.fit()\n",
    "            aic.append(arima_results.aic)\n",
    "            pdq.append((p,d,q))\n",
    "            print((p,d,q),arima_results.aic)\n",
    "        except:\n",
    "            continue\n",
    "keys = pdq\n",
    "values = aic\n",
    "\n",
    "d = dict(zip(keys, values))\n",
    "minaic=min(d, key=d.get)\n",
    "\n",
    "for i in range(3):\n",
    "    p=minaic[0]\n",
    "    d=minaic[1]\n",
    "    q=minaic[2]\n",
    "print (\"Best Model is :\", (p,d,q))\n",
    "\n",
    "#p,d,q \n",
    "#p -> Periods taken for auto regressive model\n",
    "#d -> Integrated order, difference\n",
    "#q -> Periods in moving average model\n"
   ]
  },
  {
   "cell_type": "code",
   "execution_count": 129,
   "metadata": {},
   "outputs": [],
   "source": [
    "model_arima = ARIMA(stock_CSCO[\"CSCO_log\"],order=(5,1,1))"
   ]
  },
  {
   "cell_type": "code",
   "execution_count": 130,
   "metadata": {},
   "outputs": [
    {
     "name": "stdout",
     "output_type": "stream",
     "text": [
      "-487165.52146007866\n"
     ]
    }
   ],
   "source": [
    "model_arima_fit = model_arima.fit()\n",
    "print(model_arima_fit.aic)"
   ]
  },
  {
   "cell_type": "code",
   "execution_count": 131,
   "metadata": {},
   "outputs": [
    {
     "data": {
      "text/html": [
       "<table class=\"simpletable\">\n",
       "<tr>\n",
       "        <td>Model:</td>              <td>ARIMA</td>              <td>BIC:</td>         <td>-487096.4993</td>\n",
       "</tr>\n",
       "<tr>\n",
       "  <td>Dependent Variable:</td>    <td>D.CSCO_log</td>       <td>Log-Likelihood:</td>    <td>2.4359e+05</td> \n",
       "</tr>\n",
       "<tr>\n",
       "         <td>Date:</td>        <td>2019-01-12 15:05</td>        <td>Scale:</td>           <td>1.0000</td>   \n",
       "</tr>\n",
       "<tr>\n",
       "   <td>No. Observations:</td>        <td>41265</td>             <td>Method:</td>          <td>css-mle</td>  \n",
       "</tr>\n",
       "<tr>\n",
       "       <td>Df Model:</td>              <td>7</td>               <td>Sample:</td>             <td>1</td>     \n",
       "</tr>\n",
       "<tr>\n",
       "     <td>Df Residuals:</td>          <td>41258</td>                <td></td>                 <td>6</td>     \n",
       "</tr>\n",
       "<tr>\n",
       "      <td>Converged:</td>           <td>1.0000</td>      <td>S.D. of innovations:</td>     <td>0.001</td>   \n",
       "</tr>\n",
       "<tr>\n",
       "    <td>No. Iterations:</td>        <td>2.0000</td>              <td>HQIC:</td>         <td>-487143.706</td>\n",
       "</tr>\n",
       "<tr>\n",
       "         <td>AIC:</td>           <td>-487165.5215</td>             <td></td>                 <td></td>      \n",
       "</tr>\n",
       "</table>\n",
       "<table class=\"simpletable\">\n",
       "<tr>\n",
       "          <td></td>          <th>Coef.</th>  <th>Std.Err.</th>     <th>t</th>     <th>P>|t|</th> <th>[0.025</th>  <th>0.975]</th> \n",
       "</tr>\n",
       "<tr>\n",
       "  <th>const</th>            <td>-0.0000</td>  <td>0.0000</td>   <td>-0.3614</td> <td>0.7178</td> <td>-0.0000</td> <td>0.0000</td> \n",
       "</tr>\n",
       "<tr>\n",
       "  <th>ar.L1.D.CSCO_log</th> <td>0.3616</td>   <td>0.1257</td>   <td>2.8765</td>  <td>0.0040</td> <td>0.1152</td>  <td>0.6079</td> \n",
       "</tr>\n",
       "<tr>\n",
       "  <th>ar.L2.D.CSCO_log</th> <td>-0.0437</td>  <td>0.0055</td>   <td>-7.8796</td> <td>0.0000</td> <td>-0.0545</td> <td>-0.0328</td>\n",
       "</tr>\n",
       "<tr>\n",
       "  <th>ar.L3.D.CSCO_log</th> <td>-0.0025</td>  <td>0.0072</td>   <td>-0.3474</td> <td>0.7283</td> <td>-0.0165</td> <td>0.0116</td> \n",
       "</tr>\n",
       "<tr>\n",
       "  <th>ar.L4.D.CSCO_log</th> <td>-0.0598</td>  <td>0.0057</td>  <td>-10.5437</td> <td>0.0000</td> <td>-0.0709</td> <td>-0.0487</td>\n",
       "</tr>\n",
       "<tr>\n",
       "  <th>ar.L5.D.CSCO_log</th> <td>0.0568</td>   <td>0.0082</td>   <td>6.9086</td>  <td>0.0000</td> <td>0.0407</td>  <td>0.0729</td> \n",
       "</tr>\n",
       "<tr>\n",
       "  <th>ma.L1.D.CSCO_log</th> <td>-0.3450</td>  <td>0.1259</td>   <td>-2.7398</td> <td>0.0062</td> <td>-0.5918</td> <td>-0.0982</td>\n",
       "</tr>\n",
       "</table>\n",
       "<table class=\"simpletable\">\n",
       "<tr>\n",
       "    <td></td>    <th>Real</th>   <th>Imaginary</th> <th>Modulus</th> <th>Frequency</th>\n",
       "</tr>\n",
       "<tr>\n",
       "  <th>AR.1</th> <td>-1.3100</td>  <td>-1.2381</td>  <td>1.8025</td>   <td>-0.3795</td> \n",
       "</tr>\n",
       "<tr>\n",
       "  <th>AR.2</th> <td>-1.3100</td>  <td>1.2381</td>   <td>1.8025</td>   <td>0.3795</td>  \n",
       "</tr>\n",
       "<tr>\n",
       "  <th>AR.3</th> <td>0.9201</td>   <td>-1.4528</td>  <td>1.7197</td>   <td>-0.1602</td> \n",
       "</tr>\n",
       "<tr>\n",
       "  <th>AR.4</th> <td>0.9201</td>   <td>1.4528</td>   <td>1.7197</td>   <td>0.1602</td>  \n",
       "</tr>\n",
       "<tr>\n",
       "  <th>AR.5</th> <td>1.8324</td>   <td>-0.0000</td>  <td>1.8324</td>   <td>-0.0000</td> \n",
       "</tr>\n",
       "<tr>\n",
       "  <th>MA.1</th> <td>2.8983</td>   <td>0.0000</td>   <td>2.8983</td>   <td>0.0000</td>  \n",
       "</tr>\n",
       "</table>"
      ],
      "text/plain": [
       "<class 'statsmodels.iolib.summary2.Summary'>\n",
       "\"\"\"\n",
       "                            Results: ARIMA\n",
       "======================================================================\n",
       "Model:              ARIMA            BIC:                 -487096.4993\n",
       "Dependent Variable: D.CSCO_log       Log-Likelihood:      2.4359e+05  \n",
       "Date:               2019-01-12 15:05 Scale:               1.0000      \n",
       "No. Observations:   41265            Method:              css-mle     \n",
       "Df Model:           7                Sample:              1           \n",
       "Df Residuals:       41258                                 6           \n",
       "Converged:          1.0000           S.D. of innovations: 0.001       \n",
       "No. Iterations:     2.0000           HQIC:                -487143.706 \n",
       "AIC:                -487165.5215                                      \n",
       "-----------------------------------------------------------------------\n",
       "                   Coef.   Std.Err.     t      P>|t|    [0.025   0.975]\n",
       "-----------------------------------------------------------------------\n",
       "const             -0.0000    0.0000   -0.3614  0.7178  -0.0000   0.0000\n",
       "ar.L1.D.CSCO_log   0.3616    0.1257    2.8765  0.0040   0.1152   0.6079\n",
       "ar.L2.D.CSCO_log  -0.0437    0.0055   -7.8796  0.0000  -0.0545  -0.0328\n",
       "ar.L3.D.CSCO_log  -0.0025    0.0072   -0.3474  0.7283  -0.0165   0.0116\n",
       "ar.L4.D.CSCO_log  -0.0598    0.0057  -10.5437  0.0000  -0.0709  -0.0487\n",
       "ar.L5.D.CSCO_log   0.0568    0.0082    6.9086  0.0000   0.0407   0.0729\n",
       "ma.L1.D.CSCO_log  -0.3450    0.1259   -2.7398  0.0062  -0.5918  -0.0982\n",
       "--------------------------------------------------------------------------------\n",
       "                 Real            Imaginary           Modulus           Frequency\n",
       "--------------------------------------------------------------------------------\n",
       "AR.1           -1.3100             -1.2381            1.8025             -0.3795\n",
       "AR.2           -1.3100              1.2381            1.8025              0.3795\n",
       "AR.3            0.9201             -1.4528            1.7197             -0.1602\n",
       "AR.4            0.9201              1.4528            1.7197              0.1602\n",
       "AR.5            1.8324             -0.0000            1.8324             -0.0000\n",
       "MA.1            2.8983              0.0000            2.8983              0.0000\n",
       "======================================================================\n",
       "\n",
       "\"\"\""
      ]
     },
     "execution_count": 131,
     "metadata": {},
     "output_type": "execute_result"
    }
   ],
   "source": [
    "#Experimental summary function for ARIMA Results\n",
    "model_arima_fit.summary2()\n"
   ]
  },
  {
   "cell_type": "code",
   "execution_count": 132,
   "metadata": {},
   "outputs": [
    {
     "data": {
      "text/plain": [
       "(array([3.47274053, 3.47272519, 3.47272593, 3.4726616 , 3.4726906 ,\n",
       "        3.47270393, 3.47270595, 3.47270915, 3.47270403, 3.47270211,\n",
       "        3.4727015 , 3.47270053, 3.47269993, 3.47269881, 3.47269759]),\n",
       " array([0.00066082, 0.00094231, 0.00114296, 0.00130785, 0.00143611,\n",
       "        0.00156238, 0.00168361, 0.00179762, 0.00190559, 0.00200681,\n",
       "        0.00210296, 0.00219501, 0.00228342, 0.00236862, 0.00245086]),\n",
       " array([[3.47144534, 3.47403572],\n",
       "        [3.47087831, 3.47457208],\n",
       "        [3.47048578, 3.47496609],\n",
       "        [3.47009826, 3.47522495],\n",
       "        [3.46987587, 3.47550533],\n",
       "        [3.46964171, 3.47576614],\n",
       "        [3.46940615, 3.47600576],\n",
       "        [3.46918587, 3.47623242],\n",
       "        [3.46896913, 3.47643892],\n",
       "        [3.46876884, 3.47663538],\n",
       "        [3.46857978, 3.47682322],\n",
       "        [3.46839838, 3.47700267],\n",
       "        [3.46822451, 3.47717534],\n",
       "        [3.4680564 , 3.47734121],\n",
       "        [3.46789399, 3.47750118]]))"
      ]
     },
     "execution_count": 132,
     "metadata": {},
     "output_type": "execute_result"
    }
   ],
   "source": [
    "# let see the forecast\n",
    "model_arima_fit.forecast(15)\n"
   ]
  },
  {
   "cell_type": "markdown",
   "metadata": {},
   "source": [
    "### Data [5] `NNASDAQ.EBAY`"
   ]
  },
  {
   "cell_type": "code",
   "execution_count": 133,
   "metadata": {},
   "outputs": [],
   "source": [
    "stock_EBAY = stock_data[['NASDAQ.EBAY']].copy()"
   ]
  },
  {
   "cell_type": "code",
   "execution_count": 134,
   "metadata": {},
   "outputs": [
    {
     "data": {
      "text/html": [
       "<div>\n",
       "<style scoped>\n",
       "    .dataframe tbody tr th:only-of-type {\n",
       "        vertical-align: middle;\n",
       "    }\n",
       "\n",
       "    .dataframe tbody tr th {\n",
       "        vertical-align: top;\n",
       "    }\n",
       "\n",
       "    .dataframe thead th {\n",
       "        text-align: right;\n",
       "    }\n",
       "</style>\n",
       "<table border=\"1\" class=\"dataframe\">\n",
       "  <thead>\n",
       "    <tr style=\"text-align: right;\">\n",
       "      <th></th>\n",
       "      <th>NASDAQ.EBAY</th>\n",
       "    </tr>\n",
       "    <tr>\n",
       "      <th>DATE</th>\n",
       "      <th></th>\n",
       "    </tr>\n",
       "  </thead>\n",
       "  <tbody>\n",
       "    <tr>\n",
       "      <th>1970-01-18 06:13:46.200</th>\n",
       "      <td>33.3975</td>\n",
       "    </tr>\n",
       "    <tr>\n",
       "      <th>1970-01-18 06:13:46.260</th>\n",
       "      <td>33.3950</td>\n",
       "    </tr>\n",
       "    <tr>\n",
       "      <th>1970-01-18 06:13:46.320</th>\n",
       "      <td>33.4100</td>\n",
       "    </tr>\n",
       "    <tr>\n",
       "      <th>1970-01-18 06:13:46.380</th>\n",
       "      <td>33.3350</td>\n",
       "    </tr>\n",
       "    <tr>\n",
       "      <th>1970-01-18 06:13:46.440</th>\n",
       "      <td>33.4000</td>\n",
       "    </tr>\n",
       "  </tbody>\n",
       "</table>\n",
       "</div>"
      ],
      "text/plain": [
       "                         NASDAQ.EBAY\n",
       "DATE                                \n",
       "1970-01-18 06:13:46.200      33.3975\n",
       "1970-01-18 06:13:46.260      33.3950\n",
       "1970-01-18 06:13:46.320      33.4100\n",
       "1970-01-18 06:13:46.380      33.3350\n",
       "1970-01-18 06:13:46.440      33.4000"
      ]
     },
     "execution_count": 134,
     "metadata": {},
     "output_type": "execute_result"
    }
   ],
   "source": [
    "stock_EBAY.head()"
   ]
  },
  {
   "cell_type": "code",
   "execution_count": 135,
   "metadata": {},
   "outputs": [
    {
     "data": {
      "text/html": [
       "<div>\n",
       "<style scoped>\n",
       "    .dataframe tbody tr th:only-of-type {\n",
       "        vertical-align: middle;\n",
       "    }\n",
       "\n",
       "    .dataframe tbody tr th {\n",
       "        vertical-align: top;\n",
       "    }\n",
       "\n",
       "    .dataframe thead th {\n",
       "        text-align: right;\n",
       "    }\n",
       "</style>\n",
       "<table border=\"1\" class=\"dataframe\">\n",
       "  <thead>\n",
       "    <tr style=\"text-align: right;\">\n",
       "      <th></th>\n",
       "      <th>count</th>\n",
       "      <th>mean</th>\n",
       "      <th>std</th>\n",
       "      <th>min</th>\n",
       "      <th>25%</th>\n",
       "      <th>50%</th>\n",
       "      <th>75%</th>\n",
       "      <th>max</th>\n",
       "    </tr>\n",
       "  </thead>\n",
       "  <tbody>\n",
       "    <tr>\n",
       "      <th>NASDAQ.EBAY</th>\n",
       "      <td>41266.0</td>\n",
       "      <td>34.794506</td>\n",
       "      <td>1.099296</td>\n",
       "      <td>31.89</td>\n",
       "      <td>34.065</td>\n",
       "      <td>34.77</td>\n",
       "      <td>35.61</td>\n",
       "      <td>37.46</td>\n",
       "    </tr>\n",
       "  </tbody>\n",
       "</table>\n",
       "</div>"
      ],
      "text/plain": [
       "               count       mean       std    min     25%    50%    75%    max\n",
       "NASDAQ.EBAY  41266.0  34.794506  1.099296  31.89  34.065  34.77  35.61  37.46"
      ]
     },
     "execution_count": 135,
     "metadata": {},
     "output_type": "execute_result"
    }
   ],
   "source": [
    "stock_EBAY.describe().transpose()"
   ]
  },
  {
   "cell_type": "code",
   "execution_count": 136,
   "metadata": {},
   "outputs": [
    {
     "data": {
      "text/plain": [
       "NASDAQ.EBAY    41266\n",
       "dtype: int64"
      ]
     },
     "execution_count": 136,
     "metadata": {},
     "output_type": "execute_result"
    }
   ],
   "source": [
    "stock_EBAY.count()"
   ]
  },
  {
   "cell_type": "code",
   "execution_count": 137,
   "metadata": {},
   "outputs": [],
   "source": [
    "# Change values to log to view more clear plot\n",
    "stock_EBAY[\"EBAY_log\"]=stock_EBAY[\"NASDAQ.EBAY\"].apply(lambda x:np.log(x))\n"
   ]
  },
  {
   "cell_type": "code",
   "execution_count": 138,
   "metadata": {},
   "outputs": [
    {
     "data": {
      "image/png": "[encoded data removed]",
      "text/plain": [
       "<Figure size 864x576 with 2 Axes>"
      ]
     },
     "metadata": {},
     "output_type": "display_data"
    }
   ],
   "source": [
    "#  plots \n",
    "%matplotlib inline\n",
    "fig = plt.figure(figsize=(12,8))\n",
    "ax1 = fig.add_subplot(211)\n",
    "fig = sm.graphics.tsa.plot_acf(stock_EBAY[\"EBAY_log\"].values.squeeze(), lags=40, ax=ax1)\n",
    "ax2 = fig.add_subplot(212)\n",
    "fig = sm.graphics.tsa.plot_pacf(stock_EBAY[\"EBAY_log\"], lags=40, ax=ax2)\n"
   ]
  },
  {
   "cell_type": "code",
   "execution_count": 139,
   "metadata": {},
   "outputs": [
    {
     "data": {
      "image/png": "[encoded data removed]",
      "text/plain": [
       "<Figure size 864x576 with 1 Axes>"
      ]
     },
     "metadata": {},
     "output_type": "display_data"
    }
   ],
   "source": [
    "# Plotting Rolling Statistics and check for Statinalry\n",
    "rolmean = stock_EBAY.rolling(12).mean()\n",
    "rolstd = stock_EBAY.rolling(12).std()\n",
    "plt.figure(figsize=(12,8)) \n",
    "plt.plot( stock_EBAY, color='blue',label='Original')\n",
    "plt.plot(rolmean, color='red', label='Rolling Mean')\n",
    "plt.plot(rolstd, color='black', label = 'Rolling Std')\n",
    "plt.legend(loc='best')\n",
    "plt.title('Rolling Mean & Standard Deviation')\n",
    "plt.show()\n",
    "# Note: Moving mean and moving std at any instant time 't', we take the mean/std fo the last\n",
    "# year which in this case is 12 months.\n"
   ]
  },
  {
   "cell_type": "code",
   "execution_count": null,
   "metadata": {},
   "outputs": [],
   "source": []
  },
  {
   "cell_type": "code",
   "execution_count": 140,
   "metadata": {},
   "outputs": [
    {
     "name": "stdout",
     "output_type": "stream",
     "text": [
      "Augmented Dickey-Fuller Test:\n",
      "ADF Test Statistic : -1.8796533095759245\n",
      "p-value : 0.3416925338017296\n",
      "#Lags Used : 47\n",
      "Number of Observations Used : 41218\n",
      "weak evidence against null hypothesis, time series has a unit root, indicating it is non-stationary \n"
     ]
    }
   ],
   "source": [
    "adf_check(stock_EBAY[\"EBAY_log\"])"
   ]
  },
  {
   "cell_type": "code",
   "execution_count": 142,
   "metadata": {},
   "outputs": [
    {
     "data": {
      "text/plain": [
       "DATE\n",
       "1970-01-18 06:13:46.200         NaN\n",
       "1970-01-18 06:13:46.260   -0.000075\n",
       "1970-01-18 06:13:46.320    0.000449\n",
       "1970-01-18 06:13:46.380   -0.002247\n",
       "1970-01-18 06:13:46.440    0.001948\n",
       "1970-01-18 06:13:46.500    0.000898\n",
       "1970-01-18 06:13:46.560    0.001046\n",
       "1970-01-18 06:13:46.620    0.001940\n",
       "1970-01-18 06:13:46.680    0.001043\n",
       "1970-01-18 06:13:46.740    0.001042\n",
       "Name: EBAY_log, dtype: float64"
      ]
     },
     "execution_count": 142,
     "metadata": {},
     "output_type": "execute_result"
    }
   ],
   "source": [
    "first_diff_EBAY = stock_EBAY[\"EBAY_log\"] - stock_EBAY[\"EBAY_log\"].shift(1)\n",
    "first_diff_EBAY.head(10) \n"
   ]
  },
  {
   "cell_type": "code",
   "execution_count": 143,
   "metadata": {},
   "outputs": [
    {
     "name": "stdout",
     "output_type": "stream",
     "text": [
      "Augmented Dickey-Fuller Test:\n",
      "ADF Test Statistic : -30.65636344492932\n",
      "p-value : 0.0\n",
      "#Lags Used : 46\n",
      "Number of Observations Used : 41218\n",
      "strong evidence against the null hypothesis, reject the null hypothesis. Data has no unit root and is stationary\n"
     ]
    }
   ],
   "source": [
    "adf_check(first_diff_EBAY.dropna())"
   ]
  },
  {
   "cell_type": "code",
   "execution_count": 144,
   "metadata": {},
   "outputs": [
    {
     "data": {
      "text/plain": [
       "<matplotlib.axes._subplots.AxesSubplot at 0x1788c219f60>"
      ]
     },
     "execution_count": 144,
     "metadata": {},
     "output_type": "execute_result"
    },
    {
     "data": {
      "image/png": "[encoded data removed]",
      "text/plain": [
       "<Figure size 432x288 with 1 Axes>"
      ]
     },
     "metadata": {},
     "output_type": "display_data"
    }
   ],
   "source": [
    "first_diff_EBAY.plot()"
   ]
  },
  {
   "cell_type": "code",
   "execution_count": 145,
   "metadata": {},
   "outputs": [
    {
     "data": {
      "image/png": "[encoded data removed]",
      "text/plain": [
       "<Figure size 432x288 with 1 Axes>"
      ]
     },
     "metadata": {},
     "output_type": "display_data"
    }
   ],
   "source": [
    "from statsmodels.graphics.tsaplots import plot_acf,plot_pacf\n",
    "fig_first = plot_acf(first_diff_EBAY.dropna())\n",
    "\n"
   ]
  },
  {
   "cell_type": "code",
   "execution_count": 146,
   "metadata": {},
   "outputs": [
    {
     "name": "stdout",
     "output_type": "stream",
     "text": [
      "(0, 1, 0) -486538.7533912184\n",
      "(0, 1, 1) -486602.16899928125\n",
      "(0, 1, 2) -486602.6289060174\n",
      "(0, 1, 3) -486600.58634705073\n",
      "(1, 1, 0) -486603.1022564465\n",
      "(1, 1, 1) -486602.43095997244\n",
      "(1, 1, 2) -486600.75200824265\n",
      "(2, 1, 0) -486602.718164505\n",
      "(2, 1, 1) -486600.71749242663\n",
      "(2, 1, 2) -486598.77385617676\n",
      "(3, 1, 0) -486600.7221205102\n",
      "(3, 1, 1) -486598.7147355977\n",
      "(3, 1, 2) -486596.7446473406\n",
      "(3, 1, 3) -486607.1305494999\n",
      "(4, 1, 0) -486609.64758105227\n",
      "(4, 1, 1) -486607.4210882506\n",
      "(4, 1, 2) -486605.4085979054\n",
      "(4, 1, 3) -486603.41639129317\n",
      "(5, 1, 0) -486610.5052059593\n",
      "(5, 1, 1) -486608.4774668673\n",
      "(5, 1, 2) -486606.48345309915\n",
      "(5, 1, 3) -486604.48207123845\n",
      "Best Model is : (5, 1, 0)\n"
     ]
    }
   ],
   "source": [
    "import warnings\n",
    "warnings.filterwarnings('ignore')\n",
    "ararray =stock_EBAY['EBAY_log'].values\n",
    "pdq=[]\n",
    "aic=[]\n",
    "d=1\n",
    "for p in range(6):\n",
    "    for q in range(4):\n",
    "        \n",
    "        try:\n",
    "            model = ARIMA(ararray,order=(p,d,q)) \n",
    "            arima_results = model.fit()\n",
    "            aic.append(arima_results.aic)\n",
    "            pdq.append((p,d,q))\n",
    "            print((p,d,q),arima_results.aic)\n",
    "        except:\n",
    "            continue\n",
    "keys = pdq\n",
    "values = aic\n",
    "\n",
    "d = dict(zip(keys, values))\n",
    "minaic=min(d, key=d.get)\n",
    "\n",
    "for i in range(3):\n",
    "    p=minaic[0]\n",
    "    d=minaic[1]\n",
    "    q=minaic[2]\n",
    "print (\"Best Model is :\", (p,d,q))\n",
    "\n",
    "#p,d,q \n",
    "#p -> Periods taken for auto regressive model\n",
    "#d -> Integrated order, difference\n",
    "#q -> Periods in moving average model\n"
   ]
  },
  {
   "cell_type": "code",
   "execution_count": 147,
   "metadata": {},
   "outputs": [
    {
     "name": "stdout",
     "output_type": "stream",
     "text": [
      "-486610.5052059593\n"
     ]
    }
   ],
   "source": [
    "model_arima = ARIMA(stock_EBAY[\"EBAY_log\"],order=(5,1,0))\n",
    "model_arima_fit = model_arima.fit()\n",
    "print(model_arima_fit.aic)\n"
   ]
  },
  {
   "cell_type": "code",
   "execution_count": 148,
   "metadata": {},
   "outputs": [
    {
     "data": {
      "text/html": [
       "<table class=\"simpletable\">\n",
       "<tr>\n",
       "        <td>Model:</td>              <td>ARIMA</td>              <td>BIC:</td>         <td>-486550.1108</td>\n",
       "</tr>\n",
       "<tr>\n",
       "  <td>Dependent Variable:</td>    <td>D.EBAY_log</td>       <td>Log-Likelihood:</td>    <td>2.4331e+05</td> \n",
       "</tr>\n",
       "<tr>\n",
       "         <td>Date:</td>        <td>2019-01-12 15:14</td>        <td>Scale:</td>           <td>1.0000</td>   \n",
       "</tr>\n",
       "<tr>\n",
       "   <td>No. Observations:</td>        <td>41265</td>             <td>Method:</td>          <td>css-mle</td>  \n",
       "</tr>\n",
       "<tr>\n",
       "       <td>Df Model:</td>              <td>6</td>               <td>Sample:</td>             <td>1</td>     \n",
       "</tr>\n",
       "<tr>\n",
       "     <td>Df Residuals:</td>          <td>41259</td>                <td></td>                 <td>6</td>     \n",
       "</tr>\n",
       "<tr>\n",
       "      <td>Converged:</td>           <td>1.0000</td>      <td>S.D. of innovations:</td>     <td>0.001</td>   \n",
       "</tr>\n",
       "<tr>\n",
       "    <td>No. Iterations:</td>        <td>2.0000</td>              <td>HQIC:</td>         <td>-486591.417</td>\n",
       "</tr>\n",
       "<tr>\n",
       "         <td>AIC:</td>           <td>-486610.5052</td>             <td></td>                 <td></td>      \n",
       "</tr>\n",
       "</table>\n",
       "<table class=\"simpletable\">\n",
       "<tr>\n",
       "          <td></td>          <th>Coef.</th>  <th>Std.Err.</th>    <th>t</th>     <th>P>|t|</th> <th>[0.025</th>  <th>0.975]</th> \n",
       "</tr>\n",
       "<tr>\n",
       "  <th>const</th>            <td>0.0000</td>   <td>0.0000</td>  <td>0.6056</td>  <td>0.5448</td> <td>-0.0000</td> <td>0.0000</td> \n",
       "</tr>\n",
       "<tr>\n",
       "  <th>ar.L1.D.EBAY_log</th> <td>-0.0395</td>  <td>0.0049</td>  <td>-8.0259</td> <td>0.0000</td> <td>-0.0492</td> <td>-0.0299</td>\n",
       "</tr>\n",
       "<tr>\n",
       "  <th>ar.L2.D.EBAY_log</th> <td>0.0065</td>   <td>0.0049</td>  <td>1.3101</td>  <td>0.1902</td> <td>-0.0032</td> <td>0.0161</td> \n",
       "</tr>\n",
       "<tr>\n",
       "  <th>ar.L3.D.EBAY_log</th> <td>-0.0004</td>  <td>0.0049</td>  <td>-0.0804</td> <td>0.9359</td> <td>-0.0101</td> <td>0.0093</td> \n",
       "</tr>\n",
       "<tr>\n",
       "  <th>ar.L4.D.EBAY_log</th> <td>-0.0159</td>  <td>0.0049</td>  <td>-3.2347</td> <td>0.0012</td> <td>-0.0256</td> <td>-0.0063</td>\n",
       "</tr>\n",
       "<tr>\n",
       "  <th>ar.L5.D.EBAY_log</th> <td>0.0083</td>   <td>0.0049</td>  <td>1.6904</td>  <td>0.0910</td> <td>-0.0013</td> <td>0.0180</td> \n",
       "</tr>\n",
       "</table>\n",
       "<table class=\"simpletable\">\n",
       "<tr>\n",
       "    <td></td>    <th>Real</th>   <th>Imaginary</th> <th>Modulus</th> <th>Frequency</th>\n",
       "</tr>\n",
       "<tr>\n",
       "  <th>AR.1</th> <td>-1.8048</td>  <td>-1.4256</td>  <td>2.2999</td>   <td>-0.3936</td> \n",
       "</tr>\n",
       "<tr>\n",
       "  <th>AR.2</th> <td>-1.8048</td>  <td>1.4256</td>   <td>2.2999</td>   <td>0.3936</td>  \n",
       "</tr>\n",
       "<tr>\n",
       "  <th>AR.3</th> <td>1.1730</td>   <td>-2.4023</td>  <td>2.6734</td>   <td>-0.1777</td> \n",
       "</tr>\n",
       "<tr>\n",
       "  <th>AR.4</th> <td>1.1730</td>   <td>2.4023</td>   <td>2.6734</td>   <td>0.1777</td>  \n",
       "</tr>\n",
       "<tr>\n",
       "  <th>AR.5</th> <td>3.1783</td>   <td>-0.0000</td>  <td>3.1783</td>   <td>-0.0000</td> \n",
       "</tr>\n",
       "</table>"
      ],
      "text/plain": [
       "<class 'statsmodels.iolib.summary2.Summary'>\n",
       "\"\"\"\n",
       "                            Results: ARIMA\n",
       "======================================================================\n",
       "Model:              ARIMA            BIC:                 -486550.1108\n",
       "Dependent Variable: D.EBAY_log       Log-Likelihood:      2.4331e+05  \n",
       "Date:               2019-01-12 15:14 Scale:               1.0000      \n",
       "No. Observations:   41265            Method:              css-mle     \n",
       "Df Model:           6                Sample:              1           \n",
       "Df Residuals:       41259                                 6           \n",
       "Converged:          1.0000           S.D. of innovations: 0.001       \n",
       "No. Iterations:     2.0000           HQIC:                -486591.417 \n",
       "AIC:                -486610.5052                                      \n",
       "-----------------------------------------------------------------------\n",
       "                    Coef.   Std.Err.     t     P>|t|    [0.025   0.975]\n",
       "-----------------------------------------------------------------------\n",
       "const               0.0000    0.0000   0.6056  0.5448  -0.0000   0.0000\n",
       "ar.L1.D.EBAY_log   -0.0395    0.0049  -8.0259  0.0000  -0.0492  -0.0299\n",
       "ar.L2.D.EBAY_log    0.0065    0.0049   1.3101  0.1902  -0.0032   0.0161\n",
       "ar.L3.D.EBAY_log   -0.0004    0.0049  -0.0804  0.9359  -0.0101   0.0093\n",
       "ar.L4.D.EBAY_log   -0.0159    0.0049  -3.2347  0.0012  -0.0256  -0.0063\n",
       "ar.L5.D.EBAY_log    0.0083    0.0049   1.6904  0.0910  -0.0013   0.0180\n",
       "--------------------------------------------------------------------------------\n",
       "                 Real            Imaginary           Modulus           Frequency\n",
       "--------------------------------------------------------------------------------\n",
       "AR.1           -1.8048             -1.4256            2.2999             -0.3936\n",
       "AR.2           -1.8048              1.4256            2.2999              0.3936\n",
       "AR.3            1.1730             -2.4023            2.6734             -0.1777\n",
       "AR.4            1.1730              2.4023            2.6734              0.1777\n",
       "AR.5            3.1783             -0.0000            3.1783             -0.0000\n",
       "======================================================================\n",
       "\n",
       "\"\"\""
      ]
     },
     "execution_count": 148,
     "metadata": {},
     "output_type": "execute_result"
    }
   ],
   "source": [
    "#Experimental summary function for ARIMA Results\n",
    "model_arima_fit.summary2()\n"
   ]
  },
  {
   "cell_type": "code",
   "execution_count": 149,
   "metadata": {},
   "outputs": [
    {
     "data": {
      "text/plain": [
       "(array([3.58711616, 3.58711918, 3.5871253 , 3.58712035, 3.58712499,\n",
       "        3.58712664, 3.58712852, 3.58713057, 3.58713237, 3.58713431,\n",
       "        3.58713621, 3.58713811, 3.58714002, 3.58714192, 3.58714383]),\n",
       " array([0.0006653 , 0.00092248, 0.00112523, 0.00129634, 0.00144271,\n",
       "        0.0015781 , 0.00170253, 0.00181851, 0.00192758, 0.00203073,\n",
       "        0.00212891, 0.00222276, 0.0023128 , 0.00239947, 0.00248311]),\n",
       " array([[3.5858122 , 3.58842013],\n",
       "        [3.58531116, 3.5889272 ],\n",
       "        [3.58491989, 3.58933071],\n",
       "        [3.58457957, 3.58966113],\n",
       "        [3.58429733, 3.58995264],\n",
       "        [3.58403362, 3.59021967],\n",
       "        [3.58379162, 3.59046543],\n",
       "        [3.58356635, 3.59069479],\n",
       "        [3.58335439, 3.59091035],\n",
       "        [3.58315415, 3.59111447],\n",
       "        [3.58296361, 3.5913088 ],\n",
       "        [3.58278158, 3.59149464],\n",
       "        [3.58260701, 3.59167303],\n",
       "        [3.58243905, 3.5918448 ],\n",
       "        [3.58227702, 3.59201064]]))"
      ]
     },
     "execution_count": 149,
     "metadata": {},
     "output_type": "execute_result"
    }
   ],
   "source": [
    "# let see the forecast\n",
    "model_arima_fit.forecast(15)\n"
   ]
  },
  {
   "cell_type": "code",
   "execution_count": null,
   "metadata": {},
   "outputs": [],
   "source": []
  }
 ],
 "metadata": {
  "kernelspec": {
   "display_name": "Python 3",
   "language": "python",
   "name": "python3"
  },
  "language_info": {
   "codemirror_mode": {
    "name": "ipython",
    "version": 3
   },
   "file_extension": ".py",
   "mimetype": "text/x-python",
   "name": "python",
   "nbconvert_exporter": "python",
   "pygments_lexer": "ipython3",
   "version": "3.6.5"
  }
 },
 "nbformat": 4,
 "nbformat_minor": 2
}
